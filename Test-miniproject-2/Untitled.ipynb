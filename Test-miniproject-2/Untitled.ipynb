{
 "cells": [
  {
   "cell_type": "code",
   "execution_count": 1,
   "id": "502cfbbd",
   "metadata": {},
   "outputs": [],
   "source": [
    "import torch\n",
    "import numpy as np\n",
    "import matplotlib.pyplot as plt\n",
    "from itertools import islice\n",
    "\n",
    "from torch import nn\n",
    "from torch.nn import functional as F\n",
    "\n",
    "import sys \n",
    "import getpass\n",
    "\n",
    "sys.path.append('../')\n",
    "from Miniproject_2.model import *"
   ]
  },
  {
   "cell_type": "code",
   "execution_count": 2,
   "id": "7f0aa637",
   "metadata": {},
   "outputs": [],
   "source": [
    "def test_init_weights(model):\n",
    "    if isinstance(model,nn.Conv2d) or isinstance(model,nn.ConvTranspose2d):\n",
    "        model.weight.data.normal_(0,0.5, generator=torch.manual_seed(0))"
   ]
  },
  {
   "cell_type": "code",
   "execution_count": 3,
   "id": "96cf9bc0",
   "metadata": {},
   "outputs": [],
   "source": [
    "stride = ks = 2"
   ]
  },
  {
   "cell_type": "code",
   "execution_count": null,
   "id": "86119d73",
   "metadata": {},
   "outputs": [],
   "source": [
    "class Net(nn.Module):\n",
    "    def __init__(self, hidden=200):\n",
    "        super().__init__()\n",
    "        self.conv1 = nn.Conv2d(in_channels=3, out_channels=5,  kernel_size=2)\n",
    "        self.conv2 = nn.Conv2d(in_channels=5, out_channels=5,  kernel_size=2)\n",
    "        self.tconv1 = nn.ConvTranspose2d(in_channels=5, out_channels=5,\\\n",
    "                                    kernel_size=ks, stride=stride, padding=0, dilation=1)\n",
    "        self.tconv2 = nn.ConvTranspose2d(in_channels=3, out_channels=5,\\\n",
    "                                    kernel_size=ks, stride=stride, padding=0, dilation=1)\n",
    "\n",
    "\n",
    "    def forward(self, x):\n",
    "        x = self.conv1(x)\n",
    "        x = F.relu(x)\n",
    "        x = self.conv2(x)\n",
    "        x = F.relu(x)\n",
    "        x = self.tconv1(x)\n",
    "        x = F.relu(x)\n",
    "        x = self.tconv2(x)\n",
    "        x = F.sigmoid(x)\n",
    "        return x"
   ]
  },
  {
   "cell_type": "code",
   "execution_count": null,
   "id": "c7bfd3e5",
   "metadata": {},
   "outputs": [],
   "source": []
  },
  {
   "cell_type": "code",
   "execution_count": null,
   "id": "47674299",
   "metadata": {},
   "outputs": [],
   "source": []
  },
  {
   "cell_type": "code",
   "execution_count": null,
   "id": "322bd07d",
   "metadata": {},
   "outputs": [],
   "source": []
  },
  {
   "cell_type": "code",
   "execution_count": 22,
   "id": "4aeb7016",
   "metadata": {},
   "outputs": [],
   "source": [
    "conv1 = nn.Conv2d(in_channels=3, out_channels=5,  kernel_size=2)\n",
    "conv2 = nn.Conv2d(in_channels=5, out_channels=5,  kernel_size=2)\n",
    "\n",
    "tconv1 = nn.ConvTranspose2d(in_channels=5, out_channels=5,  kernel_size=ks, stride=stride, padding=0, dilation=1)\n",
    "tconv2 = nn.ConvTranspose2d(in_channels=3, out_channels=5,  kernel_size=ks, stride=stride, padding=0, dilation=1)\n",
    "\n",
    "relu = nn.ReLU()\n",
    "sigmoid = nn.Sigmoid()\n",
    "\n",
    "Net = nn.Sequential(conv1, relu, conv2, relu, tconv1, relu, tconv2, sigmoid)\n",
    "Net.apply(test_init_weights);"
   ]
  },
  {
   "cell_type": "code",
   "execution_count": 19,
   "id": "689d467f",
   "metadata": {},
   "outputs": [
    {
     "data": {
      "text/plain": [
       "Parameter containing:\n",
       "tensor([ 0.0080, -0.0249,  0.0584,  0.1836,  0.2734], requires_grad=True)"
      ]
     },
     "execution_count": 19,
     "metadata": {},
     "output_type": "execute_result"
    }
   ],
   "source": [
    "pp = Net.parameters()\n",
    "#list(islice(pp,1,2))[0]\n",
    "list(pp)[1]"
   ]
  },
  {
   "cell_type": "code",
   "execution_count": 6,
   "id": "b6d81f70",
   "metadata": {},
   "outputs": [],
   "source": [
    "my_conv1 = Conv2d(in_channels=3, out_channels=5,  kernel_size=2)\n",
    "my_conv2 = Conv2d(in_channels=5, out_channels=5,  kernel_size=2)\n",
    "\n",
    "\n",
    "my_tconv1 = TransposeConv2d(in_channels=5, out_channels=5,  kernel_size=ks, stride=stride, padding=0, dilation=1)\n",
    "my_tconv2 = TransposeConv2d(in_channels=3, out_channels=5,  kernel_size=ks, stride=stride, padding=0, dilation=1)\n",
    "\n",
    "my_relu = ReLU()\n",
    "my_sigmoid = Sigmoid()\n",
    "\n",
    "my_Net = Sequential(conv1, relu, conv2, relu, tconv1, relu, tconv2, sigmoid, initialize=False)"
   ]
  },
  {
   "cell_type": "code",
   "execution_count": null,
   "id": "50daf029",
   "metadata": {},
   "outputs": [],
   "source": []
  },
  {
   "cell_type": "code",
   "execution_count": null,
   "id": "b218b060",
   "metadata": {},
   "outputs": [],
   "source": []
  },
  {
   "cell_type": "code",
   "execution_count": null,
   "id": "7b037e80",
   "metadata": {},
   "outputs": [],
   "source": []
  },
  {
   "cell_type": "code",
   "execution_count": null,
   "id": "329c3302",
   "metadata": {},
   "outputs": [],
   "source": []
  },
  {
   "cell_type": "code",
   "execution_count": null,
   "id": "af7c24bc",
   "metadata": {},
   "outputs": [],
   "source": []
  },
  {
   "cell_type": "code",
   "execution_count": 4,
   "id": "6279db35",
   "metadata": {},
   "outputs": [],
   "source": [
    "stride = kernel_size = 2\n",
    "\n",
    "conv1 = Conv2d(3,5, ks, stride=stride, padding=0, dilation=1)\n",
    "relu1 = Relu()\n",
    "conv2 = Conv2d(5,5,kernel_size, stride=stride, padding=0, dilation=1)\n",
    "relu2 = Relu()\n",
    "tconv3 = ConvTranspose2d(5,5, kernel_size, stride=stride, padding=0, dilation=1)\n",
    "relu3 = Relu()\n",
    "tconv4 = ConvTranspose2d(5,3, kernel_size, stride=stride, padding=0, dilation=1)\n",
    "sig4 = Sigmoid()\n",
    "\n",
    "net = Sequential(conv1,  \n",
    "                relu1,  \n",
    "                conv2, \n",
    "                relu2, \n",
    "                tconv3,\n",
    "                relu3, \n",
    "                tconv4,\n",
    "                sig4\n",
    "                )"
   ]
  },
  {
   "cell_type": "code",
   "execution_count": null,
   "id": "809df3ac",
   "metadata": {},
   "outputs": [],
   "source": []
  },
  {
   "cell_type": "code",
   "execution_count": null,
   "id": "da72e49e",
   "metadata": {},
   "outputs": [],
   "source": []
  },
  {
   "cell_type": "code",
   "execution_count": null,
   "id": "145c77c2",
   "metadata": {},
   "outputs": [],
   "source": []
  },
  {
   "cell_type": "code",
   "execution_count": null,
   "id": "5c17494e",
   "metadata": {},
   "outputs": [],
   "source": []
  },
  {
   "cell_type": "code",
   "execution_count": null,
   "id": "b24f894a",
   "metadata": {},
   "outputs": [],
   "source": []
  },
  {
   "cell_type": "code",
   "execution_count": null,
   "id": "7918b40e",
   "metadata": {},
   "outputs": [],
   "source": []
  },
  {
   "cell_type": "code",
   "execution_count": null,
   "id": "899ea04c",
   "metadata": {},
   "outputs": [],
   "source": []
  }
 ],
 "metadata": {
  "kernelspec": {
   "display_name": "Python 3 (ipykernel)",
   "language": "python",
   "name": "python3"
  },
  "language_info": {
   "codemirror_mode": {
    "name": "ipython",
    "version": 3
   },
   "file_extension": ".py",
   "mimetype": "text/x-python",
   "name": "python",
   "nbconvert_exporter": "python",
   "pygments_lexer": "ipython3",
   "version": "3.9.12"
  }
 },
 "nbformat": 4,
 "nbformat_minor": 5
}
