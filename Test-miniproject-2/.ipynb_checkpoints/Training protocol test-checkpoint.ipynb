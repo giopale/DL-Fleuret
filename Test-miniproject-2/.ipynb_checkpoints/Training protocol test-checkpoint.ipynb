{
 "cells": [
  {
   "cell_type": "code",
   "execution_count": 1,
   "id": "42aef774",
   "metadata": {},
   "outputs": [],
   "source": [
    "import torch\n",
    "import numpy as np\n",
    "import matplotlib.pyplot as plt\n",
    "from itertools import islice\n",
    "\n",
    "from torch import nn\n",
    "from torch.nn import functional as F\n",
    "\n",
    "import sys \n",
    "import getpass\n",
    "\n",
    "sys.path.append('../Proj_308427_348143_XXXXXX')\n",
    "from Miniproject_2.model import *\n",
    "torch.set_grad_enabled(True);"
   ]
  },
  {
   "cell_type": "code",
   "execution_count": null,
   "id": "03ae0019",
   "metadata": {},
   "outputs": [],
   "source": []
  },
  {
   "cell_type": "code",
   "execution_count": 2,
   "id": "84cbf4e7",
   "metadata": {},
   "outputs": [],
   "source": [
    "train_in, train_tg = torch.load('../train_data.pkl')\n",
    "train_in = train_in[:1000].float()/255.\n",
    "train_tg = train_tg[:1000].float()/255.\n",
    "\n",
    "val_in, val_tg = torch.load('../val_data.pkl')\n",
    "val_in = val_in.float()/255.\n",
    "val_tg = val_tg.float()/255.\n",
    "\n",
    "bs = 16\n",
    "ne = 20"
   ]
  },
  {
   "cell_type": "code",
   "execution_count": null,
   "id": "3de79c88",
   "metadata": {},
   "outputs": [],
   "source": []
  },
  {
   "cell_type": "code",
   "execution_count": 3,
   "id": "93ff6abd",
   "metadata": {},
   "outputs": [],
   "source": [
    "def nn_init_weights(model):\n",
    "    if isinstance(model,nn.Conv2d) or isinstance(model,nn.ConvTranspose2d):\n",
    "        xavier_normal_(model.weight.data)"
   ]
  },
  {
   "cell_type": "code",
   "execution_count": 11,
   "id": "3cca2627",
   "metadata": {},
   "outputs": [],
   "source": [
    "def train_nn(model, criterion, train_input, train_target, mini_batch_size, nb_epochs, eta=0.75, optimize=False):\n",
    "    if optimize: optimizer = torch.optim.SGD(model.parameters(), lr=eta, )\n",
    "    \n",
    "    for e in range(nb_epochs):\n",
    "        for inputs, targets in zip(train_input.split(mini_batch_size), train_target.split(mini_batch_size)):\n",
    "            output = model(inputs)\n",
    "            loss = criterion(output, targets)\n",
    "\n",
    "            model.zero_grad()\n",
    "            loss.backward()\n",
    "            \n",
    "            if optimize:\n",
    "                optimizer.step()\n",
    "            else:\n",
    "                with torch.no_grad():\n",
    "                    for p in model.parameters(): p -= eta * p.grad\n",
    "        print(\"\\rCompleted: %d/%d\"%(e+1,nb_epochs), end=' ')\n",
    "    return "
   ]
  },
  {
   "cell_type": "code",
   "execution_count": 12,
   "id": "b7e230cd",
   "metadata": {},
   "outputs": [],
   "source": [
    "stride = ks = 2\n",
    "\n",
    "conv1  = nn.Conv2d(in_channels=3, out_channels=32,  kernel_size=ks, stride=stride, bias=True)\n",
    "conv2  = nn.Conv2d(in_channels=32, out_channels=32,  kernel_size=ks, stride=stride, bias=True)\n",
    "\n",
    "tconv1 = nn.ConvTranspose2d(in_channels=32, out_channels=32,  kernel_size=ks,\\\n",
    "                            stride=stride, padding=0, dilation=1, bias=True)\n",
    "tconv2 = nn.ConvTranspose2d(in_channels=32, out_channels=3,  kernel_size=ks,\\\n",
    "                            stride=stride, padding=0, dilation=1, bias=True)\n",
    "\n",
    "relu      = nn.ReLU()\n",
    "sigmoid   = nn.Sigmoid()\n",
    "criterion = nn.MSELoss()\n",
    "\n",
    "\n",
    "Net = nn.Sequential(conv1, relu, conv2, relu, tconv1, relu, tconv2, sigmoid)\n",
    "Net.apply(nn_init_weights);"
   ]
  },
  {
   "cell_type": "code",
   "execution_count": 14,
   "id": "5e40dd04",
   "metadata": {},
   "outputs": [
    {
     "name": "stdout",
     "output_type": "stream",
     "text": [
      "Completed: 20/20 CPU times: user 23.7 s, sys: 19.9 ms, total: 23.7 s\n",
      "Wall time: 1.98 s\n"
     ]
    }
   ],
   "source": [
    "%time train_nn(Net, criterion, train_in, train_tg, bs, ne, optimize=False)"
   ]
  },
  {
   "cell_type": "code",
   "execution_count": 15,
   "id": "9b99fe67",
   "metadata": {},
   "outputs": [
    {
     "data": {
      "image/png": "[encoded data removed]",
      "text/plain": [
       "<Figure size 936x720 with 3 Axes>"
      ]
     },
     "metadata": {
      "needs_background": "light"
     },
     "output_type": "display_data"
    }
   ],
   "source": [
    "idx = 161\n",
    "fig, ax = plt.subplots(1,3,figsize=(13,10))\n",
    "\n",
    "with torch.no_grad():\n",
    "    ax[0].imshow(val_in[idx].permute(1,2,0))\n",
    "    ax[1].imshow(Net(val_in)[idx].permute(1,2,0))\n",
    "    ax[2].imshow(val_tg[idx].permute(1,2,0))"
   ]
  },
  {
   "cell_type": "code",
   "execution_count": null,
   "id": "8164c95f",
   "metadata": {},
   "outputs": [],
   "source": []
  },
  {
   "cell_type": "code",
   "execution_count": 16,
   "id": "f051c423",
   "metadata": {},
   "outputs": [
    {
     "name": "stdout",
     "output_type": "stream",
     "text": [
      "Completed: 20/20 CPU times: user 1min 25s, sys: 19.9 ms, total: 1min 25s\n",
      "Wall time: 7.14 s\n"
     ]
    }
   ],
   "source": [
    "mod = Model()\n",
    "%time mod.train(train_in, train_tg, ne)"
   ]
  },
  {
   "cell_type": "code",
   "execution_count": 17,
   "id": "9266841c",
   "metadata": {},
   "outputs": [
    {
     "data": {
      "image/png": "[encoded data removed]",
      "text/plain": [
       "<Figure size 936x720 with 3 Axes>"
      ]
     },
     "metadata": {
      "needs_background": "light"
     },
     "output_type": "display_data"
    }
   ],
   "source": [
    "idx = 161\n",
    "fig, ax = plt.subplots(1,3,figsize=(13,10))\n",
    "\n",
    "with torch.no_grad():\n",
    "    ax[0].imshow(val_in[idx].permute(1,2,0))\n",
    "    ax[1].imshow(mod.predict(val_in)[idx].permute(1,2,0))\n",
    "    ax[2].imshow(val_tg[idx].permute(1,2,0))"
   ]
  },
  {
   "cell_type": "code",
   "execution_count": 19,
   "id": "fb067256",
   "metadata": {},
   "outputs": [],
   "source": [
    "#mod.save('bestmodel.pth')"
   ]
  },
  {
   "cell_type": "code",
   "execution_count": null,
   "id": "ed0f97ce",
   "metadata": {},
   "outputs": [],
   "source": []
  },
  {
   "cell_type": "markdown",
   "id": "efa50f55",
   "metadata": {},
   "source": [
    "## State dict tests"
   ]
  },
  {
   "cell_type": "code",
   "execution_count": 2,
   "id": "c459f509",
   "metadata": {},
   "outputs": [],
   "source": [
    "mod = Model()"
   ]
  },
  {
   "cell_type": "code",
   "execution_count": 7,
   "id": "d26c9ee1",
   "metadata": {},
   "outputs": [
    {
     "data": {
      "text/plain": [
       "tensor([[-0.1146,  0.0402],\n",
       "        [-0.1088,  0.0040]])"
      ]
     },
     "execution_count": 7,
     "metadata": {},
     "output_type": "execute_result"
    }
   ],
   "source": [
    "mod.net.state_dict['0.weights'][0,0]"
   ]
  },
  {
   "cell_type": "code",
   "execution_count": 11,
   "id": "e7b56d7b",
   "metadata": {},
   "outputs": [
    {
     "data": {
      "text/plain": [
       "tensor([[-0.1146,  0.0402],\n",
       "        [-0.1088,  0.0040]])"
      ]
     },
     "execution_count": 11,
     "metadata": {},
     "output_type": "execute_result"
    }
   ],
   "source": [
    "mod.net._modules['0'].weight[0,0]"
   ]
  },
  {
   "cell_type": "code",
   "execution_count": 12,
   "id": "c87a8abe",
   "metadata": {},
   "outputs": [],
   "source": [
    "mod.net._modules['0'].weight *= 0"
   ]
  },
  {
   "cell_type": "code",
   "execution_count": 13,
   "id": "5742994c",
   "metadata": {},
   "outputs": [
    {
     "data": {
      "text/plain": [
       "tensor([[-0., 0.],\n",
       "        [-0., 0.]])"
      ]
     },
     "execution_count": 13,
     "metadata": {},
     "output_type": "execute_result"
    }
   ],
   "source": [
    "mod.net._modules['0'].weight[0,0]"
   ]
  },
  {
   "cell_type": "code",
   "execution_count": 14,
   "id": "009dfa9f",
   "metadata": {},
   "outputs": [
    {
     "data": {
      "text/plain": [
       "tensor([[-0., 0.],\n",
       "        [-0., 0.]])"
      ]
     },
     "execution_count": 14,
     "metadata": {},
     "output_type": "execute_result"
    }
   ],
   "source": [
    "mod.net.state_dict['0.weights'][0,0]"
   ]
  },
  {
   "cell_type": "code",
   "execution_count": 15,
   "id": "1222532d",
   "metadata": {},
   "outputs": [],
   "source": [
    "mod.save('testmodel.pth')"
   ]
  },
  {
   "cell_type": "code",
   "execution_count": null,
   "id": "aeed2804",
   "metadata": {},
   "outputs": [],
   "source": []
  },
  {
   "cell_type": "code",
   "execution_count": 16,
   "id": "c3d03548",
   "metadata": {},
   "outputs": [],
   "source": [
    "mod1 = Model()"
   ]
  },
  {
   "cell_type": "code",
   "execution_count": 17,
   "id": "a86a7298",
   "metadata": {},
   "outputs": [
    {
     "data": {
      "text/plain": [
       "tensor([[ 0.1958, -0.1610],\n",
       "        [-0.0471,  0.3386]])"
      ]
     },
     "execution_count": 17,
     "metadata": {},
     "output_type": "execute_result"
    }
   ],
   "source": [
    "mod1.net.state_dict['0.weights'][0,0]"
   ]
  },
  {
   "cell_type": "code",
   "execution_count": 18,
   "id": "0049f2c0",
   "metadata": {},
   "outputs": [
    {
     "data": {
      "text/plain": [
       "tensor([[ 0.1958, -0.1610],\n",
       "        [-0.0471,  0.3386]])"
      ]
     },
     "execution_count": 18,
     "metadata": {},
     "output_type": "execute_result"
    }
   ],
   "source": [
    "mod1.net._modules['0'].weight[0,0]"
   ]
  },
  {
   "cell_type": "code",
   "execution_count": 19,
   "id": "e05ac7fd",
   "metadata": {},
   "outputs": [],
   "source": [
    "mod1.load_pretrained_model('testmodel.pth')"
   ]
  },
  {
   "cell_type": "code",
   "execution_count": 20,
   "id": "6a282f10",
   "metadata": {},
   "outputs": [
    {
     "data": {
      "text/plain": [
       "tensor([[-0., 0.],\n",
       "        [-0., 0.]])"
      ]
     },
     "execution_count": 20,
     "metadata": {},
     "output_type": "execute_result"
    }
   ],
   "source": [
    "mod1.net.state_dict['0.weights'][0,0]"
   ]
  },
  {
   "cell_type": "code",
   "execution_count": 21,
   "id": "5b16e58d",
   "metadata": {},
   "outputs": [
    {
     "data": {
      "text/plain": [
       "tensor([[-0., 0.],\n",
       "        [-0., 0.]])"
      ]
     },
     "execution_count": 21,
     "metadata": {},
     "output_type": "execute_result"
    }
   ],
   "source": [
    "mod1.net._modules['0'].weight[0,0]"
   ]
  },
  {
   "cell_type": "code",
   "execution_count": null,
   "id": "1b850ef1",
   "metadata": {},
   "outputs": [],
   "source": []
  }
 ],
 "metadata": {
  "kernelspec": {
   "display_name": "Python 3 (ipykernel)",
   "language": "python",
   "name": "python3"
  },
  "language_info": {
   "codemirror_mode": {
    "name": "ipython",
    "version": 3
   },
   "file_extension": ".py",
   "mimetype": "text/x-python",
   "name": "python",
   "nbconvert_exporter": "python",
   "pygments_lexer": "ipython3",
   "version": "3.9.12"
  }
 },
 "nbformat": 4,
 "nbformat_minor": 5
}
