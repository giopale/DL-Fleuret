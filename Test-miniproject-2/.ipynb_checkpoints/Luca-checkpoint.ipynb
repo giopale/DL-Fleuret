{
 "cells": [
  {
   "cell_type": "code",
   "execution_count": 1,
   "id": "70876e64",
   "metadata": {},
   "outputs": [],
   "source": [
    "import sys\n",
    "sys.path.append('../')\n",
    "\n",
    "from Miniproject_2.model import Module\n",
    "\n",
    "\n",
    "import torch\n",
    "from torch import empty , cat , arange\n",
    "from torch.nn.functional import fold, unfold\n",
    "import numpy as np\n",
    "import torchvision\n",
    "import torchvision.datasets as datasets\n",
    "from matplotlib import pyplot as plt\n",
    "import torch.nn.functional as F"
   ]
  },
  {
   "cell_type": "code",
   "execution_count": 293,
   "id": "c7fcee89",
   "metadata": {},
   "outputs": [],
   "source": [
    "def conv2d(input, weight, stride=1, padding=0, dilation=1):\n",
    "    N, _, h_in, w_in = input.shape\n",
    "    out_channels, in_channels, kernel_size = weight.shape[:-1]\n",
    "    \n",
    "    assert input.shape[1] == in_channels\n",
    "    \n",
    "    h_out = int((h_in + 2*padding - dilation*(kernel_size-1)-1)/stride+1)\n",
    "    w_out = int((w_in + 2*padding - dilation*(kernel_size-1)-1)/stride+1)\n",
    "\n",
    "    x = unfold(input, kernel_size=kernel_size, padding=padding, dilation=dilation, stride=stride)\n",
    "    cΠks, L = x.shape[1], x.shape[2]\n",
    "    \n",
    "    x = torch.transpose(x, 1, 2).reshape(-1, cΠks)\n",
    "    weight_flat = weight.view(out_channels, cΠks)\n",
    "    \n",
    "    x = torch.mm(x, weight_flat.t())\n",
    "    x = x.reshape(N, L, out_channels)\n",
    "    x = torch.transpose(x, 1, 2)\n",
    "    x = fold(x, output_size=[h_out, w_out], kernel_size=1, padding=0, dilation=dilation, stride=1)\n",
    "    return x\n",
    "\n",
    "\n",
    "    \n",
    "class Conv2d():\n",
    "    def __init__(self, in_channels, out_channels, kernel_size, stride=1, padding=0, dilation=1):\n",
    "        super(Conv2d, self).__init__()\n",
    "        self.in_channels  = in_channels\n",
    "        self.out_channels = out_channels\n",
    "        self.kernel_size  = kernel_size\n",
    "        self.stride   = stride\n",
    "        self.padding  = padding\n",
    "        self.dilation = dilation\n",
    "\n",
    "        self.weight   = torch.Tensor(out_channels, in_channels, kernel_size, kernel_size)\n",
    "        \n",
    "    def forward(self, input):\n",
    "        return conv2d(input, self.weight, stride=self.stride, padding=self.padding, dilation=self.dilation)\n",
    "    \n",
    "    __call__ = forward\n",
    "    \n",
    "    def backward(self, dL_dy):\n",
    "        \n",
    "    \n",
    "\n",
    "\n",
    "\n",
    "\n",
    "#class Conv2d():\n",
    "#    def __init__(self, in_channels, out_channels, kernel_size, stride=1, padding=0, dilation=1):\n",
    "#        super(Conv2d, self).__init__()\n",
    "#        self.in_channels  = in_channels\n",
    "#        self.out_channels = out_channels\n",
    "#        self.kernel_size  = kernel_size\n",
    "#        self.stride   = stride\n",
    "#        self.padding  = padding\n",
    "#        self.dilation = dilation\n",
    "#\n",
    "#        self.weight   = torch.Tensor(out_channels, in_channels, kernel_size, kernel_size)\n",
    "#\n",
    "#    def forward(self, input):\n",
    "#        N, _, h_in, w_in = input.shape\n",
    "#        assert input.shape[1] == self.in_channels\n",
    "#        \n",
    "#        h_out = int((h_in + 2*self.padding - self.dilation*(self.kernel_size-1)-1)/self.stride+1)\n",
    "#        w_out = int((w_in + 2*self.padding - self.dilation*(self.kernel_size-1)-1)/self.stride+1)\n",
    "#\n",
    "#        x = unfold(input, kernel_size=self.kernel_size, padding=self.padding, dilation=self.dilation, stride=self.stride)\n",
    "#        cΠks, L = x.shape[1], x.shape[2]\n",
    "#\n",
    "#        assert cΠks == self.in_channels * self.kernel_size * self.kernel_size\n",
    "#\n",
    "#        x = torch.transpose(x, 1, 2).reshape(-1, cΠks)\n",
    "#        weight_flat = self.weight.view(self.out_channels, cΠks)\n",
    "#        \n",
    "#        x = torch.mm(x, weight_flat.t())\n",
    "#        x = x.reshape(N, L, self.out_channels)\n",
    "#        x = torch.transpose(x, 1, 2)\n",
    "#        x = fold(x, output_size=[h_out, w_out], kernel_size=1, padding=0, dilation=self.dilation, stride=1)\n",
    "#        return x\n",
    "#    \n",
    "#    __call__ = forward\n",
    "    "
   ]
  },
  {
   "cell_type": "code",
   "execution_count": null,
   "id": "d302504d",
   "metadata": {},
   "outputs": [],
   "source": []
  },
  {
   "cell_type": "code",
   "execution_count": 294,
   "id": "683e9f27",
   "metadata": {
    "scrolled": true
   },
   "outputs": [
    {
     "data": {
      "text/plain": [
       "torch.Size([1, 3, 32, 32])"
      ]
     },
     "execution_count": 294,
     "metadata": {},
     "output_type": "execute_result"
    }
   ],
   "source": [
    "images = torch.load('../train_data.pkl')\n",
    "a = images[0][:1].float()\n",
    "a.shape"
   ]
  },
  {
   "cell_type": "code",
   "execution_count": 295,
   "id": "fa582906",
   "metadata": {},
   "outputs": [
    {
     "data": {
      "text/plain": [
       "torch.Size([5, 3, 3, 3])"
      ]
     },
     "execution_count": 295,
     "metadata": {},
     "output_type": "execute_result"
    }
   ],
   "source": [
    "kernel = torch.empty(5,3,3,3)\n",
    "kernel.shape"
   ]
  },
  {
   "cell_type": "code",
   "execution_count": 296,
   "id": "4e7041d4",
   "metadata": {},
   "outputs": [
    {
     "data": {
      "image/png": "[encoded data removed]",
      "text/plain": [
       "<Figure size 432x288 with 2 Axes>"
      ]
     },
     "metadata": {
      "needs_background": "light"
     },
     "output_type": "display_data"
    }
   ],
   "source": [
    "kernel[0, 0] = torch.tensor([ [ +0., +0., -1. ], [ +0., +1., +0. ], [ -1., +0., +0. ]])\n",
    "kernel[1, 0] = torch.tensor([ [ +1., +1., +1. ], [ +1., +1., +1. ], [ +1., +1., +1. ]])\n",
    "kernel[2, 0] = torch.tensor([ [ -1., +0., +1. ], [ -1., +0., +1. ], [ -1., +0., +1. ]])\n",
    "kernel[3, 0] = torch.tensor([ [ -1., -1., -1. ], [ +0., +0., +0. ], [ +1., +1., +1. ]])\n",
    "kernel[4, 0] = torch.tensor([ [ +0., -1., +0. ], [ -1., +4., -1. ], [ +0., -1., +0. ]])\n",
    "\n",
    "for j in range(0,5):\n",
    "    for i in range(1,3):\n",
    "        kernel[j,i] = kernel[j,0]\n",
    "        \n",
    "        \n",
    "plt.imshow(kernel[0,0],cmap='seismic',vmin=-1,vmax=1)\n",
    "plt.colorbar();"
   ]
  },
  {
   "cell_type": "code",
   "execution_count": null,
   "id": "594409e2",
   "metadata": {},
   "outputs": [],
   "source": []
  },
  {
   "cell_type": "code",
   "execution_count": 297,
   "id": "de548ef5",
   "metadata": {},
   "outputs": [
    {
     "data": {
      "text/plain": [
       "torch.Size([1, 5, 30, 30])"
      ]
     },
     "execution_count": 297,
     "metadata": {},
     "output_type": "execute_result"
    }
   ],
   "source": [
    "conv_a = F.conv2d(a, kernel, stride=1, padding=0, dilation=1)\n",
    "conv_a.shape"
   ]
  },
  {
   "cell_type": "code",
   "execution_count": null,
   "id": "d53d2dfd",
   "metadata": {},
   "outputs": [],
   "source": []
  },
  {
   "cell_type": "code",
   "execution_count": 298,
   "id": "32037eda",
   "metadata": {},
   "outputs": [
    {
     "data": {
      "text/plain": [
       "torch.Size([1, 5, 30, 30])"
      ]
     },
     "execution_count": 298,
     "metadata": {},
     "output_type": "execute_result"
    }
   ],
   "source": [
    "myconv = Conv2d(3,5, 3, stride=1, padding=0, dilation=1)\n",
    "myconv.weight = kernel\n",
    "myconv_a = myconv(a)\n",
    "myconv_a.shape"
   ]
  },
  {
   "cell_type": "code",
   "execution_count": 299,
   "id": "b7e5b440",
   "metadata": {},
   "outputs": [
    {
     "data": {
      "text/plain": [
       "tensor(True)"
      ]
     },
     "execution_count": 299,
     "metadata": {},
     "output_type": "execute_result"
    }
   ],
   "source": [
    "torch.all(conv_a == myconv_a)"
   ]
  },
  {
   "cell_type": "code",
   "execution_count": null,
   "id": "957353b7",
   "metadata": {},
   "outputs": [],
   "source": []
  },
  {
   "cell_type": "code",
   "execution_count": null,
   "id": "f2a756be",
   "metadata": {},
   "outputs": [],
   "source": []
  },
  {
   "cell_type": "code",
   "execution_count": 380,
   "id": "edceeb96",
   "metadata": {},
   "outputs": [
    {
     "data": {
      "image/png": "[encoded data removed]",
      "text/plain": [
       "<Figure size 432x288 with 1 Axes>"
      ]
     },
     "metadata": {
      "needs_background": "light"
     },
     "output_type": "display_data"
    }
   ],
   "source": [
    "b = torch.tensor([[1.,2],[3,4]])\n",
    "plt.imshow(b)\n",
    "\n",
    "b = b.view((1,1,*b.shape))"
   ]
  },
  {
   "cell_type": "code",
   "execution_count": 459,
   "id": "3f80dcd9",
   "metadata": {},
   "outputs": [
    {
     "data": {
      "text/plain": [
       "torch.Size([1, 1, 4, 4])"
      ]
     },
     "execution_count": 459,
     "metadata": {},
     "output_type": "execute_result"
    }
   ],
   "source": [
    "b1 = unfold(b,1,padding=1).reshape(1,1,4,4)\n",
    "b1.shape"
   ]
  },
  {
   "cell_type": "code",
   "execution_count": 474,
   "id": "e3d1010b",
   "metadata": {},
   "outputs": [
    {
     "data": {
      "text/plain": [
       "tensor([[[[0., 0., 0., 0.],\n",
       "          [0., 1., 2., 0.],\n",
       "          [0., 3., 4., 0.],\n",
       "          [0., 0., 0., 0.]]]])"
      ]
     },
     "execution_count": 474,
     "metadata": {},
     "output_type": "execute_result"
    }
   ],
   "source": [
    "F.conv2d(b1, torch.ones(1,1,1,1), dilation=1, stride=1)"
   ]
  },
  {
   "cell_type": "code",
   "execution_count": 480,
   "id": "dbe66e59",
   "metadata": {},
   "outputs": [
    {
     "data": {
      "text/plain": [
       "tensor([[[[0., 0., 0., 0., 0., 0.],\n",
       "          [0., 0., 0., 0., 0., 0.],\n",
       "          [0., 0., 1., 2., 2., 0.],\n",
       "          [0., 0., 3., 4., 4., 0.],\n",
       "          [0., 0., 3., 4., 4., 0.],\n",
       "          [0., 0., 0., 0., 0., 0.]]]])"
      ]
     },
     "execution_count": 480,
     "metadata": {},
     "output_type": "execute_result"
    }
   ],
   "source": [
    "F.interpolate(b1, size=(6,6))"
   ]
  },
  {
   "cell_type": "code",
   "execution_count": 483,
   "id": "28f7ee30",
   "metadata": {},
   "outputs": [
    {
     "data": {
      "text/plain": [
       "tensor([[ 5.,  6.],\n",
       "        [ 9., 10.],\n",
       "        [13., 14.]])"
      ]
     },
     "execution_count": 483,
     "metadata": {},
     "output_type": "execute_result"
    }
   ],
   "source": [
    "b = torch.tensor([[1.,2],[3,4]])\n",
    "q = torch.arange(0., 20.).storage()\n",
    "x = torch.empty(0).set_(q, storage_offset = 5, size = (3, 2), stride = (4, 1))\n",
    "x"
   ]
  },
  {
   "cell_type": "code",
   "execution_count": null,
   "id": "b2b8ea3c",
   "metadata": {},
   "outputs": [],
   "source": []
  }
 ],
 "metadata": {
  "kernelspec": {
   "display_name": "Python 3 (ipykernel)",
   "language": "python",
   "name": "python3"
  },
  "language_info": {
   "codemirror_mode": {
    "name": "ipython",
    "version": 3
   },
   "file_extension": ".py",
   "mimetype": "text/x-python",
   "name": "python",
   "nbconvert_exporter": "python",
   "pygments_lexer": "ipython3",
   "version": "3.9.12"
  }
 },
 "nbformat": 4,
 "nbformat_minor": 5
}
