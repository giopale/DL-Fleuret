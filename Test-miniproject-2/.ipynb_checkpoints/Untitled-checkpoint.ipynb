{
 "cells": [
  {
   "cell_type": "code",
   "execution_count": 1,
   "id": "502cfbbd",
   "metadata": {},
   "outputs": [],
   "source": [
    "import torch\n",
    "import numpy as np\n",
    "import matplotlib.pyplot as plt\n",
    "from itertools import islice\n",
    "\n",
    "from torch import nn\n",
    "from torch.nn import functional as F\n",
    "\n",
    "import sys \n",
    "import getpass\n",
    "\n",
    "sys.path.append('../')\n",
    "from Miniproject_2.model import *"
   ]
  },
  {
   "cell_type": "code",
   "execution_count": 2,
   "id": "304f9597",
   "metadata": {},
   "outputs": [],
   "source": [
    "def test_init_weights(model):\n",
    "    if isinstance(model,nn.Conv2d) or isinstance(model,nn.ConvTranspose2d):\n",
    "        model.weight.data.normal_(0,0.5, generator=torch.manual_seed(0))"
   ]
  },
  {
   "cell_type": "code",
   "execution_count": null,
   "id": "d1f24832",
   "metadata": {},
   "outputs": [],
   "source": []
  },
  {
   "cell_type": "code",
   "execution_count": null,
   "id": "e71621db",
   "metadata": {},
   "outputs": [],
   "source": []
  },
  {
   "cell_type": "code",
   "execution_count": 30,
   "id": "e2bd72cc",
   "metadata": {},
   "outputs": [],
   "source": [
    "stride = ks = 2\n",
    "\n",
    "conv1 = nn.Conv2d(in_channels=3, out_channels=5,  kernel_size=2, bias=False)\n",
    "conv2 = nn.Conv2d(in_channels=5, out_channels=5,  kernel_size=2, bias=False)\n",
    "\n",
    "tconv1 = nn.ConvTranspose2d(in_channels=5, out_channels=5,  kernel_size=ks, stride=stride, padding=0, dilation=1, bias=False)\n",
    "tconv2 = nn.ConvTranspose2d(in_channels=3, out_channels=5,  kernel_size=ks, stride=stride, padding=0, dilation=1, bias=False)\n",
    "\n",
    "relu = nn.ReLU()\n",
    "sigmoid = nn.Sigmoid()\n",
    "\n",
    "Net = nn.Sequential(conv1, relu, conv2, relu, tconv1, relu, tconv2, sigmoid)\n",
    "Net.apply(test_init_weights);"
   ]
  },
  {
   "cell_type": "code",
   "execution_count": 31,
   "id": "c9e316e1",
   "metadata": {},
   "outputs": [
    {
     "data": {
      "text/plain": [
       "4"
      ]
     },
     "execution_count": 31,
     "metadata": {},
     "output_type": "execute_result"
    }
   ],
   "source": [
    "len(list(Net.parameters()))"
   ]
  },
  {
   "cell_type": "code",
   "execution_count": null,
   "id": "c2bd075c",
   "metadata": {},
   "outputs": [],
   "source": []
  },
  {
   "cell_type": "code",
   "execution_count": 32,
   "id": "0e537130",
   "metadata": {},
   "outputs": [],
   "source": [
    "my_conv1 = Conv2d(in_channels=3, out_channels=5,  kernel_size=2)\n",
    "my_conv2 = Conv2d(in_channels=5, out_channels=5,  kernel_size=2)\n",
    "\n",
    "\n",
    "my_tconv1 = TransposeConv2d(in_channels=5, out_channels=5,  kernel_size=ks, stride=stride, padding=0, dilation=1)\n",
    "my_tconv2 = TransposeConv2d(in_channels=3, out_channels=5,  kernel_size=ks, stride=stride, padding=0, dilation=1)\n",
    "\n",
    "my_relu = ReLU()\n",
    "my_sigmoid = Sigmoid()\n",
    "\n",
    "my_Net = Sequential(my_conv1, my_relu, my_conv2, my_relu, my_tconv1, my_relu, my_tconv2, my_sigmoid, initialize=True)\n"
   ]
  },
  {
   "cell_type": "code",
   "execution_count": null,
   "id": "d387428e",
   "metadata": {},
   "outputs": [],
   "source": []
  },
  {
   "cell_type": "code",
   "execution_count": null,
   "id": "c88c038a",
   "metadata": {},
   "outputs": [],
   "source": []
  },
  {
   "cell_type": "code",
   "execution_count": 43,
   "id": "f421a6e0",
   "metadata": {},
   "outputs": [
    {
     "data": {
      "text/plain": [
       "[tensor([[[[-0.5629, -0.5762],\n",
       "           [-0.1253, -0.2169]],\n",
       " \n",
       "          [[ 0.4244,  0.3460],\n",
       "           [-0.1580, -1.0576]],\n",
       " \n",
       "          [[ 0.1611, -0.6317],\n",
       "           [ 0.1750,  0.1541]]],\n",
       " \n",
       " \n",
       "         [[[ 0.0599,  0.6188],\n",
       "           [ 0.5584, -0.1236]],\n",
       " \n",
       "          [[-0.6763, -0.8480],\n",
       "           [ 0.2833,  0.3968]],\n",
       " \n",
       "          [[ 0.2994, -0.7775],\n",
       "           [-0.1707,  0.9265]]],\n",
       " \n",
       " \n",
       "         [[[ 0.3751, -0.2927],\n",
       "           [-0.0867,  0.0917]],\n",
       " \n",
       "          [[ 0.6947,  0.7932],\n",
       "           [ 0.4731, -0.4218]],\n",
       " \n",
       "          [[-0.3068,  0.0158],\n",
       "           [-0.2463,  0.1242]]],\n",
       " \n",
       " \n",
       "         [[[ 0.2198,  0.0562],\n",
       "           [ 0.3204,  0.2206]],\n",
       " \n",
       "          [[-0.0512,  0.3962],\n",
       "           [-0.1448,  0.0263]],\n",
       " \n",
       "          [[ 0.2972,  0.7710],\n",
       "           [ 0.2537, -0.2955]]],\n",
       " \n",
       " \n",
       "         [[[-0.2846,  0.4600],\n",
       "           [ 0.5554,  0.6449]],\n",
       " \n",
       "          [[-0.7480, -0.0969],\n",
       "           [ 0.2228,  0.6626]],\n",
       " \n",
       "          [[-0.8147, -0.2749],\n",
       "           [-0.2399, -0.2498]]]]),\n",
       " None]"
      ]
     },
     "execution_count": 43,
     "metadata": {},
     "output_type": "execute_result"
    }
   ],
   "source": [
    "list(my_Net.parameters())[::2][0]"
   ]
  },
  {
   "cell_type": "code",
   "execution_count": null,
   "id": "df0d9d6e",
   "metadata": {},
   "outputs": [],
   "source": []
  }
 ],
 "metadata": {
  "kernelspec": {
   "display_name": "Python 3 (ipykernel)",
   "language": "python",
   "name": "python3"
  },
  "language_info": {
   "codemirror_mode": {
    "name": "ipython",
    "version": 3
   },
   "file_extension": ".py",
   "mimetype": "text/x-python",
   "name": "python",
   "nbconvert_exporter": "python",
   "pygments_lexer": "ipython3",
   "version": "3.9.12"
  }
 },
 "nbformat": 4,
 "nbformat_minor": 5
}
