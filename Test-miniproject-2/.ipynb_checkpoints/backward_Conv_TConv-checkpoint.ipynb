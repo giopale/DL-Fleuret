{
 "cells": [
  {
   "cell_type": "code",
   "execution_count": 1,
   "id": "663c6167",
   "metadata": {},
   "outputs": [],
   "source": [
    "import torch\n",
    "import numpy as np\n",
    "import matplotlib.pyplot as plt\n",
    "from itertools import islice\n",
    "\n",
    "from torch import nn\n",
    "from torch.nn import functional as F\n",
    "\n",
    "import sys \n",
    "import getpass\n",
    "\n",
    "sys.path.append('../Proj_308427_348143_XXXXXX')\n",
    "from Miniproject_2.model import *\n",
    "torch.set_grad_enabled(True);"
   ]
  },
  {
   "cell_type": "code",
   "execution_count": null,
   "id": "48bfe59c",
   "metadata": {},
   "outputs": [],
   "source": []
  },
  {
   "cell_type": "code",
   "execution_count": null,
   "id": "80994223",
   "metadata": {},
   "outputs": [],
   "source": []
  },
  {
   "cell_type": "code",
   "execution_count": 2,
   "id": "c9c5e907",
   "metadata": {},
   "outputs": [],
   "source": [
    "train_input, train_target = torch.load('../train_data.pkl')\n",
    "\n",
    "select=100\n",
    "x     = (train_input[:select].float()/255.).requires_grad_()\n",
    "xtrue = (train_target[:select].float()/255.)"
   ]
  },
  {
   "cell_type": "code",
   "execution_count": 3,
   "id": "94c61a9e",
   "metadata": {},
   "outputs": [],
   "source": [
    "f = torch.empty(5,3,3,3)\n",
    "\n",
    "f[0, 0] = torch.tensor([ [ +0., +0. ,1 ], [ +0., +1., 1], [1,0,1]])\n",
    "f[1, 0] = torch.tensor([ [ +1., +0. ,1 ], [ +0., +1., 1], [1,0,1]])\n",
    "f[2, 0] = torch.tensor([ [ -1., +0. ,1 ], [ -1., +0., 1], [1,0,1]])\n",
    "f[3, 0] = torch.tensor([ [ -1., -1. ,1 ], [ +1., +0., 1], [1,0,1]])\n",
    "f[4, 0] = torch.tensor([ [ +0., -1. ,1 ], [ -1., +2., 1], [1,0,1]])\n",
    "\n",
    "for j in range(0,5):\n",
    "    for i in range(1,3):\n",
    "        f[j,i] = f[j,0]\n",
    "        \n",
    "f.requires_grad_();"
   ]
  },
  {
   "cell_type": "code",
   "execution_count": 4,
   "id": "92d10891",
   "metadata": {},
   "outputs": [
    {
     "name": "stdout",
     "output_type": "stream",
     "text": [
      "Shapes\n",
      "x : \t (100, 3, 32, 32)\n",
      "y : \t (100, 5, 10, 10)\n",
      "f : \t (5, 3, 3, 3)\n",
      "dL_dy :  (100, 5, 10, 10)\n",
      "dL_dx :  (100, 3, 32, 32)\n",
      "dL_df :  (5, 3, 3, 3)\n"
     ]
    }
   ],
   "source": [
    "stride = 3\n",
    "y = F.conv2d(x, f, stride=stride)\n",
    "\n",
    "with torch.no_grad():\n",
    "    ytrue = F.conv2d(xtrue, f, stride=stride)\n",
    "\n",
    "L = F.mse_loss(y,ytrue)\n",
    "dL_dy, dL_dx, dL_df = torch.autograd.grad(L, (y,x,f))\n",
    "\n",
    "print(\"Shapes\")\n",
    "print(\"x : \\t\", tuple(x.shape))\n",
    "print(\"y : \\t\", tuple(y.shape))\n",
    "print(\"f : \\t\", tuple(f.shape))\n",
    "print(\"dL_dy : \", tuple(dL_dy.shape))\n",
    "print(\"dL_dx : \", tuple(dL_dx.shape))\n",
    "print(\"dL_df : \", tuple(dL_df.shape))"
   ]
  },
  {
   "cell_type": "code",
   "execution_count": 5,
   "id": "b314527d",
   "metadata": {},
   "outputs": [],
   "source": [
    "mydL_dx, mydL_df = conv_backward(x, dL_dy, f, stride=stride)"
   ]
  },
  {
   "cell_type": "code",
   "execution_count": 7,
   "id": "b53f5540",
   "metadata": {},
   "outputs": [
    {
     "name": "stdout",
     "output_type": "stream",
     "text": [
      "True\n",
      "True\n"
     ]
    }
   ],
   "source": [
    "print(torch.allclose(mydL_df, dL_df, rtol=1e-5))\n",
    "print(torch.allclose(mydL_dx, dL_dx, rtol=1e-5))"
   ]
  },
  {
   "cell_type": "code",
   "execution_count": null,
   "id": "21389741",
   "metadata": {},
   "outputs": [],
   "source": []
  },
  {
   "cell_type": "code",
   "execution_count": null,
   "id": "6ffffab4",
   "metadata": {},
   "outputs": [],
   "source": []
  },
  {
   "cell_type": "code",
   "execution_count": 8,
   "id": "d3bc6012",
   "metadata": {},
   "outputs": [],
   "source": [
    "valid_input, valid_target = torch.load('../val_data.pkl')\n",
    "\n",
    "select=10\n",
    "x     = (valid_input[:select].float()).requires_grad_()\n",
    "xtrue = (valid_target[:select].float())"
   ]
  },
  {
   "cell_type": "code",
   "execution_count": 14,
   "id": "d391139e",
   "metadata": {},
   "outputs": [],
   "source": [
    "f = torch.empty(5,3,3,3)\n",
    "\n",
    "f[0, 0] = torch.tensor([ [ +0., +0. ,1 ], [ +0., +1., 1], [1,0,1]])\n",
    "f[1, 0] = torch.tensor([ [ +1., +0. ,1 ], [ +0., +1., 1], [1,0,1]])\n",
    "f[2, 0] = torch.tensor([ [ -1., +0. ,1 ], [ -1., +0., 1], [1,0,1]])\n",
    "f[3, 0] = torch.tensor([ [ -1., -1. ,1 ], [ +1., +0., 1], [1,0,1]])\n",
    "f[4, 0] = torch.tensor([ [ +0., -1. ,1 ], [ -1., +2., 1], [1,0,1]])\n",
    "\n",
    "for j in range(0,5):\n",
    "    for i in range(1,3):\n",
    "        f[j,i] = f[j,0]\n",
    "        \n",
    "ff = f.transpose(0,1)\n",
    "ff.requires_grad_();"
   ]
  },
  {
   "cell_type": "code",
   "execution_count": 15,
   "id": "3882cdf0",
   "metadata": {},
   "outputs": [
    {
     "name": "stdout",
     "output_type": "stream",
     "text": [
      "Shapes\n",
      "x : \t (10, 3, 32, 32)\n",
      "y : \t (10, 5, 96, 96)\n",
      "f : \t (5, 3, 3, 3)\n",
      "dL_dy :  (10, 5, 96, 96)\n",
      "dL_dx :  (10, 3, 32, 32)\n",
      "dL_df :  (3, 5, 3, 3)\n"
     ]
    }
   ],
   "source": [
    "stride = 3\n",
    "y = F.conv_transpose2d(x, ff, stride=stride)\n",
    "\n",
    "with torch.no_grad():\n",
    "    ytrue = F.conv_transpose2d(xtrue, ff, stride=stride)\n",
    "\n",
    "L = F.mse_loss(y,ytrue)\n",
    "dL_dy, dL_dx, dL_df = torch.autograd.grad(L, (y,x,ff))\n",
    "\n",
    "print(\"Shapes\")\n",
    "print(\"x : \\t\", tuple(x.shape))\n",
    "print(\"y : \\t\", tuple(y.shape))\n",
    "print(\"f : \\t\", tuple(f.shape))\n",
    "print(\"dL_dy : \", tuple(dL_dy.shape))\n",
    "print(\"dL_dx : \", tuple(dL_dx.shape))\n",
    "print(\"dL_df : \", tuple(dL_df.shape))"
   ]
  },
  {
   "cell_type": "code",
   "execution_count": null,
   "id": "213a6bcf",
   "metadata": {},
   "outputs": [],
   "source": []
  },
  {
   "cell_type": "code",
   "execution_count": 16,
   "id": "f95f53f1",
   "metadata": {},
   "outputs": [],
   "source": [
    "mytconv = TransposeConv2d(3 ,5, 3, stride=stride, padding=0, dilation=1)\n",
    "mytconv.weight = ff"
   ]
  },
  {
   "cell_type": "code",
   "execution_count": 17,
   "id": "161e342c",
   "metadata": {},
   "outputs": [
    {
     "name": "stdout",
     "output_type": "stream",
     "text": [
      "Shapes\n",
      "mydL_dx :  torch.Size([10, 3, 32, 32])\n",
      "mydL_df :  torch.Size([3, 5, 3, 3])\n"
     ]
    }
   ],
   "source": [
    "_, vjp = mytconv.forward_and_vjp(x.detach())\n",
    "\n",
    "mydL_dx, mydL_df, _ = vjp(dL_dy)\n",
    "\n",
    "print(\"Shapes\")\n",
    "print(\"mydL_dx : \",mydL_dx.shape)\n",
    "print(\"mydL_df : \",mydL_df.shape)"
   ]
  },
  {
   "cell_type": "code",
   "execution_count": 18,
   "id": "9567754b",
   "metadata": {},
   "outputs": [
    {
     "name": "stdout",
     "output_type": "stream",
     "text": [
      "True\n",
      "True\n"
     ]
    }
   ],
   "source": [
    "print(torch.allclose(mydL_df, dL_df, rtol=1e-5))\n",
    "print(torch.allclose(mydL_dx, dL_dx, rtol=1e-5))"
   ]
  },
  {
   "cell_type": "code",
   "execution_count": null,
   "id": "5e347214",
   "metadata": {},
   "outputs": [],
   "source": []
  }
 ],
 "metadata": {
  "kernelspec": {
   "display_name": "Python 3 (ipykernel)",
   "language": "python",
   "name": "python3"
  },
  "language_info": {
   "codemirror_mode": {
    "name": "ipython",
    "version": 3
   },
   "file_extension": ".py",
   "mimetype": "text/x-python",
   "name": "python",
   "nbconvert_exporter": "python",
   "pygments_lexer": "ipython3",
   "version": "3.9.12"
  }
 },
 "nbformat": 4,
 "nbformat_minor": 5
}
