{
 "cells": [
  {
   "cell_type": "code",
   "execution_count": 1,
   "id": "502cfbbd",
   "metadata": {},
   "outputs": [],
   "source": [
    "import torch\n",
    "import numpy as np\n",
    "import matplotlib.pyplot as plt\n",
    "from itertools import islice\n",
    "\n",
    "from torch import nn\n",
    "from torch.nn import functional as F\n",
    "\n",
    "import sys \n",
    "import getpass\n",
    "\n",
    "sys.path.append('../')\n",
    "from Miniproject_2.model import *\n",
    "torch.set_grad_enabled(True);"
   ]
  },
  {
   "cell_type": "code",
   "execution_count": 2,
   "id": "6e50f33a",
   "metadata": {},
   "outputs": [],
   "source": [
    "def test_init_weights(model):\n",
    "    if isinstance(model,nn.Conv2d) or isinstance(model,nn.ConvTranspose2d):\n",
    "        model.weight.data.normal_(0,0.5, generator=torch.manual_seed(0))\n",
    "        \n",
    "def compare(x,y,decimals=7):\n",
    "    return torch.all(torch.round(torch.abs(x - y), decimals=decimals)==0.).item()"
   ]
  },
  {
   "cell_type": "markdown",
   "id": "78735278",
   "metadata": {},
   "source": [
    "## My Sequential \n",
    "\n",
    "**REMEMBER TO PUT A FIXED SEED IN MODEL.PY**"
   ]
  },
  {
   "cell_type": "code",
   "execution_count": 3,
   "id": "e9011986",
   "metadata": {},
   "outputs": [],
   "source": [
    "stride = ks = 2"
   ]
  },
  {
   "cell_type": "code",
   "execution_count": 4,
   "id": "dff46e98",
   "metadata": {},
   "outputs": [
    {
     "ename": "AssertionError",
     "evalue": "",
     "output_type": "error",
     "traceback": [
      "\u001b[0;31m---------------------------------------------------------------------------\u001b[0m",
      "\u001b[0;31mAssertionError\u001b[0m                            Traceback (most recent call last)",
      "Input \u001b[0;32mIn [4]\u001b[0m, in \u001b[0;36m<cell line: 11>\u001b[0;34m()\u001b[0m\n\u001b[1;32m      8\u001b[0m my_relu \u001b[38;5;241m=\u001b[39m ReLU()\n\u001b[1;32m      9\u001b[0m my_sigmoid \u001b[38;5;241m=\u001b[39m Sigmoid()\n\u001b[0;32m---> 11\u001b[0m my_Net \u001b[38;5;241m=\u001b[39m \u001b[43mSequential\u001b[49m\u001b[43m(\u001b[49m\u001b[43mmy_conv1\u001b[49m\u001b[43m,\u001b[49m\u001b[43m \u001b[49m\u001b[43mmy_relu\u001b[49m\u001b[43m,\u001b[49m\u001b[43m \u001b[49m\u001b[43mmy_conv2\u001b[49m\u001b[43m,\u001b[49m\u001b[43m \u001b[49m\u001b[43mmy_relu\u001b[49m\u001b[43m,\u001b[49m\u001b[43m \u001b[49m\u001b[43mmy_tconv1\u001b[49m\u001b[43m,\u001b[49m\u001b[43m \u001b[49m\u001b[43mmy_relu\u001b[49m\u001b[43m,\u001b[49m\u001b[43m \u001b[49m\u001b[43mmy_tconv2\u001b[49m\u001b[43m,\u001b[49m\u001b[43m \u001b[49m\u001b[43mmy_sigmoid\u001b[49m\u001b[43m)\u001b[49m\n",
      "File \u001b[0;32m~/DL-Fleuret/Test-miniproject-2/../Miniproject_2/model.py:288\u001b[0m, in \u001b[0;36mSequential.__init__\u001b[0;34m(self, initialize, *args)\u001b[0m\n\u001b[1;32m    285\u001b[0m \u001b[38;5;28;01mfor\u001b[39;00m idx, module \u001b[38;5;129;01min\u001b[39;00m \u001b[38;5;28menumerate\u001b[39m(args):\n\u001b[1;32m    286\u001b[0m     \u001b[38;5;28mself\u001b[39m\u001b[38;5;241m.\u001b[39m_add_module(\u001b[38;5;28mstr\u001b[39m(idx), module)\n\u001b[0;32m--> 288\u001b[0m \u001b[38;5;28;01mif\u001b[39;00m initialize: \u001b[38;5;28;43mself\u001b[39;49m\u001b[38;5;241;43m.\u001b[39;49m\u001b[43m_initialize\u001b[49m\u001b[43m(\u001b[49m\u001b[43m)\u001b[49m\n",
      "File \u001b[0;32m~/DL-Fleuret/Test-miniproject-2/../Miniproject_2/model.py:296\u001b[0m, in \u001b[0;36mSequential._initialize\u001b[0;34m(self)\u001b[0m\n\u001b[1;32m    294\u001b[0m \u001b[38;5;28;01mdef\u001b[39;00m \u001b[38;5;21m_initialize\u001b[39m(\u001b[38;5;28mself\u001b[39m):\n\u001b[1;32m    295\u001b[0m     \u001b[38;5;28;01mfor\u001b[39;00m module \u001b[38;5;129;01min\u001b[39;00m \u001b[38;5;28mself\u001b[39m\u001b[38;5;241m.\u001b[39m_modules\u001b[38;5;241m.\u001b[39mvalues():\n\u001b[0;32m--> 296\u001b[0m         \u001b[43m_init_weights\u001b[49m\u001b[43m(\u001b[49m\u001b[43mmodule\u001b[49m\u001b[43m)\u001b[49m\n\u001b[1;32m    297\u001b[0m     \u001b[38;5;28;01mreturn\u001b[39;00m\n",
      "File \u001b[0;32m~/DL-Fleuret/Test-miniproject-2/../Miniproject_2/model.py:39\u001b[0m, in \u001b[0;36m_init_weights\u001b[0;34m(model)\u001b[0m\n\u001b[1;32m     37\u001b[0m \u001b[38;5;28;01mif\u001b[39;00m \u001b[38;5;28misinstance\u001b[39m(model, Conv2d) \u001b[38;5;129;01mor\u001b[39;00m \u001b[38;5;28misinstance\u001b[39m(model, TransposeConv2d):\n\u001b[1;32m     38\u001b[0m     xavier_normal_(model\u001b[38;5;241m.\u001b[39mweight) \u001b[38;5;66;03m# model.weight.normal_(0,0.5,generator=torch.manual_seed(0)) #\u001b[39;00m\n\u001b[0;32m---> 39\u001b[0m     \u001b[43mxavier_normal_\u001b[49m\u001b[43m(\u001b[49m\u001b[43mmodel\u001b[49m\u001b[38;5;241;43m.\u001b[39;49m\u001b[43mbias\u001b[49m\u001b[43m)\u001b[49m\n",
      "File \u001b[0;32m~/DL-Fleuret/Test-miniproject-2/../Miniproject_2/model.py:31\u001b[0m, in \u001b[0;36mxavier_normal_\u001b[0;34m(tensor, gain)\u001b[0m\n\u001b[1;32m     30\u001b[0m \u001b[38;5;28;01mdef\u001b[39;00m \u001b[38;5;21mxavier_normal_\u001b[39m(tensor, gain\u001b[38;5;241m=\u001b[39m\u001b[38;5;241m1.4142135623730951\u001b[39m):\n\u001b[0;32m---> 31\u001b[0m     fan_in, fan_out \u001b[38;5;241m=\u001b[39m \u001b[43m_calculate_fan_in_and_fan_out\u001b[49m\u001b[43m(\u001b[49m\u001b[43mtensor\u001b[49m\u001b[43m)\u001b[49m\n\u001b[1;32m     32\u001b[0m     std \u001b[38;5;241m=\u001b[39m gain \u001b[38;5;241m*\u001b[39m math\u001b[38;5;241m.\u001b[39msqrt(\u001b[38;5;241m2.0\u001b[39m \u001b[38;5;241m/\u001b[39m (fan_in \u001b[38;5;241m+\u001b[39m fan_out))\n\u001b[1;32m     33\u001b[0m     \u001b[38;5;28;01mreturn\u001b[39;00m tensor\u001b[38;5;241m.\u001b[39mnormal_(\u001b[38;5;241m0\u001b[39m, std)\n",
      "File \u001b[0;32m~/DL-Fleuret/Test-miniproject-2/../Miniproject_2/model.py:14\u001b[0m, in \u001b[0;36m_calculate_fan_in_and_fan_out\u001b[0;34m(tensor)\u001b[0m\n\u001b[1;32m     12\u001b[0m \u001b[38;5;28;01mdef\u001b[39;00m \u001b[38;5;21m_calculate_fan_in_and_fan_out\u001b[39m(tensor):\n\u001b[1;32m     13\u001b[0m     dimensions \u001b[38;5;241m=\u001b[39m tensor\u001b[38;5;241m.\u001b[39mdim()\n\u001b[0;32m---> 14\u001b[0m     \u001b[38;5;28;01massert\u001b[39;00m dimensions \u001b[38;5;241m>\u001b[39m\u001b[38;5;241m=\u001b[39m \u001b[38;5;241m2\u001b[39m\n\u001b[1;32m     16\u001b[0m     num_input_fmaps  \u001b[38;5;241m=\u001b[39m tensor\u001b[38;5;241m.\u001b[39msize(\u001b[38;5;241m1\u001b[39m)\n\u001b[1;32m     17\u001b[0m     num_output_fmaps \u001b[38;5;241m=\u001b[39m tensor\u001b[38;5;241m.\u001b[39msize(\u001b[38;5;241m0\u001b[39m)\n",
      "\u001b[0;31mAssertionError\u001b[0m: "
     ]
    }
   ],
   "source": [
    "my_conv1 = Conv2d(in_channels=3, out_channels=5, stride=stride,  kernel_size=ks)\n",
    "my_conv2 = Conv2d(in_channels=5, out_channels=5, stride=stride,  kernel_size=ks)\n",
    "\n",
    "\n",
    "my_tconv1 = TransposeConv2d(in_channels=5, out_channels=5,  kernel_size=ks, stride=stride, padding=0, dilation=1)\n",
    "my_tconv2 = TransposeConv2d(in_channels=5, out_channels=3,  kernel_size=ks, stride=stride, padding=0, dilation=1)\n",
    "\n",
    "my_relu = ReLU()\n",
    "my_sigmoid = Sigmoid()\n",
    "\n",
    "my_Net = Sequential(my_conv1, my_relu, my_conv2, my_relu, my_tconv1, my_relu, my_tconv2, my_sigmoid)\n"
   ]
  },
  {
   "cell_type": "code",
   "execution_count": null,
   "id": "674d7497",
   "metadata": {},
   "outputs": [],
   "source": []
  },
  {
   "cell_type": "code",
   "execution_count": 5,
   "id": "1eed849e",
   "metadata": {},
   "outputs": [],
   "source": [
    "valid_input, valid_target = torch.load('../val_data.pkl')\n",
    "select = 10\n",
    "x = (valid_input[:select].float())\n",
    "t = (valid_target[:select].float())\n",
    "\n",
    "y = my_Net(x)\n",
    "loss = MSE()\n",
    "loss(y,t)\n",
    "my_Net.backward(loss.backward())"
   ]
  },
  {
   "cell_type": "code",
   "execution_count": 6,
   "id": "08c58e3e",
   "metadata": {},
   "outputs": [],
   "source": [
    "my_parameters = [list(my_Net.parameters())[::2][i][0] for i in range(4)]\n",
    "my_gradients  = [list(my_Net.parameters())[::2][i][1] for i in range(4)]"
   ]
  },
  {
   "cell_type": "code",
   "execution_count": null,
   "id": "e61ccf31",
   "metadata": {},
   "outputs": [],
   "source": []
  },
  {
   "cell_type": "markdown",
   "id": "1104a9e8",
   "metadata": {},
   "source": [
    "## nn Sequential"
   ]
  },
  {
   "cell_type": "code",
   "execution_count": 7,
   "id": "2cef0892",
   "metadata": {},
   "outputs": [],
   "source": [
    "stride = ks = 2\n",
    "\n",
    "conv1 = nn.Conv2d(in_channels=3, out_channels=5,  kernel_size=ks, stride=stride, bias=False)\n",
    "conv2 = nn.Conv2d(in_channels=5, out_channels=5,  kernel_size=ks, stride=stride, bias=False)\n",
    "\n",
    "tconv1 = nn.ConvTranspose2d(in_channels=5, out_channels=5,  kernel_size=ks, stride=stride, padding=0, dilation=1, bias=False)\n",
    "tconv2 = nn.ConvTranspose2d(in_channels=5, out_channels=3,  kernel_size=ks, stride=stride, padding=0, dilation=1, bias=False)\n",
    "\n",
    "relu = nn.ReLU()\n",
    "sigmoid = nn.Sigmoid()\n",
    "\n",
    "Net = nn.Sequential(conv1, relu, conv2, relu, tconv1, relu, tconv2, sigmoid)\n",
    "Net.apply(test_init_weights);"
   ]
  },
  {
   "cell_type": "code",
   "execution_count": 8,
   "id": "cd4142d6",
   "metadata": {},
   "outputs": [],
   "source": [
    "valid_input, valid_target = torch.load('../val_data.pkl')\n",
    "criterion = nn.MSELoss()\n",
    "\n",
    "select = 10\n",
    "x = (valid_input[:select].float()).requires_grad_()\n",
    "t = (valid_target[:select].float())\n",
    "\n",
    "y = Net(x)\n",
    "loss = criterion(y, t)\n",
    "loss.backward()\n",
    "\n",
    "gradients = []\n",
    "with torch.no_grad():\n",
    "    for p in Net.parameters(): gradients.append(p.grad)"
   ]
  },
  {
   "cell_type": "code",
   "execution_count": null,
   "id": "dace53db",
   "metadata": {},
   "outputs": [],
   "source": []
  },
  {
   "cell_type": "markdown",
   "id": "363abd53",
   "metadata": {},
   "source": [
    "## Comparison"
   ]
  },
  {
   "cell_type": "code",
   "execution_count": 9,
   "id": "43d8f002",
   "metadata": {},
   "outputs": [],
   "source": [
    "parameters = [list(Net.parameters())[i] for i in range(4)]"
   ]
  },
  {
   "cell_type": "code",
   "execution_count": 10,
   "id": "a9deea91",
   "metadata": {},
   "outputs": [
    {
     "data": {
      "text/plain": [
       "[True, True, True, True]"
      ]
     },
     "execution_count": 10,
     "metadata": {},
     "output_type": "execute_result"
    }
   ],
   "source": [
    "[torch.all(parameters[0]==my_parameters[0]).item() for i in range(4)]"
   ]
  },
  {
   "cell_type": "code",
   "execution_count": 11,
   "id": "7248cd69",
   "metadata": {},
   "outputs": [
    {
     "data": {
      "text/plain": [
       "[True, True, True, True]"
      ]
     },
     "execution_count": 11,
     "metadata": {},
     "output_type": "execute_result"
    }
   ],
   "source": [
    "[compare(gradients[0], my_gradients[0], decimals=4) for i in range(4)]"
   ]
  },
  {
   "cell_type": "code",
   "execution_count": null,
   "id": "2cc80ee8",
   "metadata": {},
   "outputs": [],
   "source": []
  }
 ],
 "metadata": {
  "kernelspec": {
   "display_name": "Python 3 (ipykernel)",
   "language": "python",
   "name": "python3"
  },
  "language_info": {
   "codemirror_mode": {
    "name": "ipython",
    "version": 3
   },
   "file_extension": ".py",
   "mimetype": "text/x-python",
   "name": "python",
   "nbconvert_exporter": "python",
   "pygments_lexer": "ipython3",
   "version": "3.9.12"
  }
 },
 "nbformat": 4,
 "nbformat_minor": 5
}
