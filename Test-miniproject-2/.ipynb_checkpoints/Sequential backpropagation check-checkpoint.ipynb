{
 "cells": [
  {
   "cell_type": "code",
   "execution_count": 12,
   "id": "502cfbbd",
   "metadata": {},
   "outputs": [],
   "source": [
    "import torch\n",
    "import numpy as np\n",
    "import matplotlib.pyplot as plt\n",
    "from itertools import islice\n",
    "\n",
    "from torch import nn\n",
    "from torch.nn import functional as F\n",
    "\n",
    "import sys \n",
    "import getpass\n",
    "\n",
    "sys.path.append('../')\n",
    "from Miniproject_2.model import *\n",
    "torch.set_grad_enabled(True);"
   ]
  },
  {
   "cell_type": "code",
   "execution_count": 13,
   "id": "6e50f33a",
   "metadata": {},
   "outputs": [],
   "source": [
    "def test_init_weights(model):\n",
    "    if isinstance(model,nn.Conv2d) or isinstance(model,nn.ConvTranspose2d):\n",
    "        model.weight.data.normal_(0,0.5, generator=torch.manual_seed(0))\n",
    "        \n",
    "def compare(x,y,decimals=7):\n",
    "    return torch.all(torch.round(torch.abs(x - y), decimals=decimals)==0.).item()"
   ]
  },
  {
   "cell_type": "markdown",
   "id": "78735278",
   "metadata": {},
   "source": [
    "## My Sequential \n",
    "\n",
    "**REMEMBER TO PUT A FIXED SEED IN MODEL.PY**"
   ]
  },
  {
   "cell_type": "code",
   "execution_count": 3,
   "id": "e9011986",
   "metadata": {},
   "outputs": [],
   "source": [
    "stride = ks = 2"
   ]
  },
  {
   "cell_type": "code",
   "execution_count": 4,
   "id": "dff46e98",
   "metadata": {},
   "outputs": [],
   "source": [
    "my_conv1 = Conv2d(in_channels=3, out_channels=5, stride=stride,  kernel_size=ks)\n",
    "my_conv2 = Conv2d(in_channels=5, out_channels=5, stride=stride,  kernel_size=ks)\n",
    "\n",
    "\n",
    "my_tconv1 = TransposeConv2d(in_channels=5, out_channels=5,  kernel_size=ks, stride=stride, padding=0, dilation=1)\n",
    "my_tconv2 = TransposeConv2d(in_channels=5, out_channels=3,  kernel_size=ks, stride=stride, padding=0, dilation=1)\n",
    "\n",
    "my_relu = ReLU()\n",
    "my_sigmoid = Sigmoid()\n",
    "\n",
    "my_Net = Sequential(my_conv1, my_relu, my_conv2, my_relu, my_tconv1, my_relu, my_tconv2, my_sigmoid)\n"
   ]
  },
  {
   "cell_type": "code",
   "execution_count": null,
   "id": "674d7497",
   "metadata": {},
   "outputs": [],
   "source": []
  },
  {
   "cell_type": "code",
   "execution_count": 5,
   "id": "1eed849e",
   "metadata": {},
   "outputs": [],
   "source": [
    "valid_input, valid_target = torch.load('../val_data.pkl')\n",
    "select = 10\n",
    "x = (valid_input[:select].float())\n",
    "t = (valid_target[:select].float())\n",
    "\n",
    "y = my_Net(x)\n",
    "loss = MSE()\n",
    "loss(y,t)\n",
    "my_Net.backward(loss.backward())"
   ]
  },
  {
   "cell_type": "code",
   "execution_count": 6,
   "id": "08c58e3e",
   "metadata": {},
   "outputs": [],
   "source": [
    "my_parameters = [list(my_Net.parameters())[::2][i][0] for i in range(4)]\n",
    "my_gradients  = [list(my_Net.parameters())[::2][i][1] for i in range(4)]"
   ]
  },
  {
   "cell_type": "code",
   "execution_count": null,
   "id": "e61ccf31",
   "metadata": {},
   "outputs": [],
   "source": []
  },
  {
   "cell_type": "markdown",
   "id": "1104a9e8",
   "metadata": {},
   "source": [
    "## nn Sequential"
   ]
  },
  {
   "cell_type": "code",
   "execution_count": 7,
   "id": "2cef0892",
   "metadata": {},
   "outputs": [],
   "source": [
    "stride = ks = 2\n",
    "\n",
    "conv1 = nn.Conv2d(in_channels=3, out_channels=5,  kernel_size=ks, stride=stride, bias=False)\n",
    "conv2 = nn.Conv2d(in_channels=5, out_channels=5,  kernel_size=ks, stride=stride, bias=False)\n",
    "\n",
    "tconv1 = nn.ConvTranspose2d(in_channels=5, out_channels=5,  kernel_size=ks, stride=stride, padding=0, dilation=1, bias=False)\n",
    "tconv2 = nn.ConvTranspose2d(in_channels=5, out_channels=3,  kernel_size=ks, stride=stride, padding=0, dilation=1, bias=False)\n",
    "\n",
    "relu = nn.ReLU()\n",
    "sigmoid = nn.Sigmoid()\n",
    "\n",
    "Net = nn.Sequential(conv1, relu, conv2, relu, tconv1, relu, tconv2, sigmoid)\n",
    "Net.apply(test_init_weights);"
   ]
  },
  {
   "cell_type": "code",
   "execution_count": 8,
   "id": "cd4142d6",
   "metadata": {},
   "outputs": [],
   "source": [
    "valid_input, valid_target = torch.load('../val_data.pkl')\n",
    "criterion = nn.MSELoss()\n",
    "\n",
    "select = 10\n",
    "x = (valid_input[:select].float()).requires_grad_()\n",
    "t = (valid_target[:select].float())\n",
    "\n",
    "y = Net(x)\n",
    "loss = criterion(y, t)\n",
    "loss.backward()\n",
    "\n",
    "gradients = []\n",
    "with torch.no_grad():\n",
    "    for p in Net.parameters(): gradients.append(p.grad)"
   ]
  },
  {
   "cell_type": "code",
   "execution_count": null,
   "id": "dace53db",
   "metadata": {},
   "outputs": [],
   "source": []
  },
  {
   "cell_type": "markdown",
   "id": "363abd53",
   "metadata": {},
   "source": [
    "## Comparison"
   ]
  },
  {
   "cell_type": "code",
   "execution_count": 9,
   "id": "43d8f002",
   "metadata": {},
   "outputs": [],
   "source": [
    "parameters = [list(Net.parameters())[i] for i in range(4)]"
   ]
  },
  {
   "cell_type": "code",
   "execution_count": 10,
   "id": "a9deea91",
   "metadata": {},
   "outputs": [
    {
     "data": {
      "text/plain": [
       "[True, True, True, True]"
      ]
     },
     "execution_count": 10,
     "metadata": {},
     "output_type": "execute_result"
    }
   ],
   "source": [
    "[torch.all(parameters[0]==my_parameters[0]).item() for i in range(4)]"
   ]
  },
  {
   "cell_type": "code",
   "execution_count": 11,
   "id": "7248cd69",
   "metadata": {},
   "outputs": [
    {
     "data": {
      "text/plain": [
       "[True, True, True, True]"
      ]
     },
     "execution_count": 11,
     "metadata": {},
     "output_type": "execute_result"
    }
   ],
   "source": [
    "[compare(gradients[0], my_gradients[0], decimals=4) for i in range(4)]"
   ]
  },
  {
   "cell_type": "code",
   "execution_count": null,
   "id": "2cc80ee8",
   "metadata": {},
   "outputs": [],
   "source": []
  }
 ],
 "metadata": {
  "kernelspec": {
   "display_name": "Python 3 (ipykernel)",
   "language": "python",
   "name": "python3"
  },
  "language_info": {
   "codemirror_mode": {
    "name": "ipython",
    "version": 3
   },
   "file_extension": ".py",
   "mimetype": "text/x-python",
   "name": "python",
   "nbconvert_exporter": "python",
   "pygments_lexer": "ipython3",
   "version": "3.9.12"
  }
 },
 "nbformat": 4,
 "nbformat_minor": 5
}
