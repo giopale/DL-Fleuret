{
 "cells": [
  {
   "cell_type": "code",
   "execution_count": 1,
   "id": "70876e64",
   "metadata": {},
   "outputs": [],
   "source": [
    "import sys\n",
    "sys.path.append('../')\n",
    "\n",
    "from Miniproject_2.model import Module"
   ]
  },
  {
   "cell_type": "code",
   "execution_count": 2,
   "id": "c7fcee89",
   "metadata": {},
   "outputs": [],
   "source": [
    "class Conv2d():\n",
    "    def __init__(self, in_channels, out_channels, kernel_size, stride=1, padding=0, dilation=1):\n",
    "        super(Conv2d, self).__init__()\n",
    "        self.in_channels  = in_channels\n",
    "        self.out_channels = out_channels\n",
    "        self.kernel_size  = kernel_size\n",
    "        self.stride   = stride\n",
    "        self.padding  = padding\n",
    "        self.dilation = dilation\n",
    "\n",
    "        self.weights  = torch.Tensor(out_channels, in_channels, kernel_size, kernel_size)\n",
    "\n",
    "    def forward(self, input):\n",
    "        N, C, h_in, w_in = input.shape\n",
    "        h_out = int((h_in + 2*self.padding - self.dilation*(self.kernel_size-1)-1)/self.stride+1)\n",
    "        w_out = int((w_in + 2*self.padding - self.dilation*(self.kernel_size-1)-1)/self.stride+1)\n",
    "\n",
    "        # x: [bs ksize num_sliding]\n",
    "        x = unfold(input, kernel_size=self.kernel_size, padding=self.padding, dilation=self.dilation)\n",
    "\n",
    "        ksize = self.in_channels*self.kernel_size*self.kernel_size\n",
    "        num_sliding = x.shape[2]\n",
    "\n",
    "        assert x.shape[1] == ksize\n",
    "\n",
    "        # x: [bs*num_sliding ksize]\n",
    "        x = torch.transpose(x, 1, 2).reshape(-1, ksize)\n",
    "\n",
    "        weight_flat = self.weight.view(self.out_channels, ksize)\n",
    "        x = x@weight_flat.t()\n",
    "\n",
    "        x = x.reshape(N, num_sliding, self.out_channels)\n",
    "        x = torch.transpose(x, 1, 2)\n",
    "        x = torch.nn.functional.fold(x, output_size=[h_out, w_out], kernel_size=1, padding=0, dilation=self.dilation, stride=1)\n",
    "        return x\n"
   ]
  },
  {
   "cell_type": "code",
   "execution_count": 4,
   "id": "fb4fe9b7",
   "metadata": {},
   "outputs": [],
   "source": [
    "import torch"
   ]
  },
  {
   "cell_type": "code",
   "execution_count": 8,
   "id": "bd168108",
   "metadata": {},
   "outputs": [
    {
     "data": {
      "text/plain": [
       "torch.Size([1000, 3, 28, 28])"
      ]
     },
     "execution_count": 8,
     "metadata": {},
     "output_type": "execute_result"
    }
   ],
   "source": [
    "img = torch.Tensor(1000, 3, 28, 28).normal_(0,1)\n",
    "img.shape"
   ]
  },
  {
   "cell_type": "code",
   "execution_count": null,
   "id": "6cea6767",
   "metadata": {},
   "outputs": [],
   "source": [
    "out_channels, in_channels, kernel_size = "
   ]
  },
  {
   "cell_type": "code",
   "execution_count": null,
   "id": "c6b2fa6b",
   "metadata": {},
   "outputs": [],
   "source": []
  }
 ],
 "metadata": {
  "kernelspec": {
   "display_name": "Python 3 (ipykernel)",
   "language": "python",
   "name": "python3"
  },
  "language_info": {
   "codemirror_mode": {
    "name": "ipython",
    "version": 3
   },
   "file_extension": ".py",
   "mimetype": "text/x-python",
   "name": "python",
   "nbconvert_exporter": "python",
   "pygments_lexer": "ipython3",
   "version": "3.9.12"
  }
 },
 "nbformat": 4,
 "nbformat_minor": 5
}
