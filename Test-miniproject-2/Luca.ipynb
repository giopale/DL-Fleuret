{
 "cells": [
  {
   "cell_type": "code",
   "execution_count": 1,
   "id": "70876e64",
   "metadata": {},
   "outputs": [],
   "source": [
    "import sys\n",
    "sys.path.append('../')\n",
    "\n",
    "from Miniproject_2.model import Module\n",
    "\n",
    "\n",
    "import torch\n",
    "from torch import empty , cat , arange\n",
    "from torch.nn.functional import fold, unfold\n",
    "import numpy as np\n",
    "import torchvision\n",
    "import torchvision.datasets as datasets\n",
    "from matplotlib import pyplot as plt\n",
    "import torch.nn.functional as F\n",
    "\n",
    "torch.set_grad_enabled(True);"
   ]
  },
  {
   "cell_type": "code",
   "execution_count": null,
   "id": "4e546689",
   "metadata": {},
   "outputs": [],
   "source": []
  },
  {
   "cell_type": "code",
   "execution_count": 87,
   "id": "b44e2c20",
   "metadata": {},
   "outputs": [],
   "source": [
    "def conv2d(input, weight, stride=1, padding=0, dilation=1):\n",
    "    N, _, h_in, w_in = input.shape\n",
    "    out_channels, in_channels, kernel_size = weight.shape[:-1]\n",
    "    \n",
    "    assert input.shape[1] == in_channels\n",
    "    \n",
    "    h_out = int((h_in + 2*padding - dilation*(kernel_size-1)-1)/stride+1)\n",
    "    w_out = int((w_in + 2*padding - dilation*(kernel_size-1)-1)/stride+1)\n",
    "\n",
    "    x = unfold(input, kernel_size=kernel_size, padding=padding, dilation=dilation, stride=stride)\n",
    "    cΠks, L = x.shape[1], x.shape[2]\n",
    "    \n",
    "    x = torch.transpose(x, 1, 2).reshape(-1, cΠks)\n",
    "    weight_flat = weight.reshape(out_channels, cΠks)\n",
    "    \n",
    "    x = x @ weight_flat.t()\n",
    "    x = x.reshape(N, L, out_channels).transpose_(1, 2)\n",
    "    x = fold(x, output_size=[h_out, w_out], kernel_size=1, padding=0, dilation=dilation, stride=1)\n",
    "    return x\n",
    "\n",
    "\n",
    "def conv_transpose2d(input, weight, stride=1, padding=0, dilation=1):\n",
    "    N, _, h_in, w_in = input.shape\n",
    "    in_channels, out_channels, kernel_size = weight.shape[:-1]\n",
    "    \n",
    "    eff_input = augment(input, nzeros=stride-1, padding=kernel_size-1-padding)\n",
    "    return  conv2d(eff_input, weight.flip(2,3).transpose(0,1), stride=1, padding=0, dilation=1) \n",
    "\n",
    "\n",
    "def augment(input, nzeros, padding=0):\n",
    "    shape = input.shape\n",
    "    nold  = shape[-1]\n",
    "    nnew  = nold + (nold-1)*nzeros\n",
    "    \n",
    "    new = torch.zeros(*shape[:2], nnew, nnew)\n",
    "    new[:,:,::(nzeros+1),::(nzeros+1)] = input\n",
    "                \n",
    "    if padding: new = unfold(new,1, padding=padding).reshape(*new.shape[:2],*[new.shape[-1]+2*padding]*2)\n",
    "    return new\n",
    "\n",
    "\n",
    "def conv_backward(input, dL_dy, weight, stride=1, padding=0, dilation=1):\n",
    "    out_channels, in_channels, kernel_size = weight.shape[:-1]\n",
    "    dL_dx = conv_transpose2d(dL_dy, weight, stride=stride, padding=padding, dilation=dilation)\n",
    "\n",
    "    ignored = int(input.shape[-1]-dL_dx.shape[-1])\n",
    "    if ignored:\n",
    "        dL_dx = unfold(dL_dx, 1, padding=ignored).reshape(*dL_dx.shape[:2],*[dL_dx.shape[-1]+2*ignored]*2)\n",
    "        dL_dx = dL_dx[:,:,ignored:, ignored:]\n",
    "\n",
    "\n",
    "    dL_df = torch.zeros_like(weight.transpose(0,1))\n",
    "    dL_dy_aug = augment(dL_dy, nzeros=stride-1, padding=0)\n",
    "\n",
    "    x = input if not ignored else input[:,:,:-ignored, :-ignored]\n",
    "    for mu in range(x.shape[0]):\n",
    "        for alpha in range(in_channels):\n",
    "            dLdy = dL_dy_aug[mu].view(1, out_channels,*dL_dy_aug.shape[2:]).transpose(0,1)\n",
    "            xx   = x[mu,alpha].view(1,1,*x.shape[2:])\n",
    "            dL_df[alpha] += conv2d(xx, dLdy)[0]\n",
    "\n",
    "    dL_df.transpose_(0,1)\n",
    "    return dL_dx, dL_df\n",
    "\n",
    "\n",
    "class Conv2d():\n",
    "    def __init__(self, in_channels, out_channels, kernel_size, stride=1, padding=0, dilation=1):\n",
    "        self.in_channels  = in_channels\n",
    "        self.out_channels = out_channels\n",
    "        self.kernel_size  = kernel_size\n",
    "        self.stride   = stride\n",
    "        self.padding  = padding\n",
    "        self.dilation = dilation\n",
    "\n",
    "        self.weight   = torch.Tensor(out_channels, in_channels, kernel_size, kernel_size)\n",
    "        \n",
    "    def forward(self, input):\n",
    "        return conv2d(input, self.weight, stride=self.stride, padding=self.padding, dilation=self.dilation)\n",
    "    \n",
    "    __call__ = forward\n",
    "    \n",
    "    def backward(self, input, dL_dy):\n",
    "        dL_dx, dL_df = conv_backward(input, dL_dy, self.weight, stride=self.stride,\\\n",
    "                                     padding=self.padding, dilation=self.dilation)\n",
    "        return dL_dx, dL_df\n",
    "    \n",
    "    \n",
    "class ConvTranspose2d():\n",
    "    def __init__(self, in_channels, out_channels, kernel_size, stride=1, padding=0, dilation=1):\n",
    "        self.in_channels  = in_channels\n",
    "        self.out_channels = out_channels\n",
    "        self.kernel_size  = kernel_size\n",
    "        self.stride   = stride\n",
    "        self.padding  = padding\n",
    "        self.dilation = dilation\n",
    "\n",
    "        self.weight   = torch.Tensor(in_channels, out_channels, kernel_size, kernel_size)\n",
    "        \n",
    "    def forward(self, input):\n",
    "        return conv_transpose2d(input, self.weight, stride=self.stride,\\\n",
    "                                padding=self.padding, dilation=self.dilation)\n",
    "    \n",
    "    __call__ = forward\n",
    "    \n",
    "    def backward(self, input, dL_dy):\n",
    "        p = self.kernel_size-1-self.padding\n",
    "        z = self.stride-1\n",
    "        \n",
    "        eff_input  = augment(input, nzeros=z, padding=p)\n",
    "        eff_weight = self.weight.flip(2,3).transpose(0,1)\n",
    "        dL_dx, dL_df = conv_backward(eff_input, dL_dy, eff_weight, stride=1, padding=0, dilation=1)\n",
    "        \n",
    "        dL_df = dL_df.flip(2,3).transpose(0,1)\n",
    "        return dL_dx[:,:,p:-p:z+1, p:-p:z+1], dL_df"
   ]
  },
  {
   "cell_type": "code",
   "execution_count": 3,
   "id": "918e1a03",
   "metadata": {},
   "outputs": [],
   "source": [
    "def compare(x,y,decimals=7):\n",
    "    return torch.all(torch.round(torch.abs(x - y), decimals=decimals)==0.).item()"
   ]
  },
  {
   "cell_type": "code",
   "execution_count": null,
   "id": "b02bb054",
   "metadata": {},
   "outputs": [],
   "source": []
  },
  {
   "cell_type": "markdown",
   "id": "4df1f302",
   "metadata": {},
   "source": [
    "## Test Forward Conv2d"
   ]
  },
  {
   "cell_type": "code",
   "execution_count": 4,
   "id": "137cf7fa",
   "metadata": {
    "scrolled": true
   },
   "outputs": [
    {
     "data": {
      "text/plain": [
       "torch.Size([1, 3, 32, 32])"
      ]
     },
     "execution_count": 4,
     "metadata": {},
     "output_type": "execute_result"
    }
   ],
   "source": [
    "images = torch.load('../train_data.pkl')\n",
    "a = images[0][:1].float()\n",
    "a.shape"
   ]
  },
  {
   "cell_type": "code",
   "execution_count": 5,
   "id": "e44439b5",
   "metadata": {},
   "outputs": [
    {
     "data": {
      "text/plain": [
       "torch.Size([5, 3, 3, 3])"
      ]
     },
     "execution_count": 5,
     "metadata": {},
     "output_type": "execute_result"
    }
   ],
   "source": [
    "kernel = torch.empty(5,3,3,3)\n",
    "kernel.shape"
   ]
  },
  {
   "cell_type": "code",
   "execution_count": 6,
   "id": "79b7f89c",
   "metadata": {},
   "outputs": [
    {
     "data": {
      "image/png": "[encoded data removed]",
      "text/plain": [
       "<Figure size 432x288 with 2 Axes>"
      ]
     },
     "metadata": {
      "needs_background": "light"
     },
     "output_type": "display_data"
    }
   ],
   "source": [
    "kernel[0, 0] = torch.tensor([ [ +0., +0., -1. ], [ +0., +1., +0. ], [ -1., +0., +0. ]])\n",
    "kernel[1, 0] = torch.tensor([ [ +1., +1., +1. ], [ +1., +1., +1. ], [ +1., +1., +1. ]])\n",
    "kernel[2, 0] = torch.tensor([ [ -1., +0., +1. ], [ -1., +0., +1. ], [ -1., +0., +1. ]])\n",
    "kernel[3, 0] = torch.tensor([ [ -1., -1., -1. ], [ +0., +0., +0. ], [ +1., +1., +1. ]])\n",
    "kernel[4, 0] = torch.tensor([ [ +0., -1., +0. ], [ -1., +4., -1. ], [ +0., -1., +0. ]])\n",
    "\n",
    "for j in range(0,5):\n",
    "    for i in range(1,3):\n",
    "        kernel[j,i] = kernel[j,0]\n",
    "        \n",
    "        \n",
    "plt.imshow(kernel[0,0],cmap='seismic',vmin=-1,vmax=1)\n",
    "plt.colorbar();"
   ]
  },
  {
   "cell_type": "code",
   "execution_count": 7,
   "id": "8c3ce9c5",
   "metadata": {},
   "outputs": [
    {
     "data": {
      "text/plain": [
       "torch.Size([1, 5, 30, 30])"
      ]
     },
     "execution_count": 7,
     "metadata": {},
     "output_type": "execute_result"
    }
   ],
   "source": [
    "#convolution with torch.functionals\n",
    "conv_a = F.conv2d(a, kernel, stride=1, padding=0, dilation=1)\n",
    "conv_a.shape"
   ]
  },
  {
   "cell_type": "code",
   "execution_count": 8,
   "id": "e4ce0260",
   "metadata": {},
   "outputs": [
    {
     "data": {
      "text/plain": [
       "torch.Size([1, 5, 30, 30])"
      ]
     },
     "execution_count": 8,
     "metadata": {},
     "output_type": "execute_result"
    }
   ],
   "source": [
    "#Implemented convolution\n",
    "myconv = Conv2d(3,5, 3, stride=1, padding=0, dilation=1)\n",
    "myconv.weight = kernel\n",
    "myconv_a = myconv(a)\n",
    "myconv_a.shape"
   ]
  },
  {
   "cell_type": "code",
   "execution_count": 9,
   "id": "13a265e3",
   "metadata": {},
   "outputs": [
    {
     "data": {
      "text/plain": [
       "tensor(True)"
      ]
     },
     "execution_count": 9,
     "metadata": {},
     "output_type": "execute_result"
    }
   ],
   "source": [
    "#verify\n",
    "torch.all(conv_a == myconv_a)"
   ]
  },
  {
   "cell_type": "code",
   "execution_count": null,
   "id": "7488c41c",
   "metadata": {},
   "outputs": [],
   "source": []
  },
  {
   "cell_type": "markdown",
   "id": "31a127d4",
   "metadata": {},
   "source": [
    "## Test derivative MSE loss"
   ]
  },
  {
   "cell_type": "code",
   "execution_count": 10,
   "id": "15d4f503",
   "metadata": {},
   "outputs": [],
   "source": [
    "def dL(y,trg):\n",
    "    return 2 * (y-trg) / y.shape.numel()"
   ]
  },
  {
   "cell_type": "code",
   "execution_count": 11,
   "id": "597419a9",
   "metadata": {},
   "outputs": [
    {
     "data": {
      "text/plain": [
       "torch.Size([10, 3, 32, 32])"
      ]
     },
     "execution_count": 11,
     "metadata": {},
     "output_type": "execute_result"
    }
   ],
   "source": [
    "valid_input, valid_target = torch.load('../val_data.pkl')\n",
    "\n",
    "select=10\n",
    "y     = (valid_input[:select].double()/255.).requires_grad_()\n",
    "ytrue = (valid_target[:select].double()/255.).requires_grad_()\n",
    "\n",
    "y.shape"
   ]
  },
  {
   "cell_type": "code",
   "execution_count": 12,
   "id": "7c6e1640",
   "metadata": {},
   "outputs": [],
   "source": [
    "L = F.mse_loss(y, ytrue)\n",
    "dL_dy = torch.autograd.grad(L, (y))[0]\n",
    "\n",
    "mydL_dy = dL(y,ytrue)"
   ]
  },
  {
   "cell_type": "code",
   "execution_count": 13,
   "id": "35b93028",
   "metadata": {},
   "outputs": [
    {
     "data": {
      "text/plain": [
       "True"
      ]
     },
     "execution_count": 13,
     "metadata": {},
     "output_type": "execute_result"
    }
   ],
   "source": [
    "compare(dL_dy, mydL_dy, decimals=14)"
   ]
  },
  {
   "cell_type": "code",
   "execution_count": null,
   "id": "57a6d184",
   "metadata": {},
   "outputs": [],
   "source": []
  },
  {
   "cell_type": "markdown",
   "id": "ae211a83",
   "metadata": {},
   "source": [
    "## Test backward Conv2d"
   ]
  },
  {
   "cell_type": "code",
   "execution_count": 14,
   "id": "1c0dfccb",
   "metadata": {},
   "outputs": [],
   "source": [
    "valid_input, valid_target = torch.load('../val_data.pkl')\n",
    "\n",
    "select=10\n",
    "x     = (valid_input[:select].float()).requires_grad_()\n",
    "xtrue = (valid_target[:select].float())"
   ]
  },
  {
   "cell_type": "code",
   "execution_count": 15,
   "id": "1edaa964",
   "metadata": {},
   "outputs": [],
   "source": [
    "f = torch.empty(5,3,3,3)\n",
    "\n",
    "f[0, 0] = torch.tensor([ [ +0., +0., -1. ], [ +0., +1., +0. ], [ -1., +0., +0. ]])\n",
    "f[1, 0] = torch.tensor([ [ +1., +1., +1. ], [ +1., +1., +1. ], [ +1., +1., +1. ]])\n",
    "f[2, 0] = torch.tensor([ [ -1., +0., +1. ], [ -1., +0., +1. ], [ -1., +0., +1. ]])\n",
    "f[3, 0] = torch.tensor([ [ -1., -1., -1. ], [ +0., +0., +0. ], [ +1., +1., +1. ]])\n",
    "f[4, 0] = torch.tensor([ [ +0., -1., +0. ], [ -1., +4., -1. ], [ +0., -1., +0. ]])\n",
    "\n",
    "for j in range(0,5):\n",
    "    for i in range(1,3):\n",
    "        f[j,i] = f[j,0]\n",
    "        \n",
    "f.requires_grad_();"
   ]
  },
  {
   "cell_type": "code",
   "execution_count": 16,
   "id": "1d6c0c3d",
   "metadata": {},
   "outputs": [
    {
     "name": "stdout",
     "output_type": "stream",
     "text": [
      "Shapes\n",
      "x : \t (10, 3, 32, 32)\n",
      "y : \t (10, 5, 15, 15)\n",
      "f : \t (5, 3, 3, 3)\n",
      "dL_dy :  (10, 5, 15, 15)\n",
      "dL_dx :  (10, 3, 32, 32)\n",
      "dL_df :  (5, 3, 3, 3)\n"
     ]
    }
   ],
   "source": [
    "stride = 2\n",
    "y = F.conv2d(x, f, stride=stride)\n",
    "\n",
    "with torch.no_grad():\n",
    "    ytrue = F.conv2d(xtrue, f, stride=stride)\n",
    "\n",
    "L = F.mse_loss(y,ytrue)\n",
    "dL_dy, dL_dx, dL_df = torch.autograd.grad(L, (y,x,f))\n",
    "\n",
    "print(\"Shapes\")\n",
    "print(\"x : \\t\", tuple(x.shape))\n",
    "print(\"y : \\t\", tuple(y.shape))\n",
    "print(\"f : \\t\", tuple(f.shape))\n",
    "print(\"dL_dy : \", tuple(dL_dy.shape))\n",
    "print(\"dL_dx : \", tuple(dL_dx.shape))\n",
    "print(\"dL_df : \", tuple(dL_df.shape))"
   ]
  },
  {
   "cell_type": "code",
   "execution_count": 17,
   "id": "39b5de76",
   "metadata": {},
   "outputs": [],
   "source": [
    "myconv = Conv2d(3 ,5, 3, stride=stride, padding=0, dilation=1)\n",
    "myconv.weight = f"
   ]
  },
  {
   "cell_type": "code",
   "execution_count": 18,
   "id": "ed976f36",
   "metadata": {},
   "outputs": [
    {
     "name": "stdout",
     "output_type": "stream",
     "text": [
      "Shapes\n",
      "mydL_dx :  torch.Size([10, 3, 32, 32])\n",
      "mydL_df :  torch.Size([5, 3, 3, 3])\n"
     ]
    }
   ],
   "source": [
    "mydL_dx, mydL_df = myconv.backward(x, dL_dy)\n",
    "\n",
    "print(\"Shapes\")\n",
    "print(\"mydL_dx : \",mydL_dx.shape)\n",
    "print(\"mydL_df : \",mydL_df.shape)"
   ]
  },
  {
   "cell_type": "code",
   "execution_count": 19,
   "id": "db7fea0d",
   "metadata": {},
   "outputs": [
    {
     "data": {
      "text/plain": [
       "True"
      ]
     },
     "execution_count": 19,
     "metadata": {},
     "output_type": "execute_result"
    }
   ],
   "source": [
    "compare(dL_dx, mydL_dx, decimals=6)"
   ]
  },
  {
   "cell_type": "code",
   "execution_count": 20,
   "id": "006dd24d",
   "metadata": {},
   "outputs": [
    {
     "data": {
      "text/plain": [
       "True"
      ]
     },
     "execution_count": 20,
     "metadata": {},
     "output_type": "execute_result"
    }
   ],
   "source": [
    "compare(dL_df, mydL_df, decimals=3)"
   ]
  },
  {
   "cell_type": "code",
   "execution_count": null,
   "id": "32753a81",
   "metadata": {},
   "outputs": [],
   "source": []
  },
  {
   "cell_type": "markdown",
   "id": "5bef9e2f",
   "metadata": {},
   "source": [
    "## Test transposed convolution"
   ]
  },
  {
   "cell_type": "code",
   "execution_count": 21,
   "id": "79255d65",
   "metadata": {},
   "outputs": [],
   "source": [
    "dd   = F.conv_transpose2d(x, f.transpose(0,1), stride=2, padding=0)\n",
    "mydd =   conv_transpose2d(x, f.transpose(0,1), stride=2, padding=0)"
   ]
  },
  {
   "cell_type": "code",
   "execution_count": 22,
   "id": "ae8e8a0c",
   "metadata": {},
   "outputs": [
    {
     "data": {
      "text/plain": [
       "True"
      ]
     },
     "execution_count": 22,
     "metadata": {},
     "output_type": "execute_result"
    }
   ],
   "source": [
    "compare(dd,mydd,decimals=3)"
   ]
  },
  {
   "cell_type": "code",
   "execution_count": null,
   "id": "62b71000",
   "metadata": {},
   "outputs": [],
   "source": []
  },
  {
   "cell_type": "markdown",
   "id": "74c084c5",
   "metadata": {},
   "source": [
    "## Test backward Transposed Conv2d"
   ]
  },
  {
   "cell_type": "code",
   "execution_count": 29,
   "id": "d625388c",
   "metadata": {},
   "outputs": [],
   "source": [
    "valid_input, valid_target = torch.load('../val_data.pkl')\n",
    "\n",
    "select=10\n",
    "x     = (valid_input[:select].float()).requires_grad_()\n",
    "xtrue = (valid_target[:select].float())"
   ]
  },
  {
   "cell_type": "code",
   "execution_count": 30,
   "id": "5a0c0ec4",
   "metadata": {},
   "outputs": [],
   "source": [
    "f = torch.empty(5,3,3,3)\n",
    "\n",
    "f[0, 0] = torch.tensor([ [ +0., +0., -1. ], [ +0., +1., +0. ], [ -1., +0., +0. ]])\n",
    "f[1, 0] = torch.tensor([ [ +1., +1., +1. ], [ +1., +1., +1. ], [ +1., +1., +1. ]])\n",
    "f[2, 0] = torch.tensor([ [ -1., +0., +1. ], [ -1., +0., +1. ], [ -1., +0., +1. ]])\n",
    "f[3, 0] = torch.tensor([ [ -1., -1., -1. ], [ +0., +0., +0. ], [ +1., +1., +1. ]])\n",
    "f[4, 0] = torch.tensor([ [ +0., -1., +0. ], [ -1., +4., -1. ], [ +0., -1., +0. ]])\n",
    "\n",
    "for j in range(0,5):\n",
    "    for i in range(1,3):\n",
    "        f[j,i] = f[j,0]\n",
    "\n",
    "ff = f.transpose(0,1)\n",
    "ff.requires_grad_();"
   ]
  },
  {
   "cell_type": "code",
   "execution_count": 31,
   "id": "4f077c16",
   "metadata": {},
   "outputs": [
    {
     "name": "stdout",
     "output_type": "stream",
     "text": [
      "Shapes\n",
      "x : \t (10, 3, 32, 32)\n",
      "y : \t (10, 5, 65, 65)\n",
      "f : \t (5, 3, 3, 3)\n",
      "dL_dy :  (10, 5, 65, 65)\n",
      "dL_dx :  (10, 3, 32, 32)\n",
      "dL_df :  (3, 5, 3, 3)\n"
     ]
    }
   ],
   "source": [
    "stride = 2\n",
    "y = F.conv_transpose2d(x, ff, stride=stride)\n",
    "\n",
    "with torch.no_grad():\n",
    "    ytrue = F.conv_transpose2d(xtrue, ff, stride=stride)\n",
    "\n",
    "L = F.mse_loss(y,ytrue)\n",
    "dL_dy, dL_dx, dL_df = torch.autograd.grad(L, (y,x,ff))\n",
    "\n",
    "print(\"Shapes\")\n",
    "print(\"x : \\t\", tuple(x.shape))\n",
    "print(\"y : \\t\", tuple(y.shape))\n",
    "print(\"f : \\t\", tuple(f.shape))\n",
    "print(\"dL_dy : \", tuple(dL_dy.shape))\n",
    "print(\"dL_dx : \", tuple(dL_dx.shape))\n",
    "print(\"dL_df : \", tuple(dL_df.shape))"
   ]
  },
  {
   "cell_type": "code",
   "execution_count": null,
   "id": "1cbdbef0",
   "metadata": {},
   "outputs": [],
   "source": []
  },
  {
   "cell_type": "code",
   "execution_count": 88,
   "id": "7f696e9a",
   "metadata": {},
   "outputs": [],
   "source": [
    "mytconv = ConvTranspose2d(3 ,5, 3, stride=stride, padding=0, dilation=1)\n",
    "mytconv.weight = ff"
   ]
  },
  {
   "cell_type": "code",
   "execution_count": 89,
   "id": "55fc0a1a",
   "metadata": {},
   "outputs": [
    {
     "name": "stdout",
     "output_type": "stream",
     "text": [
      "Shapes\n",
      "mydL_dx :  torch.Size([10, 3, 32, 32])\n",
      "mydL_df :  torch.Size([3, 5, 3, 3])\n"
     ]
    }
   ],
   "source": [
    "mydL_dx, mydL_df = mytconv.backward(x, dL_dy)\n",
    "\n",
    "print(\"Shapes\")\n",
    "print(\"mydL_dx : \",mydL_dx.shape)\n",
    "print(\"mydL_df : \",mydL_df.shape)"
   ]
  },
  {
   "cell_type": "code",
   "execution_count": 90,
   "id": "5dcaaf06",
   "metadata": {},
   "outputs": [
    {
     "data": {
      "text/plain": [
       "True"
      ]
     },
     "execution_count": 90,
     "metadata": {},
     "output_type": "execute_result"
    }
   ],
   "source": [
    "compare(dL_dx, mydL_dx, decimals=6)"
   ]
  },
  {
   "cell_type": "code",
   "execution_count": 91,
   "id": "0022c508",
   "metadata": {},
   "outputs": [
    {
     "data": {
      "text/plain": [
       "True"
      ]
     },
     "execution_count": 91,
     "metadata": {},
     "output_type": "execute_result"
    }
   ],
   "source": [
    "compare(dL_df, mydL_df, decimals=3)"
   ]
  },
  {
   "cell_type": "code",
   "execution_count": null,
   "id": "a755107c",
   "metadata": {},
   "outputs": [],
   "source": []
  },
  {
   "cell_type": "code",
   "execution_count": 99,
   "id": "b4b3b5ed",
   "metadata": {},
   "outputs": [],
   "source": [
    "from collections import OrderedDict\n",
    "from typing import Dict, Optional"
   ]
  },
  {
   "cell_type": "code",
   "execution_count": 102,
   "id": "87160787",
   "metadata": {},
   "outputs": [],
   "source": [
    "class Sequential():\n",
    "    def __init__(self, **kwargs):\n",
    "        self._modules: Dict[str, Optional['Module']] = OrderedDict()\n",
    "\n",
    "        for key, val in kwargs.items():\n",
    "            self.add_module(key, val)\n",
    "            \n",
    "    def add_module(self, name, module):\n",
    "        self._modules[name] = module"
   ]
  },
  {
   "cell_type": "code",
   "execution_count": 105,
   "id": "6a3b9fb8",
   "metadata": {},
   "outputs": [
    {
     "data": {
      "text/plain": [
       "OrderedDict([('c', <__main__.ConvTranspose2d at 0x7efe5887f070>),\n",
       "             ('d', <__main__.Conv2d at 0x7efe5fdf56d0>)])"
      ]
     },
     "execution_count": 105,
     "metadata": {},
     "output_type": "execute_result"
    }
   ],
   "source": [
    "s = Sequential(c=mytconv, d=myconv)\n",
    "\n",
    "s._modules"
   ]
  },
  {
   "cell_type": "code",
   "execution_count": null,
   "id": "f0277813",
   "metadata": {},
   "outputs": [],
   "source": []
  },
  {
   "cell_type": "code",
   "execution_count": null,
   "id": "d1111f56",
   "metadata": {},
   "outputs": [],
   "source": []
  },
  {
   "cell_type": "code",
   "execution_count": null,
   "id": "c5f66f2f",
   "metadata": {},
   "outputs": [],
   "source": []
  },
  {
   "cell_type": "code",
   "execution_count": null,
   "id": "a97ee917",
   "metadata": {},
   "outputs": [],
   "source": []
  },
  {
   "cell_type": "code",
   "execution_count": null,
   "id": "085ad66e",
   "metadata": {},
   "outputs": [],
   "source": []
  }
 ],
 "metadata": {
  "kernelspec": {
   "display_name": "Python 3 (ipykernel)",
   "language": "python",
   "name": "python3"
  },
  "language_info": {
   "codemirror_mode": {
    "name": "ipython",
    "version": 3
   },
   "file_extension": ".py",
   "mimetype": "text/x-python",
   "name": "python",
   "nbconvert_exporter": "python",
   "pygments_lexer": "ipython3",
   "version": "3.9.12"
  }
 },
 "nbformat": 4,
 "nbformat_minor": 5
}
