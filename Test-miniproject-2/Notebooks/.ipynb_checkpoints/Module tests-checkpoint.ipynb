{
 "cells": [
  {
   "cell_type": "code",
   "execution_count": 1,
   "id": "5bfa370f",
   "metadata": {},
   "outputs": [],
   "source": [
    "import torch\n",
    "import numpy as np\n",
    "import matplotlib.pyplot as plt\n",
    "from itertools import islice\n",
    "\n",
    "from torch import nn\n",
    "from torch.nn import functional as F\n",
    "\n",
    "import importlib\n",
    "import sys \n",
    "import getpass\n",
    "\n",
    "sys.path.append('/home/luca_ltpn/DL-Fleuret/Proj_308427_348143_000000')\n",
    "sys.path.append('/home/luca_ltpn/DL-Fleuret')\n",
    "from Miniproject_2.model import *"
   ]
  },
  {
   "cell_type": "code",
   "execution_count": null,
   "id": "469ac30f",
   "metadata": {},
   "outputs": [],
   "source": []
  },
  {
   "cell_type": "code",
   "execution_count": 2,
   "id": "09389679",
   "metadata": {},
   "outputs": [],
   "source": [
    "x = torch.randn(1, 3, 32, 32)"
   ]
  },
  {
   "cell_type": "code",
   "execution_count": 9,
   "id": "55ff42cc",
   "metadata": {},
   "outputs": [],
   "source": [
    "conv = Conv2d(3, 3, 3)"
   ]
  },
  {
   "cell_type": "code",
   "execution_count": 10,
   "id": "0d249d58",
   "metadata": {},
   "outputs": [
    {
     "data": {
      "text/plain": [
       "True"
      ]
     },
     "execution_count": 10,
     "metadata": {},
     "output_type": "execute_result"
    }
   ],
   "source": [
    "torch.allclose(conv.forward(x), F.conv2d(x, conv.weight, conv.bias))"
   ]
  },
  {
   "cell_type": "code",
   "execution_count": null,
   "id": "6bba3312",
   "metadata": {},
   "outputs": [],
   "source": []
  }
 ],
 "metadata": {
  "kernelspec": {
   "display_name": "Python 3 (ipykernel)",
   "language": "python",
   "name": "python3"
  },
  "language_info": {
   "codemirror_mode": {
    "name": "ipython",
    "version": 3
   },
   "file_extension": ".py",
   "mimetype": "text/x-python",
   "name": "python",
   "nbconvert_exporter": "python",
   "pygments_lexer": "ipython3",
   "version": "3.9.12"
  }
 },
 "nbformat": 4,
 "nbformat_minor": 5
}
