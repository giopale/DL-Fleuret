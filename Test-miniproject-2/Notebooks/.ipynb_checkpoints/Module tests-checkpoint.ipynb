{
 "cells": [
  {
   "cell_type": "code",
   "execution_count": 16,
   "id": "5bfa370f",
   "metadata": {},
   "outputs": [],
   "source": [
    "import torch\n",
    "import numpy as np\n",
    "import matplotlib.pyplot as plt\n",
    "from itertools import islice\n",
    "\n",
    "from torch import nn\n",
    "from torch.nn import functional as F\n",
    "\n",
    "import importlib\n",
    "import sys \n",
    "import getpass\n",
    "\n",
    "sys.path.append('/home/luca_ltpn/DL-Fleuret/Proj_308427_348143_XXXXXX')\n",
    "sys.path.append('/home/luca_ltpn/DL-Fleuret')\n",
    "from Miniproject_2.model import *"
   ]
  },
  {
   "cell_type": "code",
   "execution_count": null,
   "id": "b1afe5da",
   "metadata": {},
   "outputs": [],
   "source": []
  },
  {
   "cell_type": "code",
   "execution_count": 17,
   "id": "3ff0f0db",
   "metadata": {},
   "outputs": [],
   "source": [
    "def Fconv2d(X, K, stride=1, padding=0, dilation=1, bias=torch.Tensor([])):\n",
    "    N, _, H, W = X.shape\n",
    "    out_channels, in_channels, h, w = K.shape\n",
    "    assert X.shape[1] == in_channels\n",
    "    assert w == h\n",
    "    \n",
    "    h_out = int((H + 2*padding - dilation*(h-1)-1)/stride+1)\n",
    "    w_out = int((W + 2*padding - dilation*(w-1)-1)/stride+1)\n",
    "\n",
    "    print(\"Shapes\")\n",
    "    print(\"Input:\", X.shape)\n",
    "    print(\"Kernel:\", K.shape)\n",
    "    \n",
    "    print(\"\\nInput reshape:\")\n",
    "    print(X.shape)\n",
    "    Xprime  = unfold(X, kernel_size=h, padding=padding, dilation=dilation, stride=stride)\n",
    "    print(Xprime.shape)\n",
    "    \n",
    "    cΠks, L = Xprime.shape[1], Xprime.shape[2]\n",
    "    Xprime  = torch.transpose(Xprime, 1, 2).reshape(-1, cΠks)\n",
    "    print(Xprime.shape)\n",
    "    \n",
    "    print(\"\\nKernel reshape:\")\n",
    "    print(K.shape)\n",
    "    Kprime  = K.reshape(out_channels, cΠks)\n",
    "    print(Kprime.shape)\n",
    "    \n",
    "    \n",
    "    Yprime = Xprime @ Kprime.t()    \n",
    "    \n",
    "    print(\"\\nOutput (MATMUL)\")\n",
    "    print(Yprime.shape)\n",
    "    Y = Yprime.reshape(N, L, out_channels).transpose_(1, 2)\n",
    "    print(Y.shape)\n",
    "    Y = fold(Y, output_size=[h_out, w_out], kernel_size=1, padding=0, dilation=1, stride=1)\n",
    "    print(Y.shape)\n",
    "\n",
    "    if len(bias):\n",
    "        bias = bias.expand(N,h_out,w_out,out_channels).permute(0,3,1,2)\n",
    "        Y += bias\n",
    "    return Y"
   ]
  },
  {
   "cell_type": "code",
   "execution_count": 18,
   "id": "48d9543f",
   "metadata": {},
   "outputs": [],
   "source": [
    "x = torch.randn(10,3,32,32)\n",
    "\n",
    "f = torch.empty(5,3,2,2)\n",
    "\n",
    "f[0, 0] = torch.tensor([ [ +0., +0. ], [ +0., +1.,]])\n",
    "f[1, 0] = torch.tensor([ [ +1., +0. ], [ +0., +1.,]])\n",
    "f[2, 0] = torch.tensor([ [ -1., +0. ], [ -1., +0.,]])\n",
    "f[3, 0] = torch.tensor([ [ -1., -1. ], [ +1., +0.,]])\n",
    "f[4, 0] = torch.tensor([ [ +0., -1. ], [ -1., +2.,]])\n",
    "\n",
    "for j in range(0,5):\n",
    "    for i in range(1,3):\n",
    "        f[j,i] = f[j,0]"
   ]
  },
  {
   "cell_type": "code",
   "execution_count": 21,
   "id": "7590886f",
   "metadata": {},
   "outputs": [
    {
     "name": "stdout",
     "output_type": "stream",
     "text": [
      "Shapes\n",
      "Input: torch.Size([10, 3, 32, 32])\n",
      "Kernel: torch.Size([5, 3, 2, 2])\n",
      "\n",
      "Input reshape:\n",
      "torch.Size([10, 3, 32, 32])\n",
      "torch.Size([10, 12, 256])\n",
      "torch.Size([2560, 12])\n",
      "\n",
      "Kernel reshape:\n",
      "torch.Size([5, 3, 2, 2])\n",
      "torch.Size([5, 12])\n",
      "\n",
      "Output (MATMUL)\n",
      "torch.Size([2560, 5])\n",
      "torch.Size([10, 5, 256])\n",
      "torch.Size([10, 5, 16, 16])\n"
     ]
    }
   ],
   "source": [
    "o = Fconv2d(x,f,stride=2)"
   ]
  },
  {
   "cell_type": "code",
   "execution_count": null,
   "id": "55ff42cc",
   "metadata": {},
   "outputs": [],
   "source": []
  },
  {
   "cell_type": "code",
   "execution_count": null,
   "id": "0d249d58",
   "metadata": {},
   "outputs": [],
   "source": []
  },
  {
   "cell_type": "code",
   "execution_count": null,
   "id": "0554cec5",
   "metadata": {},
   "outputs": [],
   "source": []
  }
 ],
 "metadata": {
  "kernelspec": {
   "display_name": "Python 3 (ipykernel)",
   "language": "python",
   "name": "python3"
  },
  "language_info": {
   "codemirror_mode": {
    "name": "ipython",
    "version": 3
   },
   "file_extension": ".py",
   "mimetype": "text/x-python",
   "name": "python",
   "nbconvert_exporter": "python",
   "pygments_lexer": "ipython3",
   "version": "3.9.12"
  }
 },
 "nbformat": 4,
 "nbformat_minor": 5
}
