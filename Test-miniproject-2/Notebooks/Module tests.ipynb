{
 "cells": [
  {
   "cell_type": "code",
   "execution_count": 1,
   "id": "5bfa370f",
   "metadata": {},
   "outputs": [],
   "source": [
    "import torch\n",
    "import numpy as np\n",
    "import matplotlib.pyplot as plt\n",
    "from itertools import islice\n",
    "\n",
    "from torch import nn\n",
    "from torch.nn import functional as F\n",
    "\n",
    "import importlib\n",
    "import sys \n",
    "import getpass\n",
    "\n",
    "sys.path.append('/home/luca_ltpn/DL-Fleuret/Proj_308427_348143_000000')\n",
    "sys.path.append('/home/luca_ltpn/DL-Fleuret')\n",
    "from Miniproject_2.model import *"
   ]
  },
  {
   "cell_type": "code",
   "execution_count": null,
   "id": "52f30496",
   "metadata": {},
   "outputs": [],
   "source": []
  },
  {
   "cell_type": "code",
   "execution_count": 3,
   "id": "3941aabd",
   "metadata": {},
   "outputs": [],
   "source": [
    "x = torch.randn(1, 3, 32, 32)"
   ]
  },
  {
   "cell_type": "code",
   "execution_count": 11,
   "id": "f9a474d4",
   "metadata": {},
   "outputs": [],
   "source": [
    "r = torch.sigmoid(x)"
   ]
  },
  {
   "cell_type": "code",
   "execution_count": 16,
   "id": "d95d618e",
   "metadata": {},
   "outputs": [
    {
     "data": {
      "text/plain": [
       "tensor([[[[0.2424, 0.6965, 0.2418,  ..., 0.3265, 0.4646, 0.3770],\n",
       "          [0.4413, 0.4143, 0.6479,  ..., 0.0821, 0.3744, 0.6317],\n",
       "          [0.6382, 0.1101, 0.6098,  ..., 0.4747, 0.5124, 0.8357],\n",
       "          ...,\n",
       "          [0.7215, 0.3668, 0.6716,  ..., 0.3588, 0.7320, 0.6573],\n",
       "          [0.3410, 0.5041, 0.6844,  ..., 0.2408, 0.5683, 0.6214],\n",
       "          [0.5112, 0.6878, 0.2375,  ..., 0.6972, 0.5446, 0.6583]],\n",
       "\n",
       "         [[0.2733, 0.4050, 0.1933,  ..., 0.8718, 0.1475, 0.6183],\n",
       "          [0.6759, 0.8793, 0.4824,  ..., 0.2085, 0.6668, 0.2415],\n",
       "          [0.1743, 0.5013, 0.5416,  ..., 0.7947, 0.2855, 0.7027],\n",
       "          ...,\n",
       "          [0.2725, 0.7607, 0.5415,  ..., 0.8721, 0.4289, 0.6061],\n",
       "          [0.7567, 0.4229, 0.3296,  ..., 0.4959, 0.4717, 0.1343],\n",
       "          [0.5058, 0.4193, 0.2565,  ..., 0.9421, 0.7869, 0.3951]],\n",
       "\n",
       "         [[0.7776, 0.4375, 0.7906,  ..., 0.8409, 0.2691, 0.4411],\n",
       "          [0.5082, 0.7152, 0.7481,  ..., 0.1950, 0.8441, 0.3535],\n",
       "          [0.3847, 0.4157, 0.7813,  ..., 0.6007, 0.3127, 0.1599],\n",
       "          ...,\n",
       "          [0.7349, 0.6701, 0.8916,  ..., 0.6018, 0.3805, 0.5445],\n",
       "          [0.2673, 0.3059, 0.5806,  ..., 0.7609, 0.3285, 0.4643],\n",
       "          [0.2777, 0.6907, 0.8183,  ..., 0.3724, 0.8525, 0.6279]]]])"
      ]
     },
     "execution_count": 16,
     "metadata": {},
     "output_type": "execute_result"
    }
   ],
   "source": [
    "x.sigmoid()"
   ]
  },
  {
   "cell_type": "code",
   "execution_count": 17,
   "id": "1ee32aac",
   "metadata": {},
   "outputs": [
    {
     "data": {
      "text/plain": [
       "tensor([[[[-1.1398,  0.8309, -1.1430,  ..., -0.7242, -0.1419, -0.5025],\n",
       "          [-0.2359, -0.3461,  0.6098,  ..., -2.4139, -0.5133,  0.5394],\n",
       "          [ 0.5674, -2.0894,  0.4464,  ..., -0.1014,  0.0495,  1.6268],\n",
       "          ...,\n",
       "          [ 0.9521, -0.5462,  0.7153,  ..., -0.5808,  1.0048,  0.6512],\n",
       "          [-0.6587,  0.0164,  0.7742,  ..., -1.1481,  0.2751,  0.4954],\n",
       "          [ 0.0448,  0.7898, -1.1663,  ...,  0.8338,  0.1787,  0.6558]],\n",
       "\n",
       "         [[-0.9780, -0.3847, -1.4289,  ...,  1.9165, -1.7542,  0.4824],\n",
       "          [ 0.7348,  1.9854, -0.0706,  ..., -1.3341,  0.6938, -1.1446],\n",
       "          [-1.5557,  0.0052,  0.1667,  ...,  1.3536, -0.9171,  0.8603],\n",
       "          ...,\n",
       "          [-0.9819,  1.1567,  0.1665,  ...,  1.9197, -0.2864,  0.4310],\n",
       "          [ 1.1347, -0.3107, -0.7099,  ..., -0.0164, -0.1132, -1.8632],\n",
       "          [ 0.0233, -0.3257, -1.0643,  ...,  2.7892,  1.3061, -0.4259]],\n",
       "\n",
       "         [[ 1.2517, -0.2514,  1.3286,  ...,  1.6651, -0.9993, -0.2369],\n",
       "          [ 0.0327,  0.9205,  1.0885,  ..., -1.4176,  1.6890, -0.6037],\n",
       "          [-0.4697, -0.3404,  1.2733,  ...,  0.4084, -0.7873, -1.6589],\n",
       "          ...,\n",
       "          [ 1.0197,  0.7086,  2.1072,  ...,  0.4130, -0.4876,  0.1783],\n",
       "          [-1.0086, -0.8195,  0.3252,  ...,  1.1576, -0.7148, -0.1431],\n",
       "          [-0.9559,  0.8035,  1.5049,  ..., -0.5219,  1.7547,  0.5234]]]])"
      ]
     },
     "execution_count": 17,
     "metadata": {},
     "output_type": "execute_result"
    }
   ],
   "source": [
    "x"
   ]
  },
  {
   "cell_type": "code",
   "execution_count": 10,
   "id": "a9185d56",
   "metadata": {},
   "outputs": [
    {
     "data": {
      "text/plain": [
       "tensor(True)"
      ]
     },
     "execution_count": 10,
     "metadata": {},
     "output_type": "execute_result"
    }
   ],
   "source": [
    "torch.all(r==r1)"
   ]
  },
  {
   "cell_type": "code",
   "execution_count": null,
   "id": "15e9e121",
   "metadata": {},
   "outputs": [],
   "source": []
  },
  {
   "cell_type": "code",
   "execution_count": null,
   "id": "d6701eeb",
   "metadata": {},
   "outputs": [],
   "source": []
  },
  {
   "cell_type": "code",
   "execution_count": 18,
   "id": "48d9543f",
   "metadata": {},
   "outputs": [],
   "source": [
    "x = torch.randn(10,3,32,32)\n",
    "\n",
    "f = torch.empty(5,3,2,2)\n",
    "\n",
    "f[0, 0] = torch.tensor([ [ +0., +0. ], [ +0., +1.,]])\n",
    "f[1, 0] = torch.tensor([ [ +1., +0. ], [ +0., +1.,]])\n",
    "f[2, 0] = torch.tensor([ [ -1., +0. ], [ -1., +0.,]])\n",
    "f[3, 0] = torch.tensor([ [ -1., -1. ], [ +1., +0.,]])\n",
    "f[4, 0] = torch.tensor([ [ +0., -1. ], [ -1., +2.,]])\n",
    "\n",
    "for j in range(0,5):\n",
    "    for i in range(1,3):\n",
    "        f[j,i] = f[j,0]"
   ]
  },
  {
   "cell_type": "code",
   "execution_count": 21,
   "id": "7590886f",
   "metadata": {},
   "outputs": [
    {
     "name": "stdout",
     "output_type": "stream",
     "text": [
      "Shapes\n",
      "Input: torch.Size([10, 3, 32, 32])\n",
      "Kernel: torch.Size([5, 3, 2, 2])\n",
      "\n",
      "Input reshape:\n",
      "torch.Size([10, 3, 32, 32])\n",
      "torch.Size([10, 12, 256])\n",
      "torch.Size([2560, 12])\n",
      "\n",
      "Kernel reshape:\n",
      "torch.Size([5, 3, 2, 2])\n",
      "torch.Size([5, 12])\n",
      "\n",
      "Output (MATMUL)\n",
      "torch.Size([2560, 5])\n",
      "torch.Size([10, 5, 256])\n",
      "torch.Size([10, 5, 16, 16])\n"
     ]
    }
   ],
   "source": [
    "o = Fconv2d(x,f,stride=2)"
   ]
  },
  {
   "cell_type": "code",
   "execution_count": null,
   "id": "55ff42cc",
   "metadata": {},
   "outputs": [],
   "source": []
  },
  {
   "cell_type": "code",
   "execution_count": null,
   "id": "0d249d58",
   "metadata": {},
   "outputs": [],
   "source": []
  },
  {
   "cell_type": "code",
   "execution_count": null,
   "id": "0554cec5",
   "metadata": {},
   "outputs": [],
   "source": []
  }
 ],
 "metadata": {
  "kernelspec": {
   "display_name": "Python 3 (ipykernel)",
   "language": "python",
   "name": "python3"
  },
  "language_info": {
   "codemirror_mode": {
    "name": "ipython",
    "version": 3
   },
   "file_extension": ".py",
   "mimetype": "text/x-python",
   "name": "python",
   "nbconvert_exporter": "python",
   "pygments_lexer": "ipython3",
   "version": "3.9.12"
  }
 },
 "nbformat": 4,
 "nbformat_minor": 5
}
