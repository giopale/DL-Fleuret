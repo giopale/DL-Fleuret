{
 "cells": [
  {
   "cell_type": "code",
   "execution_count": 1,
   "id": "42aef774",
   "metadata": {},
   "outputs": [],
   "source": [
    "import torch\n",
    "import numpy as np\n",
    "import matplotlib.pyplot as plt\n",
    "from itertools import islice\n",
    "\n",
    "from torch import nn\n",
    "from torch.nn import functional as F\n",
    "\n",
    "import sys \n",
    "import getpass\n",
    "\n",
    "sys.path.append('/home/luca_ltpn/DL-Fleuret/Proj_308427_348143_XXXXXX')\n",
    "sys.path.append('/home/luca_ltpn/DL-Fleuret')\n",
    "from Miniproject_2.model import *\n",
    "torch.set_grad_enabled(True);"
   ]
  },
  {
   "cell_type": "code",
   "execution_count": null,
   "id": "03ae0019",
   "metadata": {},
   "outputs": [],
   "source": []
  },
  {
   "cell_type": "code",
   "execution_count": 2,
   "id": "84cbf4e7",
   "metadata": {},
   "outputs": [],
   "source": [
    "val_in, val_tg = torch.load('/home/luca_ltpn/DL-Fleuret/val_data.pkl') #validation set (noise-clean)\n",
    "train_in, train_tg = torch.load('/home/luca_ltpn/DL-Fleuret/train_data.pkl') #test set (noise-noise)\n",
    "\n",
    "train_in = train_in[:50000].float()/255.\n",
    "train_tg = train_tg[:50000].float()/255.\n",
    "\n",
    "val_in = val_in.float()/255.\n",
    "val_tg = val_tg.float()/255.\n",
    "\n",
    "bs = 32\n",
    "ne = 5"
   ]
  },
  {
   "cell_type": "code",
   "execution_count": null,
   "id": "3de79c88",
   "metadata": {},
   "outputs": [],
   "source": []
  },
  {
   "cell_type": "code",
   "execution_count": 3,
   "id": "93ff6abd",
   "metadata": {},
   "outputs": [],
   "source": [
    "def nn_init_weights(model):\n",
    "    if isinstance(model,nn.Conv2d) or isinstance(model,nn.ConvTranspose2d):\n",
    "        xavier_normal_(model.weight.data)\n",
    "        \n",
    "        \n",
    "def validate(model, val_input, val_target):\n",
    "        with torch.no_grad():          \n",
    "            denoised = model(val_input)\n",
    "            mse = F.mse_loss(denoised, val_target)\n",
    "            psnr = (-10 * torch.log10(mse + 10**-8)).item()\n",
    "        return mse, psnr"
   ]
  },
  {
   "cell_type": "code",
   "execution_count": 4,
   "id": "3cca2627",
   "metadata": {},
   "outputs": [],
   "source": [
    "# def train_nn(model, criterion, train_input, train_target, mini_batch_size, nb_epochs, eta=0.75, optimize=False):\n",
    "#     if optimize: optimizer = torch.optim.SGD(model.parameters(), lr=eta, )\n",
    "    \n",
    "#     for e in range(nb_epochs):\n",
    "#         for inputs, targets in zip(train_input.split(mini_batch_size), train_target.split(mini_batch_size)):\n",
    "#             output = model(inputs)\n",
    "#             loss = criterion(output, targets)\n",
    "\n",
    "#             model.zero_grad()\n",
    "#             loss.backward()\n",
    "            \n",
    "#             if optimize:\n",
    "#                 optimizer.step()\n",
    "#             else:\n",
    "#                 with torch.no_grad():\n",
    "#                     for p in model.parameters(): p -= eta * p.grad\n",
    "#         print(\"\\rCompleted: %d/%d\"%(e+1,nb_epochs), end=' ')\n",
    "#     return \n",
    "\n",
    "\n",
    "def train_nn(model, criterion, train_input, train_target, mini_batch_size, nb_epochs, eta=0.75, val_input=None, val_target=None, filename=None):\n",
    "    optimizer = torch.optim.SGD(model.parameters(), lr=eta, )\n",
    "    scheduler  = torch.optim.lr_scheduler.ReduceLROnPlateau(optimizer, 'min')\n",
    "    \n",
    "    i = 0\n",
    "    for e in range(nb_epochs):\n",
    "        for inputs, targets in zip(train_input.split(mini_batch_size), train_target.split(mini_batch_size)):\n",
    "            output = model(inputs)\n",
    "            loss = criterion(output, targets)\n",
    "\n",
    "            model.zero_grad()\n",
    "            loss.backward()\n",
    "\n",
    "            optimizer.step()\n",
    "        \n",
    "            if val_input is not None and val_target is not None and i%200==0:\n",
    "                mse, psnr = validate(model, val_input, val_target)\n",
    "                scheduler.step(mse)\n",
    "\n",
    "                if filename:\n",
    "                    with open(filename, 'a') as file:\n",
    "                        file.write(\"%d\\t %.10f\\t %.10f\\n\"%((i*mini_batch_size), mse, psnr))\n",
    "                else:\n",
    "                    print(\"%d\\t %.10f\\t %.10f\"%((i*mini_batch_size), mse, psnr))\n",
    "            i+=1\n",
    "        #print(\"\\rCompleted: %d/%d\"%(e+1,nb_epochs), end=' ')\n",
    "    return "
   ]
  },
  {
   "cell_type": "code",
   "execution_count": 5,
   "id": "b7e230cd",
   "metadata": {},
   "outputs": [],
   "source": [
    "stride = ks = 2\n",
    "outch  = 64\n",
    "\n",
    "conv1  = nn.Conv2d(in_channels=3, out_channels=outch,  kernel_size=ks, stride=stride, bias=True)\n",
    "conv2  = nn.Conv2d(in_channels=outch, out_channels=outch,  kernel_size=ks, stride=stride, bias=True)\n",
    "\n",
    "tconv1 = nn.ConvTranspose2d(in_channels=outch, out_channels=outch,  kernel_size=ks,\\\n",
    "                            stride=stride, padding=0, dilation=1, bias=True)\n",
    "tconv2 = nn.ConvTranspose2d(in_channels=outch, out_channels=3,  kernel_size=ks,\\\n",
    "                            stride=stride, padding=0, dilation=1, bias=True)\n",
    "\n",
    "relu      = nn.ReLU()\n",
    "sigmoid   = nn.Sigmoid()\n",
    "criterion = nn.MSELoss()\n",
    "\n",
    "\n",
    "Net = nn.Sequential(conv1, relu, conv2, relu, tconv1, relu, tconv2, sigmoid)\n",
    "#Net.apply(nn_init_weights);"
   ]
  },
  {
   "cell_type": "code",
   "execution_count": 6,
   "id": "5e40dd04",
   "metadata": {},
   "outputs": [
    {
     "name": "stdout",
     "output_type": "stream",
     "text": [
      "CPU times: user 6min 57s, sys: 5.7 s, total: 7min 3s\n",
      "Wall time: 35.3 s\n"
     ]
    }
   ],
   "source": [
    "%time train_nn(Net, criterion, train_in, train_tg, bs, ne, filename=\"nnseq_training.txt\", val_input=val_in, val_target=val_tg)"
   ]
  },
  {
   "cell_type": "code",
   "execution_count": 7,
   "id": "9b99fe67",
   "metadata": {},
   "outputs": [
    {
     "data": {
      "image/png": "[encoded data removed]",
      "text/plain": [
       "<Figure size 936x720 with 3 Axes>"
      ]
     },
     "metadata": {
      "needs_background": "light"
     },
     "output_type": "display_data"
    }
   ],
   "source": [
    "idx = 161\n",
    "fig, ax = plt.subplots(1,3,figsize=(13,10))\n",
    "\n",
    "with torch.no_grad():\n",
    "    ax[0].imshow(val_in[idx].permute(1,2,0))\n",
    "    ax[1].imshow(Net(val_in)[idx].permute(1,2,0))\n",
    "    ax[2].imshow(val_tg[idx].permute(1,2,0))"
   ]
  },
  {
   "cell_type": "code",
   "execution_count": 8,
   "id": "8164c95f",
   "metadata": {},
   "outputs": [
    {
     "data": {
      "text/plain": [
       "(tensor(0.0062), 22.10688018798828)"
      ]
     },
     "execution_count": 8,
     "metadata": {},
     "output_type": "execute_result"
    }
   ],
   "source": [
    "validate(Net, val_in, val_tg)"
   ]
  },
  {
   "cell_type": "code",
   "execution_count": 11,
   "id": "5d1254d1",
   "metadata": {},
   "outputs": [],
   "source": [
    "img  = np.loadtxt('nnseq_training.txt')[:,0]\n",
    "psnr = np.loadtxt('nnseq_training.txt')[:,-1]"
   ]
  },
  {
   "cell_type": "code",
   "execution_count": 12,
   "id": "c93a2002",
   "metadata": {},
   "outputs": [
    {
     "data": {
      "text/plain": [
       "[<matplotlib.lines.Line2D at 0x7ff4fea01070>]"
      ]
     },
     "execution_count": 12,
     "metadata": {},
     "output_type": "execute_result"
    },
    {
     "data": {
      "image/png": "[encoded data removed]",
      "text/plain": [
       "<Figure size 432x288 with 1 Axes>"
      ]
     },
     "metadata": {
      "needs_background": "light"
     },
     "output_type": "display_data"
    }
   ],
   "source": [
    "plt.plot(img, psnr)"
   ]
  },
  {
   "cell_type": "code",
   "execution_count": 14,
   "id": "f051c423",
   "metadata": {},
   "outputs": [
    {
     "name": "stdout",
     "output_type": "stream",
     "text": [
      "Completed: 5/5 CPU times: user 30min 30s, sys: 1.09 s, total: 30min 31s\n",
      "Wall time: 2min 32s\n"
     ]
    }
   ],
   "source": [
    "mod = Model()\n",
    "mod.nb_epochs = ne\n",
    "%time mod.train(train_in, train_tg)"
   ]
  },
  {
   "cell_type": "code",
   "execution_count": 15,
   "id": "9266841c",
   "metadata": {},
   "outputs": [
    {
     "data": {
      "image/png": "[encoded data removed]",
      "text/plain": [
       "<Figure size 936x720 with 3 Axes>"
      ]
     },
     "metadata": {
      "needs_background": "light"
     },
     "output_type": "display_data"
    }
   ],
   "source": [
    "idx = 161\n",
    "fig, ax = plt.subplots(1,3,figsize=(13,10))\n",
    "\n",
    "with torch.no_grad():\n",
    "    ax[0].imshow(val_in[idx].permute(1,2,0))\n",
    "    ax[1].imshow(mod.predict(val_in)[idx].permute(1,2,0))\n",
    "    ax[2].imshow(val_tg[idx].permute(1,2,0))"
   ]
  },
  {
   "cell_type": "code",
   "execution_count": 16,
   "id": "fb067256",
   "metadata": {},
   "outputs": [],
   "source": [
    "#mod.save('bestmodel.pth')"
   ]
  },
  {
   "cell_type": "code",
   "execution_count": null,
   "id": "ed0f97ce",
   "metadata": {},
   "outputs": [],
   "source": []
  },
  {
   "cell_type": "markdown",
   "id": "efa50f55",
   "metadata": {},
   "source": [
    "## State dict tests"
   ]
  },
  {
   "cell_type": "code",
   "execution_count": 2,
   "id": "c459f509",
   "metadata": {},
   "outputs": [],
   "source": [
    "mod = Model()"
   ]
  },
  {
   "cell_type": "code",
   "execution_count": 7,
   "id": "d26c9ee1",
   "metadata": {},
   "outputs": [
    {
     "data": {
      "text/plain": [
       "tensor([[-0.1146,  0.0402],\n",
       "        [-0.1088,  0.0040]])"
      ]
     },
     "execution_count": 7,
     "metadata": {},
     "output_type": "execute_result"
    }
   ],
   "source": [
    "mod.net.state_dict['0.weights'][0,0]"
   ]
  },
  {
   "cell_type": "code",
   "execution_count": 11,
   "id": "e7b56d7b",
   "metadata": {},
   "outputs": [
    {
     "data": {
      "text/plain": [
       "tensor([[-0.1146,  0.0402],\n",
       "        [-0.1088,  0.0040]])"
      ]
     },
     "execution_count": 11,
     "metadata": {},
     "output_type": "execute_result"
    }
   ],
   "source": [
    "mod.net._modules['0'].weight[0,0]"
   ]
  },
  {
   "cell_type": "code",
   "execution_count": 12,
   "id": "c87a8abe",
   "metadata": {},
   "outputs": [],
   "source": [
    "mod.net._modules['0'].weight *= 0"
   ]
  },
  {
   "cell_type": "code",
   "execution_count": 13,
   "id": "5742994c",
   "metadata": {},
   "outputs": [
    {
     "data": {
      "text/plain": [
       "tensor([[-0., 0.],\n",
       "        [-0., 0.]])"
      ]
     },
     "execution_count": 13,
     "metadata": {},
     "output_type": "execute_result"
    }
   ],
   "source": [
    "mod.net._modules['0'].weight[0,0]"
   ]
  },
  {
   "cell_type": "code",
   "execution_count": 14,
   "id": "009dfa9f",
   "metadata": {},
   "outputs": [
    {
     "data": {
      "text/plain": [
       "tensor([[-0., 0.],\n",
       "        [-0., 0.]])"
      ]
     },
     "execution_count": 14,
     "metadata": {},
     "output_type": "execute_result"
    }
   ],
   "source": [
    "mod.net.state_dict['0.weights'][0,0]"
   ]
  },
  {
   "cell_type": "code",
   "execution_count": 15,
   "id": "1222532d",
   "metadata": {},
   "outputs": [],
   "source": [
    "mod.save('testmodel.pth')"
   ]
  },
  {
   "cell_type": "code",
   "execution_count": null,
   "id": "aeed2804",
   "metadata": {},
   "outputs": [],
   "source": []
  },
  {
   "cell_type": "code",
   "execution_count": 16,
   "id": "c3d03548",
   "metadata": {},
   "outputs": [],
   "source": [
    "mod1 = Model()"
   ]
  },
  {
   "cell_type": "code",
   "execution_count": 17,
   "id": "a86a7298",
   "metadata": {},
   "outputs": [
    {
     "data": {
      "text/plain": [
       "tensor([[ 0.1958, -0.1610],\n",
       "        [-0.0471,  0.3386]])"
      ]
     },
     "execution_count": 17,
     "metadata": {},
     "output_type": "execute_result"
    }
   ],
   "source": [
    "mod1.net.state_dict['0.weights'][0,0]"
   ]
  },
  {
   "cell_type": "code",
   "execution_count": 18,
   "id": "0049f2c0",
   "metadata": {},
   "outputs": [
    {
     "data": {
      "text/plain": [
       "tensor([[ 0.1958, -0.1610],\n",
       "        [-0.0471,  0.3386]])"
      ]
     },
     "execution_count": 18,
     "metadata": {},
     "output_type": "execute_result"
    }
   ],
   "source": [
    "mod1.net._modules['0'].weight[0,0]"
   ]
  },
  {
   "cell_type": "code",
   "execution_count": 19,
   "id": "e05ac7fd",
   "metadata": {},
   "outputs": [],
   "source": [
    "mod1.load_pretrained_model('testmodel.pth')"
   ]
  },
  {
   "cell_type": "code",
   "execution_count": 20,
   "id": "6a282f10",
   "metadata": {},
   "outputs": [
    {
     "data": {
      "text/plain": [
       "tensor([[-0., 0.],\n",
       "        [-0., 0.]])"
      ]
     },
     "execution_count": 20,
     "metadata": {},
     "output_type": "execute_result"
    }
   ],
   "source": [
    "mod1.net.state_dict['0.weights'][0,0]"
   ]
  },
  {
   "cell_type": "code",
   "execution_count": 21,
   "id": "5b16e58d",
   "metadata": {},
   "outputs": [
    {
     "data": {
      "text/plain": [
       "tensor([[-0., 0.],\n",
       "        [-0., 0.]])"
      ]
     },
     "execution_count": 21,
     "metadata": {},
     "output_type": "execute_result"
    }
   ],
   "source": [
    "mod1.net._modules['0'].weight[0,0]"
   ]
  },
  {
   "cell_type": "code",
   "execution_count": null,
   "id": "1b850ef1",
   "metadata": {},
   "outputs": [],
   "source": []
  }
 ],
 "metadata": {
  "kernelspec": {
   "display_name": "Python 3 (ipykernel)",
   "language": "python",
   "name": "python3"
  },
  "language_info": {
   "codemirror_mode": {
    "name": "ipython",
    "version": 3
   },
   "file_extension": ".py",
   "mimetype": "text/x-python",
   "name": "python",
   "nbconvert_exporter": "python",
   "pygments_lexer": "ipython3",
   "version": "3.9.12"
  }
 },
 "nbformat": 4,
 "nbformat_minor": 5
}
