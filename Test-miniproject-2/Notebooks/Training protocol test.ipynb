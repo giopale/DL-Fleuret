{
 "cells": [
  {
   "cell_type": "code",
   "execution_count": 1,
   "id": "42aef774",
   "metadata": {},
   "outputs": [],
   "source": [
    "import torch\n",
    "import numpy as np\n",
    "import matplotlib.pyplot as plt\n",
    "from itertools import islice\n",
    "\n",
    "from torch import nn\n",
    "from torch.nn import functional as F\n",
    "\n",
    "import sys \n",
    "import getpass\n",
    "import matplotlib as mpl\n",
    "\n",
    "sys.path.append('/home/luca_ltpn/DL-Fleuret/Proj_308427_348143_XXXXXX')\n",
    "sys.path.append('/home/luca_ltpn/DL-Fleuret')\n",
    "from Miniproject_2.model import *\n",
    "torch.set_grad_enabled(True);"
   ]
  },
  {
   "cell_type": "code",
   "execution_count": 2,
   "id": "47cce408",
   "metadata": {},
   "outputs": [],
   "source": [
    "font_size   = 20\n",
    "letter_size = 22\n",
    "label_size  = 25\n",
    "title_font  = 28\n",
    "legend_size = 23\n",
    "\n",
    "mpl.rc('font', family='serif', size=font_size)\n",
    "mpl.rc('text', usetex=True)\n",
    "\n",
    "mpl.rcParams['lines.linewidth']     = 2\n",
    "mpl.rcParams['axes.labelsize']      = label_size\n",
    "mpl.rcParams['xtick.minor.visible'] = True\n",
    "mpl.rcParams['xtick.major.size']    = 4\n",
    "mpl.rcParams['xtick.minor.size']    = 2\n",
    "mpl.rcParams['xtick.major.width']   = 1.1\n",
    "mpl.rcParams['xtick.minor.width']   = 0.55\n",
    "mpl.rcParams['xtick.direction']     = 'out'\n",
    "mpl.rcParams['ytick.minor.visible'] = True\n",
    "mpl.rcParams['ytick.major.size']    = 6\n",
    "mpl.rcParams['ytick.minor.size']    = 3\n",
    "mpl.rcParams['ytick.major.width']   = 1.1\n",
    "mpl.rcParams['ytick.minor.width']   = 0.55\n",
    "mpl.rcParams['ytick.direction']     = 'out'\n",
    "mpl.rcParams['legend.fontsize']     = legend_size\n",
    "mpl.rcParams['axes.formatter.limits'] = -5, 5\n",
    "\n",
    "\n",
    "class MyLocator(mpl.ticker.AutoMinorLocator):\n",
    "    def __init__(self, n=2):\n",
    "        super().__init__(n=n)\n",
    "mpl.ticker.AutoMinorLocator = MyLocator\n",
    "\n",
    "marker_sz  = 8\n",
    "location   ='upper left'\n",
    "properties ={'size':12}\n",
    "width_plot = 8\n",
    "reduced_labels = 0.7*label_size\n",
    "\n",
    "def get_axis_limits(ax, scalex=.1, scaley=.85):\n",
    "    return (ax.get_xlim()[0] + (ax.get_xlim()[1]-ax.get_xlim()[0])*scalex, ax.get_ylim()[0]+(ax.get_ylim()[1]-ax.get_ylim()[0])*scaley)"
   ]
  },
  {
   "cell_type": "code",
   "execution_count": 3,
   "id": "93ff6abd",
   "metadata": {},
   "outputs": [],
   "source": [
    "def nn_init_weights(model):\n",
    "    if isinstance(model,nn.Conv2d) or isinstance(model,nn.ConvTranspose2d):\n",
    "        xavier_normal_(model.weight.data)\n",
    "        \n",
    "        \n",
    "def validate(model, val_input, val_target):\n",
    "        with torch.no_grad():          \n",
    "            denoised = model(val_input)\n",
    "            psnr = compute_psnr(denoised/255., val_target)\n",
    "        return psnr"
   ]
  },
  {
   "cell_type": "code",
   "execution_count": 4,
   "id": "3cca2627",
   "metadata": {},
   "outputs": [],
   "source": [
    "def train_nn(model, criterion, train_input, train_target, val_input, val_target, mini_batch_size, nb_epochs, eta=0.75, filename=None):\n",
    "    optimizer = torch.optim.SGD(model.parameters(), lr=eta, )\n",
    "    scheduler  = torch.optim.lr_scheduler.ReduceLROnPlateau(optimizer, 'min')\n",
    "    \n",
    "    i=0\n",
    "    for e in range(nb_epochs):\n",
    "        for (inputs, targets) in zip( train_input.split(mini_batch_size), train_target.split(mini_batch_size) ): \n",
    "            output = model(inputs)\n",
    "            loss = criterion(output/255., targets.float()/255.)\n",
    "\n",
    "            model.zero_grad()\n",
    "            loss.backward()\n",
    "\n",
    "            optimizer.step()\n",
    "        \n",
    "            if i%100==0:\n",
    "                psnr = validate(model, val_input, val_target)\n",
    "\n",
    "                if filename:\n",
    "                    with open(filename, 'a') as file:\n",
    "                        file.write(\"%d\\t %.10f\\n\"%((i*mini_batch_size), psnr))\n",
    "                else:\n",
    "                    print(\"%d\\t %.10f\"%((i*mini_batch_size), psnr))\n",
    "            i+=1\n",
    "    return "
   ]
  },
  {
   "cell_type": "code",
   "execution_count": 5,
   "id": "b7e230cd",
   "metadata": {},
   "outputs": [],
   "source": [
    "stride = ks = 2\n",
    "outch  = 64\n",
    "\n",
    "conv1  = nn.Conv2d(in_channels=3, out_channels=outch,  kernel_size=ks, stride=stride, bias=True)\n",
    "conv2  = nn.Conv2d(in_channels=outch, out_channels=outch,  kernel_size=ks, stride=stride, bias=True)\n",
    "\n",
    "tconv1 = nn.ConvTranspose2d(in_channels=outch, out_channels=outch,  kernel_size=ks,\\\n",
    "                            stride=stride, padding=0, dilation=1, bias=True)\n",
    "tconv2 = nn.ConvTranspose2d(in_channels=outch, out_channels=3,  kernel_size=ks,\\\n",
    "                            stride=stride, padding=0, dilation=1, bias=True)\n",
    "\n",
    "relu      = nn.ReLU()\n",
    "sigmoid   = nn.Sigmoid()\n",
    "criterion = nn.MSELoss()\n",
    "\n",
    "\n",
    "#Net = nn.Sequential(conv1, relu, conv2, relu, tconv1, relu, tconv2, sigmoid)\n",
    "#Net.apply(nn_init_weights);\n",
    "\n",
    "\n",
    "class seq(nn.Module):\n",
    "    def __init__(self):\n",
    "        super().__init__()\n",
    "        \n",
    "        self.conv1  = nn.Conv2d(in_channels=3, out_channels=outch,  kernel_size=ks, stride=stride, bias=True)\n",
    "        self.conv2  = nn.Conv2d(in_channels=outch, out_channels=outch,  kernel_size=ks, stride=stride, bias=True)\n",
    "\n",
    "        self.tconv1 = nn.ConvTranspose2d(in_channels=outch, out_channels=outch,  kernel_size=ks,\\\n",
    "                                         stride=stride, padding=0, dilation=1, bias=True)\n",
    "        self.tconv2 = nn.ConvTranspose2d(in_channels=outch, out_channels=3,  kernel_size=ks,\\\n",
    "                                         stride=stride, padding=0, dilation=1, bias=True)\n",
    "        \n",
    "        self.relu      = nn.ReLU()\n",
    "        self.sigmoid   = nn.Sigmoid()\n",
    "        \n",
    "\n",
    "    def forward(self, x):\n",
    "        x = x.float()\n",
    "        x = x/255.\n",
    "        \n",
    "        x = self.conv1(x)\n",
    "        x = self.relu(x)\n",
    "        \n",
    "        x = self.conv2(x)\n",
    "        x = self.relu(x)\n",
    "        \n",
    "        x = self.tconv1(x)\n",
    "        x = self.relu(x)\n",
    "        \n",
    "        x = self.tconv2(x)\n",
    "        x = self.sigmoid(x)\n",
    "        x = x*255.\n",
    "        return x\n",
    "\n",
    "Net = seq()"
   ]
  },
  {
   "cell_type": "code",
   "execution_count": 6,
   "id": "0d8004ef",
   "metadata": {},
   "outputs": [],
   "source": [
    "val_in, val_tg = torch.load('/home/luca_ltpn/DL-Fleuret/val_data.pkl') #validation set (noise-clean)\n",
    "train_in, train_tg = torch.load('/home/luca_ltpn/DL-Fleuret/train_data.pkl') #test set (noise-noise)\n",
    "\n",
    "cut = 50000\n",
    "train_in = train_in[:cut]\n",
    "train_tg = train_tg[:cut]\n",
    "\n",
    "val_in = val_in\n",
    "val_tg = val_tg.float()/255.\n",
    "\n",
    "bs = 32\n",
    "ne = 5\n",
    "eta=10"
   ]
  },
  {
   "cell_type": "code",
   "execution_count": 7,
   "id": "5e40dd04",
   "metadata": {},
   "outputs": [
    {
     "name": "stdout",
     "output_type": "stream",
     "text": [
      "CPU times: user 7min 35s, sys: 10.2 s, total: 7min 45s\n",
      "Wall time: 38.9 s\n"
     ]
    }
   ],
   "source": [
    "%time train_nn(Net, criterion, train_in, train_tg, val_in, val_tg, bs, ne, eta=eta, filename=\"nnseq_training.txt\")\n"
   ]
  },
  {
   "cell_type": "code",
   "execution_count": 8,
   "id": "9b99fe67",
   "metadata": {},
   "outputs": [
    {
     "data": {
      "image/png": "[encoded data removed]",
      "text/plain": [
       "<Figure size 936x720 with 3 Axes>"
      ]
     },
     "metadata": {
      "needs_background": "light"
     },
     "output_type": "display_data"
    }
   ],
   "source": [
    "idx = 161\n",
    "fig, ax = plt.subplots(1,3,figsize=(13,10))\n",
    "\n",
    "with torch.no_grad():\n",
    "    ax[0].imshow(val_in[idx].permute(1,2,0))\n",
    "    ax[1].imshow(Net(val_in)[idx].permute(1,2,0).int())\n",
    "    ax[2].imshow((val_tg[idx].permute(1,2,0)*255.).int())"
   ]
  },
  {
   "cell_type": "code",
   "execution_count": null,
   "id": "8164c95f",
   "metadata": {},
   "outputs": [],
   "source": []
  },
  {
   "cell_type": "code",
   "execution_count": null,
   "id": "55fb13e4",
   "metadata": {},
   "outputs": [],
   "source": []
  },
  {
   "cell_type": "code",
   "execution_count": 9,
   "id": "13524a0c",
   "metadata": {},
   "outputs": [],
   "source": [
    "mod = Model()\n",
    "mod.nb_epochs = ne\n",
    "mod.eta = eta"
   ]
  },
  {
   "cell_type": "code",
   "execution_count": 10,
   "id": "eff074f9",
   "metadata": {},
   "outputs": [
    {
     "name": "stdout",
     "output_type": "stream",
     "text": [
      "CPU times: user 32min 20s, sys: 26.6 s, total: 32min 46s\n",
      "Wall time: 2min 45s\n"
     ]
    }
   ],
   "source": [
    "%time mod.train_and_validate(train_in, train_tg, val_in, val_tg, filename=\"model2_training.txt\")"
   ]
  },
  {
   "cell_type": "code",
   "execution_count": 11,
   "id": "4c674923",
   "metadata": {},
   "outputs": [
    {
     "data": {
      "image/png": "[encoded data removed]",
      "text/plain": [
       "<Figure size 936x720 with 3 Axes>"
      ]
     },
     "metadata": {
      "needs_background": "light"
     },
     "output_type": "display_data"
    }
   ],
   "source": [
    "idx = 161\n",
    "fig, ax = plt.subplots(1,3,figsize=(13,10))\n",
    "\n",
    "with torch.no_grad():\n",
    "    ax[0].imshow(val_in[idx].permute(1,2,0))\n",
    "    ax[1].imshow(mod.predict(val_in)[idx].permute(1,2,0).int())\n",
    "    ax[2].imshow(val_tg[idx].permute(1,2,0))"
   ]
  },
  {
   "cell_type": "code",
   "execution_count": 12,
   "id": "7e0d8b52",
   "metadata": {},
   "outputs": [],
   "source": [
    "#mod.save('/home/luca_ltpn/DL-Fleuret/Proj_308427_348143_XXXXXX/Miniproject_2/bestmodel.pth')"
   ]
  },
  {
   "cell_type": "code",
   "execution_count": null,
   "id": "ca1c26d0",
   "metadata": {},
   "outputs": [],
   "source": []
  },
  {
   "cell_type": "code",
   "execution_count": 14,
   "id": "5d1254d1",
   "metadata": {},
   "outputs": [],
   "source": [
    "img_nn  = np.loadtxt('nnseq_training.txt')[:,0]\n",
    "psnr_nn = np.loadtxt('nnseq_training.txt')[:,-1]\n",
    "\n",
    "img_mod2  = np.loadtxt('model2_training.txt')[:,0]\n",
    "psnr_mod2 = np.loadtxt('model2_training.txt')[:,-1]"
   ]
  },
  {
   "cell_type": "code",
   "execution_count": null,
   "id": "d7d921d3",
   "metadata": {},
   "outputs": [],
   "source": []
  },
  {
   "cell_type": "code",
   "execution_count": 17,
   "id": "3c950cf9",
   "metadata": {},
   "outputs": [
    {
     "data": {
      "image/png": "[encoded data removed]",
      "text/plain": [
       "<Figure size 576x360 with 1 Axes>"
      ]
     },
     "metadata": {
      "needs_background": "light"
     },
     "output_type": "display_data"
    }
   ],
   "source": [
    "fig, ax = plt.subplots(1,1, sharey=True, sharex=True, figsize=(width_plot,5))\n",
    "ax.plot(img_nn/50000, psnr_nn, label=\"torch.nn implementation\")\n",
    "ax.plot(img_mod2/50000, psnr_mod2, label='custom implementation')\n",
    "\n",
    "ax.axhline(23, color='grey', ls='--', alpha=0.6)\n",
    "\n",
    "#plt.xscale(\"log\")\n",
    "ax.set_xlabel(\"epoch ($N=50000$, bs$=32$)\")\n",
    "ax.set_ylabel(\"PSNR [db]\")\n",
    "\n",
    "ax.set_yticks([12, 15, 18, 21, 24], minor=False)\n",
    "ax.set_yticks([], minor=True)\n",
    "ax.legend()\n",
    "fig.tight_layout();\n",
    "\n",
    "#fig.savefig(\"model2_PSNR.pdf\")"
   ]
  },
  {
   "cell_type": "code",
   "execution_count": 27,
   "id": "c93a2002",
   "metadata": {},
   "outputs": [
    {
     "data": {
      "text/plain": [
       "0.10858689599705618"
      ]
     },
     "execution_count": 27,
     "metadata": {},
     "output_type": "execute_result"
    }
   ],
   "source": [
    "psnr_nn[img_nn/50000>4.].std()"
   ]
  },
  {
   "cell_type": "code",
   "execution_count": 26,
   "id": "ed0f97ce",
   "metadata": {},
   "outputs": [
    {
     "data": {
      "text/plain": [
       "23.67838239669375"
      ]
     },
     "execution_count": 26,
     "metadata": {},
     "output_type": "execute_result"
    }
   ],
   "source": [
    "psnr_nn[img_nn/50000>4.].mean()"
   ]
  },
  {
   "cell_type": "code",
   "execution_count": null,
   "id": "db2cb4cc",
   "metadata": {},
   "outputs": [],
   "source": []
  }
 ],
 "metadata": {
  "kernelspec": {
   "display_name": "Python 3 (ipykernel)",
   "language": "python",
   "name": "python3"
  },
  "language_info": {
   "codemirror_mode": {
    "name": "ipython",
    "version": 3
   },
   "file_extension": ".py",
   "mimetype": "text/x-python",
   "name": "python",
   "nbconvert_exporter": "python",
   "pygments_lexer": "ipython3",
   "version": "3.9.12"
  }
 },
 "nbformat": 4,
 "nbformat_minor": 5
}
