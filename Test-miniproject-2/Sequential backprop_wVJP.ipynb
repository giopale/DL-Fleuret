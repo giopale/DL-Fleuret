{
 "cells": [
  {
   "cell_type": "code",
   "execution_count": 1,
   "id": "0e9ddadb",
   "metadata": {},
   "outputs": [],
   "source": [
    "import torch\n",
    "import numpy as np\n",
    "import matplotlib.pyplot as plt\n",
    "from itertools import islice\n",
    "\n",
    "from torch import nn\n",
    "from torch.nn import functional as F\n",
    "\n",
    "import sys \n",
    "import getpass\n",
    "\n",
    "sys.path.append('../')\n",
    "from Miniproject_2.model import *\n",
    "torch.set_grad_enabled(True);"
   ]
  },
  {
   "cell_type": "code",
   "execution_count": 2,
   "id": "ddb1c826",
   "metadata": {},
   "outputs": [],
   "source": [
    "def test_init_weights(model):\n",
    "    if isinstance(model,nn.Conv2d) or isinstance(model,nn.ConvTranspose2d):\n",
    "        model.weight.data.normal_(0,0.5, generator=torch.manual_seed(0))\n",
    "        \n",
    "def compare(x,y,decimals=7):\n",
    "    return torch.all(torch.round(torch.abs(x - y), decimals=decimals)==0.).item()"
   ]
  },
  {
   "cell_type": "code",
   "execution_count": null,
   "id": "bdae4c43",
   "metadata": {},
   "outputs": [],
   "source": []
  },
  {
   "cell_type": "code",
   "execution_count": 3,
   "id": "b87cd6f1",
   "metadata": {},
   "outputs": [],
   "source": [
    "train_in, train_tg = torch.load('../train_data.pkl')\n",
    "train_in = train_in[:10].float()/255.\n",
    "train_tg = train_tg[:10].float()/255.\n",
    "\n",
    "val_in, val_tg = torch.load('../val_data.pkl')\n",
    "val_in = val_in.float()/255.\n",
    "val_tg = val_tg.float()/255."
   ]
  },
  {
   "cell_type": "code",
   "execution_count": null,
   "id": "95c534ab",
   "metadata": {},
   "outputs": [],
   "source": []
  },
  {
   "cell_type": "code",
   "execution_count": 4,
   "id": "63e64613",
   "metadata": {},
   "outputs": [],
   "source": [
    "stride = ks = 2\n",
    "\n",
    "my_conv1 = Conv2d(in_channels=3, out_channels=5, stride=stride,  kernel_size=ks)\n",
    "my_conv2 = Conv2d(in_channels=5, out_channels=5, stride=stride,  kernel_size=ks)\n",
    "\n",
    "\n",
    "my_tconv1 = TransposeConv2d(in_channels=5, out_channels=5,  kernel_size=ks, stride=stride, padding=0, dilation=1)\n",
    "my_tconv2 = TransposeConv2d(in_channels=5, out_channels=3,  kernel_size=ks, stride=stride, padding=0, dilation=1)\n",
    "\n",
    "my_relu = ReLU()\n",
    "my_sigmoid = Sigmoid()\n",
    "\n",
    "my_Net = Sequential(my_conv1, my_relu, my_conv2, my_relu, my_tconv1, my_relu, my_tconv2, my_sigmoid)\n",
    "\n",
    "loss = MSE()\n",
    "dL_dy = loss.forward_and_vjp(train_tg)\n",
    "\n",
    "my_Net.forward_and_vjp(train_in, dL_dy)"
   ]
  },
  {
   "cell_type": "code",
   "execution_count": 5,
   "id": "d1fbef21",
   "metadata": {},
   "outputs": [],
   "source": [
    "my_gradients  = []\n",
    "my_parameters = []\n",
    "for i, module in enumerate(my_Net._modules.values()):\n",
    "    if len(module.d_weight):\n",
    "        my_gradients.append(module.d_weight)\n",
    "        my_parameters.append(module.weight)"
   ]
  },
  {
   "cell_type": "code",
   "execution_count": null,
   "id": "8cc128a3",
   "metadata": {},
   "outputs": [],
   "source": []
  },
  {
   "cell_type": "code",
   "execution_count": null,
   "id": "cf7fa924",
   "metadata": {},
   "outputs": [],
   "source": []
  },
  {
   "cell_type": "code",
   "execution_count": null,
   "id": "5d8ed75e",
   "metadata": {},
   "outputs": [],
   "source": []
  },
  {
   "cell_type": "code",
   "execution_count": null,
   "id": "f0d1bf40",
   "metadata": {},
   "outputs": [],
   "source": []
  },
  {
   "cell_type": "code",
   "execution_count": 6,
   "id": "c22d1494",
   "metadata": {},
   "outputs": [],
   "source": [
    "conv1 = nn.Conv2d(in_channels=3, out_channels=5,  kernel_size=ks, stride=stride, bias=False)\n",
    "conv2 = nn.Conv2d(in_channels=5, out_channels=5,  kernel_size=ks, stride=stride, bias=False)\n",
    "\n",
    "tconv1 = nn.ConvTranspose2d(in_channels=5, out_channels=5,  kernel_size=ks, stride=stride, padding=0, dilation=1, bias=False)\n",
    "tconv2 = nn.ConvTranspose2d(in_channels=5, out_channels=3,  kernel_size=ks, stride=stride, padding=0, dilation=1, bias=False)\n",
    "\n",
    "relu = nn.ReLU()\n",
    "sigmoid = nn.Sigmoid()\n",
    "\n",
    "Net = nn.Sequential(conv1, relu, conv2, relu, tconv1, relu, tconv2, sigmoid)\n",
    "Net.apply(test_init_weights);"
   ]
  },
  {
   "cell_type": "code",
   "execution_count": 7,
   "id": "8da7b29e",
   "metadata": {},
   "outputs": [],
   "source": [
    "valid_input, valid_target = torch.load('../val_data.pkl')\n",
    "criterion = nn.MSELoss()\n",
    "\n",
    "y = Net(train_in)\n",
    "loss = criterion(y, train_tg)\n",
    "loss.backward()\n",
    "\n",
    "gradients = []\n",
    "with torch.no_grad():\n",
    "    for p in Net.parameters(): gradients.append(p.grad)\n",
    "        \n",
    "parameters = [list(Net.parameters())[i] for i in range(4)]"
   ]
  },
  {
   "cell_type": "code",
   "execution_count": 8,
   "id": "9414ead0",
   "metadata": {},
   "outputs": [
    {
     "data": {
      "text/plain": [
       "[True, True, True, True]"
      ]
     },
     "execution_count": 8,
     "metadata": {},
     "output_type": "execute_result"
    }
   ],
   "source": [
    "[torch.all(parameters[0]==my_parameters[0]).item() for i in range(4)]"
   ]
  },
  {
   "cell_type": "code",
   "execution_count": 9,
   "id": "e7dad318",
   "metadata": {},
   "outputs": [
    {
     "data": {
      "text/plain": [
       "[True, True, True, True]"
      ]
     },
     "execution_count": 9,
     "metadata": {},
     "output_type": "execute_result"
    }
   ],
   "source": [
    "[compare(gradients[0], my_gradients[0], decimals=4) for i in range(4)]"
   ]
  },
  {
   "cell_type": "code",
   "execution_count": null,
   "id": "e5080cd2",
   "metadata": {},
   "outputs": [],
   "source": []
  },
  {
   "cell_type": "code",
   "execution_count": null,
   "id": "719bf29a",
   "metadata": {},
   "outputs": [],
   "source": []
  },
  {
   "cell_type": "code",
   "execution_count": null,
   "id": "7a95c0a3",
   "metadata": {},
   "outputs": [],
   "source": []
  },
  {
   "cell_type": "code",
   "execution_count": null,
   "id": "a47ff922",
   "metadata": {},
   "outputs": [],
   "source": []
  },
  {
   "cell_type": "code",
   "execution_count": null,
   "id": "3daa68fa",
   "metadata": {},
   "outputs": [],
   "source": []
  },
  {
   "cell_type": "code",
   "execution_count": null,
   "id": "8235b26b",
   "metadata": {},
   "outputs": [],
   "source": []
  },
  {
   "cell_type": "code",
   "execution_count": null,
   "id": "622166b6",
   "metadata": {},
   "outputs": [],
   "source": []
  },
  {
   "cell_type": "code",
   "execution_count": null,
   "id": "93b4299f",
   "metadata": {},
   "outputs": [],
   "source": []
  },
  {
   "cell_type": "code",
   "execution_count": null,
   "id": "97672aee",
   "metadata": {},
   "outputs": [],
   "source": []
  },
  {
   "cell_type": "code",
   "execution_count": null,
   "id": "6c12372c",
   "metadata": {},
   "outputs": [],
   "source": []
  },
  {
   "cell_type": "code",
   "execution_count": null,
   "id": "a34ab076",
   "metadata": {},
   "outputs": [],
   "source": []
  }
 ],
 "metadata": {
  "kernelspec": {
   "display_name": "Python 3 (ipykernel)",
   "language": "python",
   "name": "python3"
  },
  "language_info": {
   "codemirror_mode": {
    "name": "ipython",
    "version": 3
   },
   "file_extension": ".py",
   "mimetype": "text/x-python",
   "name": "python",
   "nbconvert_exporter": "python",
   "pygments_lexer": "ipython3",
   "version": "3.9.12"
  }
 },
 "nbformat": 4,
 "nbformat_minor": 5
}
