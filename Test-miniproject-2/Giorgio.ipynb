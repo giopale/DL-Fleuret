{
 "cells": [
  {
   "cell_type": "code",
   "execution_count": 1,
   "id": "9a618163",
   "metadata": {},
   "outputs": [],
   "source": [
    "import sys\n",
    "sys.path.append('../')\n",
    "import matplotlib.pyplot as plt\n",
    "\n",
    "from Miniproject_2.model import *\n",
    "\n",
    "import torch\n",
    "from torch.nn import functional as F\n",
    "\n",
    "torch.set_grad_enabled(True);"
   ]
  },
  {
   "cell_type": "code",
   "execution_count": 2,
   "id": "a67f9b20",
   "metadata": {},
   "outputs": [
    {
     "name": "stdout",
     "output_type": "stream",
     "text": [
      "Vector shape:  torch.Size([1000, 3, 32, 32])\n"
     ]
    }
   ],
   "source": [
    "device = torch.device('cuda' if torch.cuda.is_available() else 'cpu')\n",
    "\n",
    "valid_input, valid_target = torch.load('../val_data.pkl',map_location=device)#validation set (noise-clean)\n",
    "train_input, train_target = torch.load('../train_data.pkl',map_location=device) #test set (noise-noise)\n",
    "\n",
    "num_samples = 1000\n",
    "valid_input=torch.narrow(valid_input,0,0,num_samples)\n",
    "valid_target=torch.narrow(valid_target,0,0,num_samples)\n",
    "train_input=torch.narrow(train_input,0,0,num_samples)\n",
    "train_target=torch.narrow(train_target,0,0,num_samples)\n",
    "\n",
    "# plt.imshow(valid_input[164].permute(1,2,0))\n",
    "\n",
    "print(\"Vector shape: \",train_input.shape)"
   ]
  },
  {
   "cell_type": "code",
   "execution_count": 3,
   "id": "5c696807",
   "metadata": {},
   "outputs": [],
   "source": [
    "def compare(x,y,decimals=7):\n",
    "    return torch.all(torch.round(torch.abs(x - y), decimals=decimals)==0.).item()"
   ]
  },
  {
   "cell_type": "markdown",
   "id": "35b6f47b",
   "metadata": {},
   "source": [
    "## Test MSE loss derivative"
   ]
  },
  {
   "cell_type": "code",
   "execution_count": 45,
   "id": "94023968",
   "metadata": {},
   "outputs": [],
   "source": [
    "class MSELoss(Module):\n",
    "    def __init__(self, *input):\n",
    "        super(MSELoss,self).__init__()\n",
    "        self.input = None\n",
    "        self.reference = None\n",
    "    \n",
    "    def forward(self,input,reference):\n",
    "        self.input     = input\n",
    "        self.reference = reference\n",
    "        n              = input.size().numel()\n",
    "        output         = ((input-reference)**2).sum()/n\n",
    "        return output\n",
    "\n",
    "    __call__ = forward\n",
    "\n",
    "    def backward(self):\n",
    "        return 2*(self.input - self.reference)/self.input.size().numel()\n",
    "\n"
   ]
  },
  {
   "cell_type": "code",
   "execution_count": 54,
   "id": "81fac2d0",
   "metadata": {},
   "outputs": [
    {
     "name": "stdout",
     "output_type": "stream",
     "text": [
      "Output:  tensor(0.0110, grad_fn=<MseLossBackward0>) \n",
      "True output:  tensor(0.0110, grad_fn=<DivBackward0>)\n"
     ]
    }
   ],
   "source": [
    "# Test MSE loss\n",
    "idx = 164\n",
    "len = 1\n",
    "y=(valid_input[idx].float()/255.).requires_grad_()\n",
    "y_true=(valid_target[idx].float()/255.).requires_grad_()\n",
    "\n",
    "# fig,ax = plt.subplots(1,2, figsize=(8,8))\n",
    "# ax[0].imshow(input.permute(1,2,0))\n",
    "# ax[1].imshow(target.permute(1,2,0))\n",
    "L = MSELoss()\n",
    "out = L.forward(y,y_true)\n",
    "\n",
    "L_true = F.mse_loss(y,y_true, reduction='mean')\n",
    "print('Output: ', L_true, '\\nTrue output: ', out)\n"
   ]
  },
  {
   "cell_type": "code",
   "execution_count": 55,
   "id": "2e603a57",
   "metadata": {},
   "outputs": [
    {
     "name": "stdout",
     "output_type": "stream",
     "text": [
      "True\n",
      "torch.Size([3, 32, 32])\n"
     ]
    }
   ],
   "source": [
    "dL_dy = torch.autograd.grad(L_true,(y))[0]\n",
    "dLdy = L.backward()\n",
    "\n",
    "print(compare(dL_dy, dLdy, decimals=3))\n",
    "print(dLdy.shape)"
   ]
  },
  {
   "cell_type": "markdown",
   "id": "8167fcfe",
   "metadata": {},
   "source": [
    "## Test Sigmoid derivative"
   ]
  },
  {
   "cell_type": "code",
   "execution_count": 39,
   "id": "ebef978d",
   "metadata": {},
   "outputs": [],
   "source": [
    "class Sigmoid(Module):\n",
    "    def __init__(self,*input):\n",
    "        super(Sigmoid,self).__init__()\n",
    "        self.input = None\n",
    "        return \n",
    "\n",
    "    def forward(self,input):\n",
    "        self.input = input\n",
    "        output     = 1 / (1 + (-input).exp())\n",
    "        return output\n",
    "    \n",
    "    __call__ = forward\n",
    "\n",
    "    def backward(self):\n",
    "        x = self.input\n",
    "        return (-x).exp()/(1+ (-x).exp())**2"
   ]
  },
  {
   "cell_type": "code",
   "execution_count": 43,
   "id": "885945be",
   "metadata": {},
   "outputs": [
    {
     "name": "stdout",
     "output_type": "stream",
     "text": [
      "True\n",
      "tensor([[0.2395, 0.2393, 0.2393,  ..., 0.2377, 0.2364, 0.2385],\n",
      "        [0.2397, 0.2391, 0.2406,  ..., 0.2379, 0.2377, 0.2371],\n",
      "        [0.2401, 0.2383, 0.2318,  ..., 0.2375, 0.2373, 0.2375],\n",
      "        ...,\n",
      "        [0.2424, 0.2425, 0.2451,  ..., 0.2362, 0.2244, 0.2216],\n",
      "        [0.2379, 0.2373, 0.2403,  ..., 0.2244, 0.2465, 0.2430],\n",
      "        [0.2373, 0.2362, 0.2412,  ..., 0.2488, 0.2481, 0.2474]],\n",
      "       grad_fn=<SelectBackward0>)\n"
     ]
    }
   ],
   "source": [
    "# Test MSE loss\n",
    "idx = 164\n",
    "len = 1\n",
    "y=(valid_input[idx].float()/255.).requires_grad_()\n",
    "y_true=(valid_target[idx].float()/255.).requires_grad_()\n",
    "\n",
    "# fig,ax = plt.subplots(1,2, figsize=(8,8))\n",
    "# ax[0].imshow(input.permute(1,2,0))\n",
    "# ax[1].imshow(target.permute(1,2,0))\n",
    "S = Sigmoid()\n",
    "out = S.forward(y)\n",
    "\n",
    "S_true = torch.sigmoid(y)\n",
    "# print('Output: ', S_true, '\\nTrue output: ', out)\n",
    "print(compare(S_true, out, decimals=6))\n",
    "\n",
    "dSdy = S.backward()"
   ]
  },
  {
   "cell_type": "code",
   "execution_count": 34,
   "id": "8ee9f678",
   "metadata": {},
   "outputs": [],
   "source": [
    "S1=Sigmoid()\n",
    "\n",
    "testS = Sequential(S1)\n",
    "\n",
    "\n",
    "\n"
   ]
  },
  {
   "cell_type": "code",
   "execution_count": null,
   "id": "925ca15b",
   "metadata": {},
   "outputs": [],
   "source": []
  },
  {
   "cell_type": "code",
   "execution_count": null,
   "id": "f892f426",
   "metadata": {},
   "outputs": [],
   "source": []
  },
  {
   "cell_type": "code",
   "execution_count": null,
   "id": "81755e37",
   "metadata": {},
   "outputs": [],
   "source": []
  },
  {
   "cell_type": "code",
   "execution_count": null,
   "id": "797f48aa",
   "metadata": {},
   "outputs": [],
   "source": []
  },
  {
   "cell_type": "code",
   "execution_count": 8,
   "id": "4e05c922",
   "metadata": {},
   "outputs": [],
   "source": [
    "# plt.imshow(out[0].permute(1,2,0)[:,:,::2])"
   ]
  },
  {
   "cell_type": "markdown",
   "id": "9b5e594e",
   "metadata": {},
   "source": [
    "## Test Sequential"
   ]
  },
  {
   "cell_type": "code",
   "execution_count": 9,
   "id": "72641e76",
   "metadata": {},
   "outputs": [],
   "source": [
    "f = torch.empty(5,3,3,3)\n",
    "\n",
    "f[0, 0] = torch.tensor([ [ +0., +0., -1. ], [ +0., +1., +0. ], [ -1., +0., +0. ]])\n",
    "f[1, 0] = torch.tensor([ [ +1., +1., +1. ], [ +1., +1., +1. ], [ +1., +1., +1. ]])\n",
    "f[2, 0] = torch.tensor([ [ -1., +0., +1. ], [ -1., +0., +1. ], [ -1., +0., +1. ]])\n",
    "f[3, 0] = torch.tensor([ [ -1., -1., -1. ], [ +0., +0., +0. ], [ +1., +1., +1. ]])\n",
    "f[4, 0] = torch.tensor([ [ +0., -1., +0. ], [ -1., +4., -1. ], [ +0., -1., +0. ]])\n",
    "\n",
    "for j in range(0,5):\n",
    "    for i in range(1,3):\n",
    "        f[j,i] = f[j,0]\n",
    "\n",
    "ff = f.transpose(0,1)\n",
    "ff.requires_grad_();"
   ]
  },
  {
   "cell_type": "code",
   "execution_count": 10,
   "id": "b74f44fe",
   "metadata": {},
   "outputs": [],
   "source": [
    "stride = 2\n",
    "kernel_size = 2\n",
    "\n",
    "conv1 = Conv2d(3,5, kernel_size, stride=stride, padding=0, dilation=1)\n",
    "# conv1.weight=f\n",
    "relu1 = Relu()\n",
    "conv2 = Conv2d(5,5,kernel_size, stride=stride, padding=0, dilation=1)\n",
    "relu2 = Relu()\n",
    "tconv3 = ConvTranspose2d(5,5, kernel_size, stride=stride, padding=0, dilation=1)\n",
    "relu3 = Relu()\n",
    "tconv4 = ConvTranspose2d(5,3, kernel_size, stride=stride, padding=0, dilation=1)\n",
    "sig4 = Sigmoid()\n",
    "\n",
    "net = Sequential(conv1,  \n",
    "                relu1,  \n",
    "                conv2, \n",
    "                relu2, \n",
    "                tconv3,\n",
    "                relu3, \n",
    "                tconv4,\n",
    "                sig4\n",
    "                )"
   ]
  },
  {
   "cell_type": "code",
   "execution_count": 11,
   "id": "1a5a5503",
   "metadata": {},
   "outputs": [],
   "source": [
    "idx = 164\n",
    "len = 1\n",
    "a=valid_input[[idx]].float()/255.\n",
    "target=valid_target[idx].float()/255.\n",
    "# plt.imshow(a[0].permute(1,2,0))"
   ]
  },
  {
   "cell_type": "code",
   "execution_count": 12,
   "id": "84e9a53d",
   "metadata": {},
   "outputs": [],
   "source": [
    "out=net(a)\n",
    "# plt.imshow(out[0].permute(1,2,0)[:,:,:])\n",
    "# plt.colorbar()"
   ]
  },
  {
   "cell_type": "code",
   "execution_count": 50,
   "id": "e96148f8",
   "metadata": {},
   "outputs": [
    {
     "data": {
      "text/plain": [
       "torch.Size([1, 3, 32, 32])"
      ]
     },
     "execution_count": 50,
     "metadata": {},
     "output_type": "execute_result"
    }
   ],
   "source": [
    "out.shape"
   ]
  },
  {
   "cell_type": "code",
   "execution_count": null,
   "id": "3622f567",
   "metadata": {},
   "outputs": [],
   "source": []
  },
  {
   "cell_type": "code",
   "execution_count": null,
   "id": "7138a871",
   "metadata": {},
   "outputs": [],
   "source": []
  },
  {
   "cell_type": "code",
   "execution_count": null,
   "id": "245fb8c5",
   "metadata": {},
   "outputs": [],
   "source": []
  },
  {
   "cell_type": "code",
   "execution_count": null,
   "id": "658448b8",
   "metadata": {},
   "outputs": [],
   "source": []
  },
  {
   "cell_type": "code",
   "execution_count": null,
   "id": "2f26c2f3",
   "metadata": {},
   "outputs": [],
   "source": []
  },
  {
   "cell_type": "code",
   "execution_count": null,
   "id": "401874b0",
   "metadata": {},
   "outputs": [],
   "source": []
  },
  {
   "cell_type": "code",
   "execution_count": null,
   "id": "76fb4173",
   "metadata": {},
   "outputs": [],
   "source": []
  },
  {
   "cell_type": "code",
   "execution_count": null,
   "id": "10f33326",
   "metadata": {},
   "outputs": [],
   "source": []
  }
 ],
 "metadata": {
  "interpreter": {
   "hash": "3067ead486e059ec00ffe7555bdb889e6e264a24dc711bf108106cc7baee8d5d"
  },
  "kernelspec": {
   "display_name": "Python 3.9.7 ('base')",
   "language": "python",
   "name": "python3"
  },
  "language_info": {
   "codemirror_mode": {
    "name": "ipython",
    "version": 3
   },
   "file_extension": ".py",
   "mimetype": "text/x-python",
   "name": "python",
   "nbconvert_exporter": "python",
   "pygments_lexer": "ipython3",
   "version": "3.9.7"
  }
 },
 "nbformat": 4,
 "nbformat_minor": 5
}
