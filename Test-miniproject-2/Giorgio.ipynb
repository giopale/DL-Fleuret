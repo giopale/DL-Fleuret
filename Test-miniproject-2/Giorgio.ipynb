{
 "cells": [
  {
   "cell_type": "code",
   "execution_count": 1,
   "id": "9a618163",
   "metadata": {},
   "outputs": [],
   "source": [
    "import sys\n",
    "sys.path.append('../')\n",
    "import matplotlib.pyplot as plt\n",
    "\n",
    "from Miniproject_2.model import Model, Relu, Sigmoid, Sequential, MSELoss\n",
    "\n",
    "import torch\n",
    "from torch.nn import functional as F\n"
   ]
  },
  {
   "cell_type": "code",
   "execution_count": null,
   "id": "a67f9b20",
   "metadata": {},
   "outputs": [],
   "source": [
    "device = torch.device('cuda' if torch.cuda.is_available() else 'cpu')\n",
    "\n",
    "valid_input, valid_target = torch.load('../val_data.pkl',map_location=device)#validation set (noise-clean)\n",
    "train_input, train_target = torch.load('../train_data.pkl',map_location=device) #test set (noise-noise)\n",
    "\n",
    "num_samples = 1000\n",
    "valid_input=torch.narrow(valid_input,0,0,num_samples)\n",
    "valid_target=torch.narrow(valid_target,0,0,num_samples)\n",
    "train_input=torch.narrow(train_input,0,0,num_samples)\n",
    "train_target=torch.narrow(train_target,0,0,num_samples)\n",
    "\n",
    "print(\"Vector shape: \",train_input.shape)"
   ]
  },
  {
   "cell_type": "code",
   "execution_count": null,
   "id": "72641e76",
   "metadata": {},
   "outputs": [],
   "source": []
  },
  {
   "cell_type": "code",
   "execution_count": null,
   "metadata": {},
   "outputs": [],
   "source": [
    "# Test MSE loss\n",
    "idx = 22\n",
    "len = 10\n",
    "input=valid_input[idx].float()\n",
    "target=valid_target[idx].float()\n",
    "\n",
    "# fig,ax = plt.subplots(1,2, figsize=(8,8))\n",
    "# ax[0].imshow(input.permute(1,2,0))\n",
    "# ax[1].imshow(target.permute(1,2,0))\n",
    "out = MSELoss().forward(input,target)\n",
    "\n",
    "print(out)\n",
    "\n",
    "out_true = F.mse_loss(input,target, reduction='mean')\n",
    "print(out_true)"
   ]
  },
  {
   "cell_type": "code",
   "execution_count": null,
   "id": "9cba7c27",
   "metadata": {},
   "outputs": [],
   "source": [
    "# Test Sequential\n",
    "mod_dict={\n",
    "    'relu1' : Relu(),\n",
    "    'Sig1' : Sigmoid()\n",
    "}\n",
    "\n",
    "seq1 = Sequential(**mod_dict)\n",
    "\n",
    "inp=torch.rand(10)-0.5\n",
    "seq1(inp)\n"
   ]
  },
  {
   "cell_type": "code",
   "execution_count": null,
   "id": "c2508dbf",
   "metadata": {},
   "outputs": [],
   "source": [
    "# Test Relu, Test Sigmoid\n",
    "inp=torch.rand(10)-0.5\n",
    "print('inp: ',inp)\n",
    "\n",
    "\n",
    "out1=Relu().forward(inp)\n",
    "print('out1: ', out1)\n",
    "out2=Sigmoid().forward(inp)\n",
    "print('out2: ', out2)"
   ]
  },
  {
   "cell_type": "code",
   "execution_count": null,
   "metadata": {},
   "outputs": [],
   "source": []
  }
 ],
 "metadata": {
  "interpreter": {
   "hash": "3067ead486e059ec00ffe7555bdb889e6e264a24dc711bf108106cc7baee8d5d"
  },
  "kernelspec": {
   "display_name": "Python 3.9.7 ('base')",
   "language": "python",
   "name": "python3"
  },
  "language_info": {
   "codemirror_mode": {
    "name": "ipython",
    "version": 3
   },
   "file_extension": ".py",
   "mimetype": "text/x-python",
   "name": "python",
   "nbconvert_exporter": "python",
   "pygments_lexer": "ipython3",
   "version": "3.9.7"
  }
 },
 "nbformat": 4,
 "nbformat_minor": 5
}
