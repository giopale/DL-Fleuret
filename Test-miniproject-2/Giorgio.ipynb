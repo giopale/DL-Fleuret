{
 "cells": [
  {
   "cell_type": "code",
   "execution_count": 1,
   "id": "9a618163",
   "metadata": {},
   "outputs": [],
   "source": [
    "import sys\n",
    "sys.path.append('../')\n",
    "import matplotlib.pyplot as plt\n",
    "\n",
    "from Miniproject_2.model import Model, Relu, Sigmoid, Sequential, MSELoss\n",
    "\n",
    "import torch\n",
    "from torch.nn import functional as F\n"
   ]
  },
  {
   "cell_type": "code",
   "execution_count": 2,
   "id": "a67f9b20",
   "metadata": {},
   "outputs": [
    {
     "name": "stdout",
     "output_type": "stream",
     "text": [
      "Vector shape:  torch.Size([1000, 3, 32, 32])\n"
     ]
    }
   ],
   "source": [
    "device = torch.device('cuda' if torch.cuda.is_available() else 'cpu')\n",
    "\n",
    "valid_input, valid_target = torch.load('../val_data.pkl',map_location=device)#validation set (noise-clean)\n",
    "train_input, train_target = torch.load('../train_data.pkl',map_location=device) #test set (noise-noise)\n",
    "\n",
    "num_samples = 1000\n",
    "valid_input=torch.narrow(valid_input,0,0,num_samples)\n",
    "valid_target=torch.narrow(valid_target,0,0,num_samples)\n",
    "train_input=torch.narrow(train_input,0,0,num_samples)\n",
    "train_target=torch.narrow(train_target,0,0,num_samples)\n",
    "\n",
    "print(\"Vector shape: \",train_input.shape)"
   ]
  },
  {
   "cell_type": "code",
   "execution_count": 3,
   "metadata": {},
   "outputs": [
    {
     "name": "stdout",
     "output_type": "stream",
     "text": [
      "torch.Size([10, 3, 32, 32])\n",
      "tensor(611.3060)\n",
      "tensor(611.3060)\n"
     ]
    }
   ],
   "source": [
    "idx = 22\n",
    "len = 10\n",
    "input=valid_input[idx].float()\n",
    "target=valid_target[idx].float()\n",
    "\n",
    "# fig,ax = plt.subplots(1,2, figsize=(8,8))\n",
    "# ax[0].imshow(input.permute(1,2,0))\n",
    "# ax[1].imshow(target.permute(1,2,0))\n",
    "out = MSELoss().forward(input,target)\n",
    "\n",
    "print(out)\n",
    "\n",
    "out_true = F.mse_loss(input,target, reduction='mean')\n",
    "print(out_true)"
   ]
  },
  {
   "cell_type": "code",
   "execution_count": 4,
   "id": "9cba7c27",
   "metadata": {},
   "outputs": [
    {
     "name": "stdout",
     "output_type": "stream",
     "text": [
      "input:  tensor([ 0.0760,  0.0821, -0.2584,  0.0739,  0.0804, -0.4182,  0.1903, -0.4390,\n",
      "        -0.2009, -0.2833])\n",
      "relu1 tensor([0.0760, 0.0821, 0.0000, 0.0739, 0.0804, 0.0000, 0.1903, 0.0000, 0.0000,\n",
      "        0.0000])\n",
      "Sig1 tensor([0.5190, 0.5205, 0.5000, 0.5185, 0.5201, 0.5000, 0.5474, 0.5000, 0.5000,\n",
      "        0.5000])\n"
     ]
    },
    {
     "data": {
      "text/plain": [
       "tensor([0.5190, 0.5205, 0.5000, 0.5185, 0.5201, 0.5000, 0.5474, 0.5000, 0.5000,\n",
       "        0.5000])"
      ]
     },
     "execution_count": 4,
     "metadata": {},
     "output_type": "execute_result"
    }
   ],
   "source": [
    "mod_dict={\n",
    "    'relu1' : Relu(),\n",
    "    'Sig1' : Sigmoid()\n",
    "}\n",
    "\n",
    "seq1 = Sequential(**mod_dict)\n",
    "\n",
    "inp=torch.rand(10)-0.5\n",
    "seq1(inp)\n"
   ]
  },
  {
   "cell_type": "code",
   "execution_count": 2,
   "id": "c2508dbf",
   "metadata": {},
   "outputs": [
    {
     "name": "stdout",
     "output_type": "stream",
     "text": [
      "inp:  tensor([-0.4169, -0.1908, -0.2506, -0.3950, -0.4416, -0.4296, -0.3108,  0.2979,\n",
      "         0.1155,  0.2701])\n",
      "out1:  tensor([0.0000, 0.0000, 0.0000, 0.0000, 0.0000, 0.0000, 0.0000, 0.2979, 0.1155,\n",
      "        0.2701])\n",
      "out2:  tensor([0.3973, 0.4524, 0.4377, 0.4025, 0.3914, 0.3942, 0.4229, 0.5739, 0.5289,\n",
      "        0.5671])\n"
     ]
    }
   ],
   "source": [
    "inp=torch.rand(10)-0.5\n",
    "print('inp: ',inp)\n",
    "\n",
    "\n",
    "out1=Relu().forward(inp)\n",
    "print('out1: ', out1)\n",
    "out2=Sigmoid().forward(inp)\n",
    "print('out2: ', out2)"
   ]
  },
  {
   "cell_type": "code",
   "execution_count": null,
   "metadata": {},
   "outputs": [],
   "source": []
  }
 ],
 "metadata": {
  "interpreter": {
   "hash": "3067ead486e059ec00ffe7555bdb889e6e264a24dc711bf108106cc7baee8d5d"
  },
  "kernelspec": {
   "display_name": "Python 3.9.7 ('base')",
   "language": "python",
   "name": "python3"
  },
  "language_info": {
   "codemirror_mode": {
    "name": "ipython",
    "version": 3
   },
   "file_extension": ".py",
   "mimetype": "text/x-python",
   "name": "python",
   "nbconvert_exporter": "python",
   "pygments_lexer": "ipython3",
   "version": "3.9.7"
  }
 },
 "nbformat": 4,
 "nbformat_minor": 5
}
