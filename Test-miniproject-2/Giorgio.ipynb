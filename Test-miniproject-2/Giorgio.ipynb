{
 "cells": [
  {
   "cell_type": "code",
   "execution_count": 1,
   "id": "9a618163",
   "metadata": {},
   "outputs": [],
   "source": [
    "import sys\n",
    "sys.path.append('../')\n",
    "\n",
    "from Miniproject_2.model import Model, Relu, Sigmoid, Sequential\n",
    "\n",
    "import torch"
   ]
  },
  {
   "cell_type": "code",
   "execution_count": 4,
   "id": "9cba7c27",
   "metadata": {},
   "outputs": [
    {
     "name": "stdout",
     "output_type": "stream",
     "text": [
      "suca\n",
      "suca\n"
     ]
    }
   ],
   "source": [
    "mod_dict={\n",
    "    'relu1' : Relu(),\n",
    "    'Sig1' : Sigmoid()\n",
    "}\n",
    "\n",
    "seq1 = Sequential(**mod_dict)\n",
    "\n",
    "print(seq1)"
   ]
  },
  {
   "cell_type": "code",
   "execution_count": 2,
   "id": "c2508dbf",
   "metadata": {},
   "outputs": [
    {
     "name": "stdout",
     "output_type": "stream",
     "text": [
      "inp:  tensor([-0.4169, -0.1908, -0.2506, -0.3950, -0.4416, -0.4296, -0.3108,  0.2979,\n",
      "         0.1155,  0.2701])\n",
      "out1:  tensor([0.0000, 0.0000, 0.0000, 0.0000, 0.0000, 0.0000, 0.0000, 0.2979, 0.1155,\n",
      "        0.2701])\n",
      "out2:  tensor([0.3973, 0.4524, 0.4377, 0.4025, 0.3914, 0.3942, 0.4229, 0.5739, 0.5289,\n",
      "        0.5671])\n"
     ]
    }
   ],
   "source": [
    "inp=torch.rand(10)-0.5\n",
    "print('inp: ',inp)\n",
    "\n",
    "\n",
    "out1=Relu().forward(inp)\n",
    "print('out1: ', out1)\n",
    "out2=Sigmoid().forward(inp)\n",
    "print('out2: ', out2)"
   ]
  },
  {
   "cell_type": "code",
   "execution_count": null,
   "metadata": {},
   "outputs": [],
   "source": []
  }
 ],
 "metadata": {
  "interpreter": {
   "hash": "3067ead486e059ec00ffe7555bdb889e6e264a24dc711bf108106cc7baee8d5d"
  },
  "kernelspec": {
   "display_name": "Python 3.9.7 ('base')",
   "language": "python",
   "name": "python3"
  },
  "language_info": {
   "codemirror_mode": {
    "name": "ipython",
    "version": 3
   },
   "file_extension": ".py",
   "mimetype": "text/x-python",
   "name": "python",
   "nbconvert_exporter": "python",
   "pygments_lexer": "ipython3",
   "version": "3.9.7"
  }
 },
 "nbformat": 4,
 "nbformat_minor": 5
}
