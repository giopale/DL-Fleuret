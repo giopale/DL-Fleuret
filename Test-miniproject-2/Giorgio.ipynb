{
 "cells": [
  {
   "cell_type": "code",
   "execution_count": 1,
   "id": "9a618163",
   "metadata": {},
   "outputs": [],
   "source": [
    "import sys\n",
    "sys.path.append('../')\n",
    "\n",
    "from Miniproject_2.model import Model, Relu, Sigmoid\n",
    "\n",
    "import torch"
   ]
  },
  {
   "cell_type": "code",
   "execution_count": 2,
   "id": "c2508dbf",
   "metadata": {},
   "outputs": [
    {
     "name": "stdout",
     "output_type": "stream",
     "text": [
      "inp:  tensor([ 0.4976, -0.3288,  0.2576, -0.0807,  0.1815,  0.3370,  0.1587,  0.2401,\n",
      "         0.4384, -0.4076])\n",
      "out1:  tensor([0.6219, 0.5000, 0.5640, 0.5000, 0.5453, 0.5835, 0.5396, 0.5597, 0.6079,\n",
      "        0.5000])\n"
     ]
    }
   ],
   "source": [
    "inp=torch.rand(10)-0.5\n",
    "print('inp: ',inp)\n",
    "\n",
    "\n",
    "out1=Relu().forward(inp)\n",
    "out2=Sigmoid().forward(out1)\n",
    "print('out1: ', out2)"
   ]
  },
  {
   "cell_type": "code",
   "execution_count": null,
   "id": "8157d502",
   "metadata": {},
   "outputs": [],
   "source": []
  },
  {
   "cell_type": "code",
   "execution_count": null,
   "id": "8ae1ef67",
   "metadata": {},
   "outputs": [],
   "source": []
  }
 ],
 "metadata": {
  "interpreter": {
   "hash": "3067ead486e059ec00ffe7555bdb889e6e264a24dc711bf108106cc7baee8d5d"
  },
  "kernelspec": {
   "display_name": "Python 3.9.7 ('base')",
   "language": "python",
   "name": "python3"
  },
  "language_info": {
   "codemirror_mode": {
    "name": "ipython",
    "version": 3
   },
   "file_extension": ".py",
   "mimetype": "text/x-python",
   "name": "python",
   "nbconvert_exporter": "python",
   "pygments_lexer": "ipython3",
   "version": "3.9.7"
  }
 },
 "nbformat": 4,
 "nbformat_minor": 5
}
