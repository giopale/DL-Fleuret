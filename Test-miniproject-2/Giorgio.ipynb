{
 "cells": [
  {
   "cell_type": "code",
   "execution_count": 1,
   "id": "9a618163",
   "metadata": {},
   "outputs": [],
   "source": [
    "import sys\n",
    "sys.path.append('../')\n",
    "import matplotlib.pyplot as plt\n",
    "\n",
    "from Miniproject_2.model import *\n",
    "\n",
    "import torch\n",
    "from torch.nn import functional as F\n",
    "\n",
    "torch.set_grad_enabled(True);"
   ]
  },
  {
   "cell_type": "code",
   "execution_count": 2,
   "id": "a67f9b20",
   "metadata": {},
   "outputs": [
    {
     "name": "stdout",
     "output_type": "stream",
     "text": [
      "Vector shape:  torch.Size([50000, 3, 32, 32])\n"
     ]
    }
   ],
   "source": [
    "device = torch.device('cuda' if torch.cuda.is_available() else 'cpu')\n",
    "\n",
    "valid_input, valid_target = torch.load('../val_data.pkl',map_location=device)#validation set (noise-clean)\n",
    "train_input, train_target = torch.load('../train_data.pkl',map_location=device) #test set (noise-noise)\n",
    "\n",
    "# num_samples = 1000\n",
    "# valid_input=torch.narrow(valid_input,0,0,num_samples)\n",
    "# valid_target=torch.narrow(valid_target,0,0,num_samples)\n",
    "# train_input=torch.narrow(train_input,0,0,num_samples)\n",
    "# train_target=torch.narrow(train_target,0,0,num_samples)\n",
    "\n",
    "# plt.imshow(valid_input[164].permute(1,2,0))\n",
    "\n",
    "print(\"Vector shape: \",train_input.shape)"
   ]
  },
  {
   "cell_type": "code",
   "execution_count": 3,
   "id": "5c696807",
   "metadata": {},
   "outputs": [],
   "source": [
    "def compare(x,y,decimals=7):\n",
    "    return torch.all(torch.round(torch.abs(x - y), decimals=decimals)==0.).item()"
   ]
  },
  {
   "cell_type": "markdown",
   "id": "35b6f47b",
   "metadata": {},
   "source": [
    "## Test MSE loss derivative"
   ]
  },
  {
   "cell_type": "code",
   "execution_count": 4,
   "id": "81fac2d0",
   "metadata": {},
   "outputs": [
    {
     "name": "stdout",
     "output_type": "stream",
     "text": [
      "Output:  tensor(0.0110, grad_fn=<MseLossBackward0>) \n",
      "True output:  0.011031925678253174\n"
     ]
    }
   ],
   "source": [
    "# Test MSE loss\n",
    "idx = 164\n",
    "len = 1\n",
    "y=(valid_input[idx].float()/255.).requires_grad_()\n",
    "y_true=(valid_target[idx].float()/255.).requires_grad_()\n",
    "\n",
    "# fig,ax = plt.subplots(1,2, figsize=(8,8))\n",
    "# ax[0].imshow(input.permute(1,2,0))\n",
    "# ax[1].imshow(target.permute(1,2,0))\n",
    "L = MSE()\n",
    "out = L.forward(y,y_true)\n",
    "\n",
    "L_true = F.mse_loss(y,y_true, reduction='mean')\n",
    "print('Output: ', L_true, '\\nTrue output: ', out)\n"
   ]
  },
  {
   "cell_type": "code",
   "execution_count": 5,
   "id": "2e603a57",
   "metadata": {},
   "outputs": [
    {
     "name": "stdout",
     "output_type": "stream",
     "text": [
      "True\n",
      "torch.Size([3, 32, 32])\n"
     ]
    }
   ],
   "source": [
    "dL_dy = torch.autograd.grad(L_true,(y))[0]\n",
    "dLdy = L.backward()\n",
    "\n",
    "print(compare(dL_dy, dLdy, decimals=3))\n",
    "print(dLdy.shape)"
   ]
  },
  {
   "cell_type": "code",
   "execution_count": null,
   "id": "925ca15b",
   "metadata": {},
   "outputs": [],
   "source": []
  },
  {
   "cell_type": "code",
   "execution_count": null,
   "id": "f892f426",
   "metadata": {},
   "outputs": [],
   "source": []
  },
  {
   "cell_type": "code",
   "execution_count": null,
   "id": "81755e37",
   "metadata": {},
   "outputs": [],
   "source": []
  },
  {
   "cell_type": "code",
   "execution_count": null,
   "id": "797f48aa",
   "metadata": {},
   "outputs": [],
   "source": []
  },
  {
   "cell_type": "code",
   "execution_count": null,
   "id": "4e05c922",
   "metadata": {},
   "outputs": [],
   "source": []
  },
  {
   "cell_type": "markdown",
   "id": "9b5e594e",
   "metadata": {},
   "source": [
    "## Test Sequential"
   ]
  },
  {
   "cell_type": "markdown",
   "id": "c6c27282",
   "metadata": {},
   "source": [
    "### Declare filters"
   ]
  },
  {
   "cell_type": "code",
   "execution_count": 6,
   "id": "72641e76",
   "metadata": {},
   "outputs": [],
   "source": [
    "f = torch.empty(5,3,3,3)\n",
    "\n",
    "f[0, 0] = torch.tensor([ [ +0., +0., -1. ], [ +0., +1., +0. ], [ -1., +0., +0. ]])\n",
    "f[1, 0] = torch.tensor([ [ +1., +1., +1. ], [ +1., +1., +1. ], [ +1., +1., +1. ]])\n",
    "f[2, 0] = torch.tensor([ [ -1., +0., +1. ], [ -1., +0., +1. ], [ -1., +0., +1. ]])\n",
    "f[3, 0] = torch.tensor([ [ -1., -1., -1. ], [ +0., +0., +0. ], [ +1., +1., +1. ]])\n",
    "f[4, 0] = torch.tensor([ [ +0., -1., +0. ], [ -1., +4., -1. ], [ +0., -1., +0. ]])\n",
    "\n",
    "for j in range(0,5):\n",
    "    for i in range(1,3):\n",
    "        f[j,i] = f[j,0]\n",
    "\n",
    "ff = f.transpose(0,1)\n",
    "ff.requires_grad_();"
   ]
  },
  {
   "cell_type": "markdown",
   "id": "90b94dce",
   "metadata": {},
   "source": [
    "### Declare layers and Sequential"
   ]
  },
  {
   "cell_type": "code",
   "execution_count": 7,
   "id": "b74f44fe",
   "metadata": {},
   "outputs": [],
   "source": [
    "stride = 2\n",
    "kernel_size = 2\n",
    "\n",
    "conv1 = Conv2d(3,5, kernel_size, stride=stride, padding=0, dilation=1)\n",
    "# conv1.weight=f\n",
    "relu1 = ReLU()\n",
    "conv2 = Conv2d(5,5,kernel_size, stride=stride, padding=0, dilation=1)\n",
    "relu2 = ReLU()\n",
    "tconv3 = TransposeConv2d(5,5, kernel_size, stride=stride, padding=0, dilation=1)\n",
    "relu3 = ReLU()\n",
    "tconv4 = TransposeConv2d(5,3, kernel_size, stride=stride, padding=0, dilation=1)\n",
    "sig4 = Sigmoid()\n",
    "\n",
    "net = Sequential(conv1,  \n",
    "                relu1,  \n",
    "                conv2, \n",
    "                relu2, \n",
    "                tconv3,\n",
    "                relu3, \n",
    "                tconv4,\n",
    "                sig4\n",
    "                )"
   ]
  },
  {
   "cell_type": "code",
   "execution_count": 8,
   "id": "1a5a5503",
   "metadata": {},
   "outputs": [],
   "source": [
    "idx    = 164\n",
    "len    = 10\n",
    "train_input  = valid_input[idx:idx+len].float()/255.\n",
    "train_target = valid_target[idx:idx+len].float()/255."
   ]
  },
  {
   "cell_type": "code",
   "execution_count": null,
   "id": "84e9a53d",
   "metadata": {},
   "outputs": [],
   "source": []
  },
  {
   "cell_type": "code",
   "execution_count": 9,
   "id": "e96148f8",
   "metadata": {},
   "outputs": [],
   "source": [
    "\n",
    "eta = 0.1\n",
    "batch_size = 2\n",
    "\n",
    "\n",
    "\n",
    "for epoch in range(1):\n",
    "    for x, trg in zip(train_input.split(batch_size), train_target.split(batch_size)):\n",
    "        out = net(x)\n",
    "        loss  = MSE()\n",
    "        l_val = loss(out, trg)\n",
    "\n",
    "\n",
    "        net.zero_grad()\n",
    "        net.backward(loss.backward())\n",
    "        for p in net.parameters():\n",
    "            if p:\n",
    "                p[0] = p[0] - eta * p[1]\n",
    "\n",
    "\n"
   ]
  },
  {
   "cell_type": "code",
   "execution_count": 10,
   "id": "66f29b61",
   "metadata": {},
   "outputs": [
    {
     "data": {
      "text/plain": [
       "torch.Size([2, 3, 32, 32])"
      ]
     },
     "execution_count": 10,
     "metadata": {},
     "output_type": "execute_result"
    }
   ],
   "source": [
    "out.shape"
   ]
  },
  {
   "cell_type": "markdown",
   "metadata": {},
   "source": [
    "## Test Model"
   ]
  },
  {
   "cell_type": "code",
   "execution_count": 4,
   "id": "80b36e93",
   "metadata": {},
   "outputs": [],
   "source": [
    "idx    = 165\n",
    "len    = 45000\n",
    "train_input  = valid_input[idx:idx+len].float()/255.\n",
    "train_target = valid_target[idx:idx+len].float()/255."
   ]
  },
  {
   "cell_type": "markdown",
   "id": "bd638c75",
   "metadata": {},
   "source": [
    "### Train"
   ]
  },
  {
   "cell_type": "code",
   "execution_count": 5,
   "id": "bf5f4bfa",
   "metadata": {},
   "outputs": [
    {
     "name": "stdout",
     "output_type": "stream",
     "text": [
      "Completed: 2/2 "
     ]
    }
   ],
   "source": [
    "mod = Model()\n",
    "\n",
    "mod.train(train_input, train_target, 3 )"
   ]
  },
  {
   "cell_type": "markdown",
   "id": "8a603871",
   "metadata": {},
   "source": [
    "### Visual inspection"
   ]
  },
  {
   "cell_type": "code",
   "execution_count": 6,
   "id": "65ff2926",
   "metadata": {},
   "outputs": [
    {
     "data": {
      "image/png": "[encoded data removed]",
      "text/plain": [
       "<Figure size 432x288 with 3 Axes>"
      ]
     },
     "metadata": {
      "needs_background": "light"
     },
     "output_type": "display_data"
    }
   ],
   "source": [
    "denoised = mod.predict(train_input[[idx]])\n",
    "\n",
    "fig, ax = plt.subplots(nrows=1, ncols=3)\n",
    "\n",
    "ax[0].imshow(train_input[idx].permute(1,2,0))\n",
    "ax[1].imshow(train_target[idx].permute(1,2,0))\n",
    "ax[2].imshow(denoised[0].permute(1,2,0))\n",
    "\n",
    "ax[0].set_title('Noisy')\n",
    "ax[1].set_title('Target')\n",
    "ax[2].set_title('Denoised?')\n",
    "fig.tight_layout()"
   ]
  },
  {
   "cell_type": "code",
   "execution_count": null,
   "id": "84180c3c",
   "metadata": {},
   "outputs": [],
   "source": []
  },
  {
   "cell_type": "code",
   "execution_count": null,
   "id": "ed50adc3",
   "metadata": {},
   "outputs": [],
   "source": []
  },
  {
   "cell_type": "code",
   "execution_count": null,
   "id": "1426c3e8",
   "metadata": {},
   "outputs": [],
   "source": []
  },
  {
   "cell_type": "markdown",
   "id": "e6babe1f",
   "metadata": {},
   "source": [
    "## Test ```self.parameters```"
   ]
  },
  {
   "cell_type": "code",
   "execution_count": null,
   "id": "3622f567",
   "metadata": {},
   "outputs": [],
   "source": []
  },
  {
   "cell_type": "code",
   "execution_count": 14,
   "id": "7138a871",
   "metadata": {},
   "outputs": [],
   "source": [
    "stride = 2\n",
    "kernel_size = 2\n",
    "\n",
    "conv1 = Conv2d(3,5, kernel_size, stride=stride, padding=0, dilation=1)"
   ]
  },
  {
   "cell_type": "code",
   "execution_count": 15,
   "id": "245fb8c5",
   "metadata": {},
   "outputs": [
    {
     "ename": "AttributeError",
     "evalue": "'Sequential' object has no attribute 'param'",
     "output_type": "error",
     "traceback": [
      "\u001b[0;31m---------------------------------------------------------------------------\u001b[0m",
      "\u001b[0;31mAttributeError\u001b[0m                            Traceback (most recent call last)",
      "\u001b[0;32m/var/folders/dd/w99hf4055cb_m_rq2yd2ky1w0000gn/T/ipykernel_24027/3696991441.py\u001b[0m in \u001b[0;36m<module>\u001b[0;34m\u001b[0m\n\u001b[0;32m----> 1\u001b[0;31m \u001b[0mnet\u001b[0m\u001b[0;34m.\u001b[0m\u001b[0mparam\u001b[0m\u001b[0;34m(\u001b[0m\u001b[0;34m)\u001b[0m\u001b[0;34m\u001b[0m\u001b[0;34m\u001b[0m\u001b[0m\n\u001b[0m",
      "\u001b[0;31mAttributeError\u001b[0m: 'Sequential' object has no attribute 'param'"
     ]
    }
   ],
   "source": [
    "net.param()\n"
   ]
  },
  {
   "cell_type": "code",
   "execution_count": null,
   "id": "658448b8",
   "metadata": {},
   "outputs": [],
   "source": []
  },
  {
   "cell_type": "code",
   "execution_count": null,
   "id": "2f26c2f3",
   "metadata": {},
   "outputs": [],
   "source": []
  },
  {
   "cell_type": "code",
   "execution_count": null,
   "id": "401874b0",
   "metadata": {},
   "outputs": [],
   "source": []
  },
  {
   "cell_type": "code",
   "execution_count": null,
   "id": "76fb4173",
   "metadata": {},
   "outputs": [],
   "source": []
  },
  {
   "cell_type": "code",
   "execution_count": null,
   "id": "10f33326",
   "metadata": {},
   "outputs": [],
   "source": []
  }
 ],
 "metadata": {
  "interpreter": {
   "hash": "3067ead486e059ec00ffe7555bdb889e6e264a24dc711bf108106cc7baee8d5d"
  },
  "kernelspec": {
   "display_name": "Python 3 (ipykernel)",
   "language": "python",
   "name": "python3"
  },
  "language_info": {
   "codemirror_mode": {
    "name": "ipython",
    "version": 3
   },
   "file_extension": ".py",
   "mimetype": "text/x-python",
   "name": "python",
   "nbconvert_exporter": "python",
   "pygments_lexer": "ipython3",
   "version": "3.9.7"
  }
 },
 "nbformat": 4,
 "nbformat_minor": 5
}
