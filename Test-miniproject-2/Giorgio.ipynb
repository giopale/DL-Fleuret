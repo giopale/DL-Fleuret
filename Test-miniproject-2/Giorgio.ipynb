{
 "cells": [
  {
   "cell_type": "code",
   "execution_count": 1,
   "id": "9a618163",
   "metadata": {},
   "outputs": [],
   "source": [
    "import sys\n",
    "sys.path.append('../','../Proj_308427_348143_XXXXXX')\n",
    "import matplotlib.pyplot as plt\n",
    "\n",
    "from Miniproject_2.model import *\n",
    "\n",
    "import torch\n",
    "from torch.nn import functional as F\n",
    "\n",
    "torch.set_grad_enabled(True);"
   ]
  },
  {
   "cell_type": "code",
   "execution_count": 2,
   "id": "a67f9b20",
   "metadata": {},
   "outputs": [
    {
     "name": "stdout",
     "output_type": "stream",
     "text": [
      "Vector shape:  torch.Size([50000, 3, 32, 32])\n"
     ]
    }
   ],
   "source": [
    "device = torch.device('cuda' if torch.cuda.is_available() else 'cpu')\n",
    "\n",
    "valid_input, valid_target = torch.load('../val_data.pkl',map_location=device)#validation set (noise-clean)\n",
    "train_input, train_target = torch.load('../train_data.pkl',map_location=device) #test set (noise-noise)\n",
    "\n",
    "print(\"Vector shape: \",train_input.shape)"
   ]
  },
  {
   "cell_type": "markdown",
   "metadata": {},
   "source": [
    "## Test Model"
   ]
  },
  {
   "cell_type": "code",
   "execution_count": 3,
   "id": "80b36e93",
   "metadata": {},
   "outputs": [],
   "source": [
    "idx    = 164\n",
    "len    = 450\n",
    "train_in  = train_input[idx:idx+len].float()/255.\n",
    "train_tg = train_target[idx:idx+len].float()/255."
   ]
  },
  {
   "cell_type": "markdown",
   "id": "bd638c75",
   "metadata": {},
   "source": [
    "### Train"
   ]
  },
  {
   "cell_type": "code",
   "execution_count": 4,
   "id": "bf5f4bfa",
   "metadata": {},
   "outputs": [
    {
     "name": "stdout",
     "output_type": "stream",
     "text": [
      "Completed: 5/5 "
     ]
    }
   ],
   "source": [
    "mod = Model()\n",
    "mod.train(train_in, train_tg, 5 )"
   ]
  },
  {
   "cell_type": "markdown",
   "id": "8a603871",
   "metadata": {},
   "source": [
    "### Visual inspection"
   ]
  },
  {
   "cell_type": "code",
   "execution_count": 5,
   "id": "65ff2926",
   "metadata": {},
   "outputs": [
    {
     "data": {
      "image/png": "[encoded data removed]",
      "text/plain": [
       "<Figure size 936x720 with 3 Axes>"
      ]
     },
     "metadata": {
      "needs_background": "light"
     },
     "output_type": "display_data"
    }
   ],
   "source": [
    "denoised = mod.predict(train_in)[idx]\n",
    "\n",
    "fig, ax = plt.subplots(nrows=1, ncols=3, figsize=(13,10))\n",
    "\n",
    "ax[0].imshow(train_in[idx].permute(1,2,0))\n",
    "ax[1].imshow(train_tg[idx].permute(1,2,0))\n",
    "ax[2].imshow(denoised.permute(1,2,0))\n",
    "\n",
    "ax[0].set_title('Noisy')\n",
    "ax[1].set_title('Target')\n",
    "ax[2].set_title('Denoised?')\n",
    "fig.tight_layout()"
   ]
  },
  {
   "cell_type": "code",
   "execution_count": null,
   "id": "84180c3c",
   "metadata": {},
   "outputs": [],
   "source": []
  },
  {
   "cell_type": "code",
   "execution_count": null,
   "id": "ed50adc3",
   "metadata": {},
   "outputs": [],
   "source": []
  },
  {
   "cell_type": "code",
   "execution_count": null,
   "id": "1426c3e8",
   "metadata": {},
   "outputs": [],
   "source": []
  },
  {
   "cell_type": "markdown",
   "id": "e6babe1f",
   "metadata": {},
   "source": [
    "## Test ```self.parameters```"
   ]
  },
  {
   "cell_type": "code",
   "execution_count": null,
   "id": "3622f567",
   "metadata": {},
   "outputs": [],
   "source": []
  },
  {
   "cell_type": "code",
   "execution_count": 6,
   "id": "7138a871",
   "metadata": {},
   "outputs": [],
   "source": [
    "stride = 2\n",
    "kernel_size = 2\n",
    "\n",
    "conv1 = Conv2d(3,5, kernel_size, stride=stride, padding=0, dilation=1)"
   ]
  },
  {
   "cell_type": "code",
   "execution_count": 7,
   "id": "245fb8c5",
   "metadata": {},
   "outputs": [
    {
     "ename": "NameError",
     "evalue": "name 'net' is not defined",
     "output_type": "error",
     "traceback": [
      "\u001b[0;31m---------------------------------------------------------------------------\u001b[0m",
      "\u001b[0;31mNameError\u001b[0m                                 Traceback (most recent call last)",
      "\u001b[0;32m/var/folders/dd/w99hf4055cb_m_rq2yd2ky1w0000gn/T/ipykernel_26982/3696991441.py\u001b[0m in \u001b[0;36m<module>\u001b[0;34m\u001b[0m\n\u001b[0;32m----> 1\u001b[0;31m \u001b[0mnet\u001b[0m\u001b[0;34m.\u001b[0m\u001b[0mparam\u001b[0m\u001b[0;34m(\u001b[0m\u001b[0;34m)\u001b[0m\u001b[0;34m\u001b[0m\u001b[0;34m\u001b[0m\u001b[0m\n\u001b[0m",
      "\u001b[0;31mNameError\u001b[0m: name 'net' is not defined"
     ]
    }
   ],
   "source": [
    "net.param()\n"
   ]
  },
  {
   "cell_type": "code",
   "execution_count": null,
   "id": "658448b8",
   "metadata": {},
   "outputs": [],
   "source": []
  },
  {
   "cell_type": "code",
   "execution_count": null,
   "id": "2f26c2f3",
   "metadata": {},
   "outputs": [],
   "source": []
  },
  {
   "cell_type": "code",
   "execution_count": null,
   "id": "401874b0",
   "metadata": {},
   "outputs": [],
   "source": []
  },
  {
   "cell_type": "code",
   "execution_count": null,
   "id": "76fb4173",
   "metadata": {},
   "outputs": [],
   "source": []
  },
  {
   "cell_type": "code",
   "execution_count": null,
   "id": "10f33326",
   "metadata": {},
   "outputs": [],
   "source": []
  }
 ],
 "metadata": {
  "interpreter": {
   "hash": "3067ead486e059ec00ffe7555bdb889e6e264a24dc711bf108106cc7baee8d5d"
  },
  "kernelspec": {
   "display_name": "Python 3 (ipykernel)",
   "language": "python",
   "name": "python3"
  },
  "language_info": {
   "codemirror_mode": {
    "name": "ipython",
    "version": 3
   },
   "file_extension": ".py",
   "mimetype": "text/x-python",
   "name": "python",
   "nbconvert_exporter": "python",
   "pygments_lexer": "ipython3",
   "version": "3.9.7"
  }
 },
 "nbformat": 4,
 "nbformat_minor": 5
}
