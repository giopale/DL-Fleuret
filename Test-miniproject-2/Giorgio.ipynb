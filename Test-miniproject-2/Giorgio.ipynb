{
 "cells": [
  {
   "cell_type": "code",
   "execution_count": 1,
   "id": "9a618163",
   "metadata": {},
   "outputs": [],
   "source": [
    "import sys\n",
    "sys.path.append('../')\n",
    "import matplotlib.pyplot as plt\n",
    "\n",
    "from Miniproject_2.model import *\n",
    "\n",
    "import torch\n",
    "from torch.nn import functional as F\n",
    "\n",
    "torch.set_grad_enabled(True);"
   ]
  },
  {
   "cell_type": "code",
   "execution_count": 2,
   "id": "a67f9b20",
   "metadata": {},
   "outputs": [
    {
     "name": "stdout",
     "output_type": "stream",
     "text": [
      "Vector shape:  torch.Size([1000, 3, 32, 32])\n"
     ]
    }
   ],
   "source": [
    "device = torch.device('cuda' if torch.cuda.is_available() else 'cpu')\n",
    "\n",
    "valid_input, valid_target = torch.load('../val_data.pkl',map_location=device)#validation set (noise-clean)\n",
    "train_input, train_target = torch.load('../train_data.pkl',map_location=device) #test set (noise-noise)\n",
    "\n",
    "num_samples = 1000\n",
    "valid_input=torch.narrow(valid_input,0,0,num_samples)\n",
    "valid_target=torch.narrow(valid_target,0,0,num_samples)\n",
    "train_input=torch.narrow(train_input,0,0,num_samples)\n",
    "train_target=torch.narrow(train_target,0,0,num_samples)\n",
    "\n",
    "# plt.imshow(valid_input[164].permute(1,2,0))\n",
    "\n",
    "print(\"Vector shape: \",train_input.shape)"
   ]
  },
  {
   "cell_type": "code",
   "execution_count": 3,
   "id": "5c696807",
   "metadata": {},
   "outputs": [],
   "source": [
    "def compare(x,y,decimals=7):\n",
    "    return torch.all(torch.round(torch.abs(x - y), decimals=decimals)==0.).item()"
   ]
  },
  {
   "cell_type": "markdown",
   "id": "35b6f47b",
   "metadata": {},
   "source": [
    "## Test MSE loss derivative"
   ]
  },
  {
   "cell_type": "code",
   "execution_count": 4,
   "id": "94023968",
   "metadata": {},
   "outputs": [],
   "source": [
    "# class MSELoss(Module):\n",
    "#     def __init__(self, *input):\n",
    "#         super(MSELoss,self).__init__()\n",
    "#         self.input = None\n",
    "#         self.reference = None\n",
    "    \n",
    "#     def forward(self,input,reference):\n",
    "#         self.input     = input\n",
    "#         self.reference = reference\n",
    "#         n              = input.size().numel()\n",
    "#         output         = ((input-reference)**2).sum()/n\n",
    "#         return output\n",
    "\n",
    "#     __call__ = forward\n",
    "\n",
    "#     def backward(self):\n",
    "#         return 2*(self.input - self.reference)/self.input.size().numel()\n",
    "\n"
   ]
  },
  {
   "cell_type": "code",
   "execution_count": 5,
   "id": "81fac2d0",
   "metadata": {},
   "outputs": [
    {
     "name": "stdout",
     "output_type": "stream",
     "text": [
      "Output:  tensor(0.0110, grad_fn=<MseLossBackward0>) \n",
      "True output:  0.011031925678253174\n"
     ]
    }
   ],
   "source": [
    "# Test MSE loss\n",
    "idx = 164\n",
    "len = 1\n",
    "y=(valid_input[idx].float()/255.).requires_grad_()\n",
    "y_true=(valid_target[idx].float()/255.).requires_grad_()\n",
    "\n",
    "# fig,ax = plt.subplots(1,2, figsize=(8,8))\n",
    "# ax[0].imshow(input.permute(1,2,0))\n",
    "# ax[1].imshow(target.permute(1,2,0))\n",
    "L = MSELoss()\n",
    "out = L.forward(y,y_true)\n",
    "\n",
    "L_true = F.mse_loss(y,y_true, reduction='mean')\n",
    "print('Output: ', L_true, '\\nTrue output: ', out)\n"
   ]
  },
  {
   "cell_type": "code",
   "execution_count": 6,
   "id": "2e603a57",
   "metadata": {},
   "outputs": [
    {
     "name": "stdout",
     "output_type": "stream",
     "text": [
      "True\n",
      "torch.Size([3, 32, 32])\n"
     ]
    }
   ],
   "source": [
    "dL_dy = torch.autograd.grad(L_true,(y))[0]\n",
    "dLdy = L.backward()\n",
    "\n",
    "print(compare(dL_dy, dLdy, decimals=3))\n",
    "print(dLdy.shape)"
   ]
  },
  {
   "cell_type": "code",
   "execution_count": null,
   "id": "925ca15b",
   "metadata": {},
   "outputs": [],
   "source": []
  },
  {
   "cell_type": "code",
   "execution_count": null,
   "id": "f892f426",
   "metadata": {},
   "outputs": [],
   "source": []
  },
  {
   "cell_type": "code",
   "execution_count": null,
   "id": "81755e37",
   "metadata": {},
   "outputs": [],
   "source": []
  },
  {
   "cell_type": "code",
   "execution_count": null,
   "id": "797f48aa",
   "metadata": {},
   "outputs": [],
   "source": []
  },
  {
   "cell_type": "code",
   "execution_count": 7,
   "id": "4e05c922",
   "metadata": {},
   "outputs": [],
   "source": [
    "# plt.imshow(out[0].permute(1,2,0)[:,:,::2])"
   ]
  },
  {
   "cell_type": "markdown",
   "id": "9b5e594e",
   "metadata": {},
   "source": [
    "## Test Sequential"
   ]
  },
  {
   "cell_type": "code",
   "execution_count": 8,
   "id": "72641e76",
   "metadata": {},
   "outputs": [],
   "source": [
    "f = torch.empty(5,3,3,3)\n",
    "\n",
    "f[0, 0] = torch.tensor([ [ +0., +0., -1. ], [ +0., +1., +0. ], [ -1., +0., +0. ]])\n",
    "f[1, 0] = torch.tensor([ [ +1., +1., +1. ], [ +1., +1., +1. ], [ +1., +1., +1. ]])\n",
    "f[2, 0] = torch.tensor([ [ -1., +0., +1. ], [ -1., +0., +1. ], [ -1., +0., +1. ]])\n",
    "f[3, 0] = torch.tensor([ [ -1., -1., -1. ], [ +0., +0., +0. ], [ +1., +1., +1. ]])\n",
    "f[4, 0] = torch.tensor([ [ +0., -1., +0. ], [ -1., +4., -1. ], [ +0., -1., +0. ]])\n",
    "\n",
    "for j in range(0,5):\n",
    "    for i in range(1,3):\n",
    "        f[j,i] = f[j,0]\n",
    "\n",
    "ff = f.transpose(0,1)\n",
    "ff.requires_grad_();"
   ]
  },
  {
   "cell_type": "code",
   "execution_count": 9,
   "id": "b74f44fe",
   "metadata": {},
   "outputs": [],
   "source": [
    "stride = 2\n",
    "kernel_size = 2\n",
    "\n",
    "conv1 = Conv2d(3,5, kernel_size, stride=stride, padding=0, dilation=1)\n",
    "# conv1.weight=f\n",
    "relu1 = Relu()\n",
    "conv2 = Conv2d(5,5,kernel_size, stride=stride, padding=0, dilation=1)\n",
    "relu2 = Relu()\n",
    "tconv3 = ConvTranspose2d(5,5, kernel_size, stride=stride, padding=0, dilation=1)\n",
    "relu3 = Relu()\n",
    "tconv4 = ConvTranspose2d(5,3, kernel_size, stride=stride, padding=0, dilation=1)\n",
    "sig4 = Sigmoid()\n",
    "\n",
    "net = Sequential(conv1,  \n",
    "                relu1,  \n",
    "                conv2, \n",
    "                relu2, \n",
    "                tconv3,\n",
    "                relu3, \n",
    "                tconv4,\n",
    "                sig4\n",
    "                )"
   ]
  },
  {
   "cell_type": "code",
   "execution_count": 10,
   "id": "1a5a5503",
   "metadata": {},
   "outputs": [],
   "source": [
    "idx = 164\n",
    "len = 1\n",
    "a=valid_input[[idx]].float()/255.\n",
    "target=valid_target[idx].float()/255.\n",
    "# plt.imshow(a[0].permute(1,2,0))"
   ]
  },
  {
   "cell_type": "code",
   "execution_count": 11,
   "id": "84e9a53d",
   "metadata": {},
   "outputs": [],
   "source": [
    "out=net(a)\n",
    "# plt.imshow(out[0].permute(1,2,0)[:,:,:])\n",
    "# plt.colorbar()"
   ]
  },
  {
   "cell_type": "code",
   "execution_count": 12,
   "id": "e96148f8",
   "metadata": {},
   "outputs": [
    {
     "name": "stdout",
     "output_type": "stream",
     "text": [
      "0.1814565807580948\n",
      "<Miniproject_2.model.Conv2d object at 0x7fb69cde6940>\n"
     ]
    },
    {
     "ename": "AssertionError",
     "evalue": "",
     "output_type": "error",
     "traceback": [
      "\u001b[0;31m---------------------------------------------------------------------------\u001b[0m",
      "\u001b[0;31mAssertionError\u001b[0m                            Traceback (most recent call last)",
      "\u001b[0;32m/var/folders/dd/w99hf4055cb_m_rq2yd2ky1w0000gn/T/ipykernel_19525/1266638512.py\u001b[0m in \u001b[0;36m<module>\u001b[0;34m\u001b[0m\n\u001b[1;32m      3\u001b[0m \u001b[0mprint\u001b[0m\u001b[0;34m(\u001b[0m\u001b[0ml_val\u001b[0m\u001b[0;34m)\u001b[0m\u001b[0;34m\u001b[0m\u001b[0;34m\u001b[0m\u001b[0m\n\u001b[1;32m      4\u001b[0m \u001b[0;34m\u001b[0m\u001b[0m\n\u001b[0;32m----> 5\u001b[0;31m \u001b[0mnet\u001b[0m\u001b[0;34m.\u001b[0m\u001b[0mbackward\u001b[0m\u001b[0;34m(\u001b[0m\u001b[0mloss\u001b[0m\u001b[0;34m.\u001b[0m\u001b[0mbackward\u001b[0m\u001b[0;34m(\u001b[0m\u001b[0;34m)\u001b[0m\u001b[0;34m)\u001b[0m\u001b[0;34m\u001b[0m\u001b[0;34m\u001b[0m\u001b[0m\n\u001b[0m",
      "\u001b[0;32m~/Github/DL-Fleuret/Test-miniproject-2/../Miniproject_2/model.py\u001b[0m in \u001b[0;36mbackward\u001b[0;34m(self, x)\u001b[0m\n\u001b[1;32m    154\u001b[0m         \u001b[0;32mfor\u001b[0m \u001b[0mmodule\u001b[0m \u001b[0;32min\u001b[0m \u001b[0mself\u001b[0m\u001b[0;34m.\u001b[0m\u001b[0m_modules\u001b[0m\u001b[0;34m.\u001b[0m\u001b[0mvalues\u001b[0m\u001b[0;34m(\u001b[0m\u001b[0;34m)\u001b[0m\u001b[0;34m:\u001b[0m\u001b[0;34m\u001b[0m\u001b[0;34m\u001b[0m\u001b[0m\n\u001b[1;32m    155\u001b[0m             \u001b[0mprint\u001b[0m\u001b[0;34m(\u001b[0m\u001b[0mmodule\u001b[0m\u001b[0;34m)\u001b[0m\u001b[0;34m\u001b[0m\u001b[0;34m\u001b[0m\u001b[0m\n\u001b[0;32m--> 156\u001b[0;31m             \u001b[0mx\u001b[0m \u001b[0;34m=\u001b[0m \u001b[0mmodule\u001b[0m\u001b[0;34m.\u001b[0m\u001b[0mbackward\u001b[0m\u001b[0;34m(\u001b[0m\u001b[0mx\u001b[0m\u001b[0;34m)\u001b[0m\u001b[0;34m\u001b[0m\u001b[0;34m\u001b[0m\u001b[0m\n\u001b[0m\u001b[1;32m    157\u001b[0m             \u001b[0mprint\u001b[0m\u001b[0;34m(\u001b[0m\u001b[0;36m1\u001b[0m\u001b[0;34m)\u001b[0m\u001b[0;34m\u001b[0m\u001b[0;34m\u001b[0m\u001b[0m\n\u001b[1;32m    158\u001b[0m \u001b[0;34m\u001b[0m\u001b[0m\n",
      "\u001b[0;32m~/Github/DL-Fleuret/Test-miniproject-2/../Miniproject_2/model.py\u001b[0m in \u001b[0;36mbackward\u001b[0;34m(self, dL_dy)\u001b[0m\n\u001b[1;32m    198\u001b[0m \u001b[0;34m\u001b[0m\u001b[0m\n\u001b[1;32m    199\u001b[0m     \u001b[0;32mdef\u001b[0m \u001b[0mbackward\u001b[0m\u001b[0;34m(\u001b[0m\u001b[0mself\u001b[0m\u001b[0;34m,\u001b[0m \u001b[0mdL_dy\u001b[0m\u001b[0;34m)\u001b[0m\u001b[0;34m:\u001b[0m\u001b[0;34m\u001b[0m\u001b[0;34m\u001b[0m\u001b[0m\n\u001b[0;32m--> 200\u001b[0;31m         dL_dx, dL_df = conv_backward(self.input, dL_dy, self.weight, stride=self.stride,\\\n\u001b[0m\u001b[1;32m    201\u001b[0m                                      padding=self.padding, dilation=self.dilation)\n\u001b[1;32m    202\u001b[0m         \u001b[0mself\u001b[0m\u001b[0;34m.\u001b[0m\u001b[0mparameters\u001b[0m\u001b[0;34m[\u001b[0m\u001b[0;36m1\u001b[0m\u001b[0;34m]\u001b[0m \u001b[0;34m=\u001b[0m \u001b[0mdL_df\u001b[0m\u001b[0;34m\u001b[0m\u001b[0;34m\u001b[0m\u001b[0m\n",
      "\u001b[0;32m~/Github/DL-Fleuret/Test-miniproject-2/../Miniproject_2/model.py\u001b[0m in \u001b[0;36mconv_backward\u001b[0;34m(input, dL_dy, weight, stride, padding, dilation)\u001b[0m\n\u001b[1;32m     53\u001b[0m \u001b[0;32mdef\u001b[0m \u001b[0mconv_backward\u001b[0m\u001b[0;34m(\u001b[0m\u001b[0minput\u001b[0m\u001b[0;34m,\u001b[0m \u001b[0mdL_dy\u001b[0m\u001b[0;34m,\u001b[0m \u001b[0mweight\u001b[0m\u001b[0;34m,\u001b[0m \u001b[0mstride\u001b[0m\u001b[0;34m=\u001b[0m\u001b[0;36m1\u001b[0m\u001b[0;34m,\u001b[0m \u001b[0mpadding\u001b[0m\u001b[0;34m=\u001b[0m\u001b[0;36m0\u001b[0m\u001b[0;34m,\u001b[0m \u001b[0mdilation\u001b[0m\u001b[0;34m=\u001b[0m\u001b[0;36m1\u001b[0m\u001b[0;34m)\u001b[0m\u001b[0;34m:\u001b[0m\u001b[0;34m\u001b[0m\u001b[0;34m\u001b[0m\u001b[0m\n\u001b[1;32m     54\u001b[0m     \u001b[0mout_channels\u001b[0m\u001b[0;34m,\u001b[0m \u001b[0min_channels\u001b[0m\u001b[0;34m,\u001b[0m \u001b[0mkernel_size\u001b[0m \u001b[0;34m=\u001b[0m \u001b[0mweight\u001b[0m\u001b[0;34m.\u001b[0m\u001b[0mshape\u001b[0m\u001b[0;34m[\u001b[0m\u001b[0;34m:\u001b[0m\u001b[0;34m-\u001b[0m\u001b[0;36m1\u001b[0m\u001b[0;34m]\u001b[0m\u001b[0;34m\u001b[0m\u001b[0;34m\u001b[0m\u001b[0m\n\u001b[0;32m---> 55\u001b[0;31m     \u001b[0mdL_dx\u001b[0m \u001b[0;34m=\u001b[0m \u001b[0mconv_transpose2d\u001b[0m\u001b[0;34m(\u001b[0m\u001b[0mdL_dy\u001b[0m\u001b[0;34m,\u001b[0m \u001b[0mweight\u001b[0m\u001b[0;34m,\u001b[0m \u001b[0mstride\u001b[0m\u001b[0;34m=\u001b[0m\u001b[0mstride\u001b[0m\u001b[0;34m,\u001b[0m \u001b[0mpadding\u001b[0m\u001b[0;34m=\u001b[0m\u001b[0mpadding\u001b[0m\u001b[0;34m,\u001b[0m \u001b[0mdilation\u001b[0m\u001b[0;34m=\u001b[0m\u001b[0mdilation\u001b[0m\u001b[0;34m)\u001b[0m\u001b[0;34m\u001b[0m\u001b[0;34m\u001b[0m\u001b[0m\n\u001b[0m\u001b[1;32m     56\u001b[0m \u001b[0;34m\u001b[0m\u001b[0m\n\u001b[1;32m     57\u001b[0m     \u001b[0mignored\u001b[0m \u001b[0;34m=\u001b[0m \u001b[0mint\u001b[0m\u001b[0;34m(\u001b[0m\u001b[0minput\u001b[0m\u001b[0;34m.\u001b[0m\u001b[0mshape\u001b[0m\u001b[0;34m[\u001b[0m\u001b[0;34m-\u001b[0m\u001b[0;36m1\u001b[0m\u001b[0;34m]\u001b[0m\u001b[0;34m-\u001b[0m\u001b[0mdL_dx\u001b[0m\u001b[0;34m.\u001b[0m\u001b[0mshape\u001b[0m\u001b[0;34m[\u001b[0m\u001b[0;34m-\u001b[0m\u001b[0;36m1\u001b[0m\u001b[0;34m]\u001b[0m\u001b[0;34m)\u001b[0m\u001b[0;34m\u001b[0m\u001b[0;34m\u001b[0m\u001b[0m\n",
      "\u001b[0;32m~/Github/DL-Fleuret/Test-miniproject-2/../Miniproject_2/model.py\u001b[0m in \u001b[0;36mconv_transpose2d\u001b[0;34m(input, weight, stride, padding, dilation)\u001b[0m\n\u001b[1;32m     36\u001b[0m \u001b[0;34m\u001b[0m\u001b[0m\n\u001b[1;32m     37\u001b[0m     \u001b[0meff_input\u001b[0m \u001b[0;34m=\u001b[0m \u001b[0maugment\u001b[0m\u001b[0;34m(\u001b[0m\u001b[0minput\u001b[0m\u001b[0;34m,\u001b[0m \u001b[0mnzeros\u001b[0m\u001b[0;34m=\u001b[0m\u001b[0mstride\u001b[0m\u001b[0;34m-\u001b[0m\u001b[0;36m1\u001b[0m\u001b[0;34m,\u001b[0m \u001b[0mpadding\u001b[0m\u001b[0;34m=\u001b[0m\u001b[0mkernel_size\u001b[0m\u001b[0;34m-\u001b[0m\u001b[0;36m1\u001b[0m\u001b[0;34m-\u001b[0m\u001b[0mpadding\u001b[0m\u001b[0;34m)\u001b[0m\u001b[0;34m\u001b[0m\u001b[0;34m\u001b[0m\u001b[0m\n\u001b[0;32m---> 38\u001b[0;31m     \u001b[0;32mreturn\u001b[0m  \u001b[0mconv2d\u001b[0m\u001b[0;34m(\u001b[0m\u001b[0meff_input\u001b[0m\u001b[0;34m,\u001b[0m \u001b[0mweight\u001b[0m\u001b[0;34m.\u001b[0m\u001b[0mflip\u001b[0m\u001b[0;34m(\u001b[0m\u001b[0;36m2\u001b[0m\u001b[0;34m,\u001b[0m\u001b[0;36m3\u001b[0m\u001b[0;34m)\u001b[0m\u001b[0;34m.\u001b[0m\u001b[0mtranspose\u001b[0m\u001b[0;34m(\u001b[0m\u001b[0;36m0\u001b[0m\u001b[0;34m,\u001b[0m\u001b[0;36m1\u001b[0m\u001b[0;34m)\u001b[0m\u001b[0;34m,\u001b[0m \u001b[0mstride\u001b[0m\u001b[0;34m=\u001b[0m\u001b[0;36m1\u001b[0m\u001b[0;34m,\u001b[0m \u001b[0mpadding\u001b[0m\u001b[0;34m=\u001b[0m\u001b[0;36m0\u001b[0m\u001b[0;34m,\u001b[0m \u001b[0mdilation\u001b[0m\u001b[0;34m=\u001b[0m\u001b[0;36m1\u001b[0m\u001b[0;34m)\u001b[0m\u001b[0;34m\u001b[0m\u001b[0;34m\u001b[0m\u001b[0m\n\u001b[0m\u001b[1;32m     39\u001b[0m \u001b[0;34m\u001b[0m\u001b[0m\n\u001b[1;32m     40\u001b[0m \u001b[0;34m\u001b[0m\u001b[0m\n",
      "\u001b[0;32m~/Github/DL-Fleuret/Test-miniproject-2/../Miniproject_2/model.py\u001b[0m in \u001b[0;36mconv2d\u001b[0;34m(input, weight, stride, padding, dilation)\u001b[0m\n\u001b[1;32m     14\u001b[0m     \u001b[0mout_channels\u001b[0m\u001b[0;34m,\u001b[0m \u001b[0min_channels\u001b[0m\u001b[0;34m,\u001b[0m \u001b[0mkernel_size\u001b[0m \u001b[0;34m=\u001b[0m \u001b[0mweight\u001b[0m\u001b[0;34m.\u001b[0m\u001b[0mshape\u001b[0m\u001b[0;34m[\u001b[0m\u001b[0;34m:\u001b[0m\u001b[0;34m-\u001b[0m\u001b[0;36m1\u001b[0m\u001b[0;34m]\u001b[0m\u001b[0;34m\u001b[0m\u001b[0;34m\u001b[0m\u001b[0m\n\u001b[1;32m     15\u001b[0m \u001b[0;34m\u001b[0m\u001b[0m\n\u001b[0;32m---> 16\u001b[0;31m     \u001b[0;32massert\u001b[0m \u001b[0minput\u001b[0m\u001b[0;34m.\u001b[0m\u001b[0mshape\u001b[0m\u001b[0;34m[\u001b[0m\u001b[0;36m1\u001b[0m\u001b[0;34m]\u001b[0m \u001b[0;34m==\u001b[0m \u001b[0min_channels\u001b[0m\u001b[0;34m\u001b[0m\u001b[0;34m\u001b[0m\u001b[0m\n\u001b[0m\u001b[1;32m     17\u001b[0m \u001b[0;34m\u001b[0m\u001b[0m\n\u001b[1;32m     18\u001b[0m     \u001b[0mh_out\u001b[0m \u001b[0;34m=\u001b[0m \u001b[0mint\u001b[0m\u001b[0;34m(\u001b[0m\u001b[0;34m(\u001b[0m\u001b[0mh_in\u001b[0m \u001b[0;34m+\u001b[0m \u001b[0;36m2\u001b[0m\u001b[0;34m*\u001b[0m\u001b[0mpadding\u001b[0m \u001b[0;34m-\u001b[0m \u001b[0mdilation\u001b[0m\u001b[0;34m*\u001b[0m\u001b[0;34m(\u001b[0m\u001b[0mkernel_size\u001b[0m\u001b[0;34m-\u001b[0m\u001b[0;36m1\u001b[0m\u001b[0;34m)\u001b[0m\u001b[0;34m-\u001b[0m\u001b[0;36m1\u001b[0m\u001b[0;34m)\u001b[0m\u001b[0;34m/\u001b[0m\u001b[0mstride\u001b[0m\u001b[0;34m+\u001b[0m\u001b[0;36m1\u001b[0m\u001b[0;34m)\u001b[0m\u001b[0;34m\u001b[0m\u001b[0;34m\u001b[0m\u001b[0m\n",
      "\u001b[0;31mAssertionError\u001b[0m: "
     ]
    }
   ],
   "source": [
    "loss = MSELoss()\n",
    "l_val = loss(out, target)\n",
    "print(l_val)\n",
    "\n",
    "net.backward(loss.backward())"
   ]
  },
  {
   "cell_type": "code",
   "execution_count": null,
   "id": "66f29b61",
   "metadata": {},
   "outputs": [],
   "source": []
  },
  {
   "cell_type": "code",
   "execution_count": null,
   "id": "80b36e93",
   "metadata": {},
   "outputs": [],
   "source": []
  },
  {
   "cell_type": "code",
   "execution_count": null,
   "id": "bf5f4bfa",
   "metadata": {},
   "outputs": [],
   "source": []
  },
  {
   "cell_type": "code",
   "execution_count": null,
   "id": "65ff2926",
   "metadata": {},
   "outputs": [],
   "source": []
  },
  {
   "cell_type": "code",
   "execution_count": null,
   "id": "84180c3c",
   "metadata": {},
   "outputs": [],
   "source": []
  },
  {
   "cell_type": "code",
   "execution_count": null,
   "id": "ed50adc3",
   "metadata": {},
   "outputs": [],
   "source": []
  },
  {
   "cell_type": "code",
   "execution_count": null,
   "metadata": {},
   "outputs": [],
   "source": []
  },
  {
   "cell_type": "markdown",
   "id": "e6babe1f",
   "metadata": {},
   "source": [
    "## Test ```self.parameters```"
   ]
  },
  {
   "cell_type": "code",
   "execution_count": null,
   "id": "3622f567",
   "metadata": {},
   "outputs": [],
   "source": []
  },
  {
   "cell_type": "code",
   "execution_count": null,
   "id": "7138a871",
   "metadata": {},
   "outputs": [],
   "source": [
    "stride = 2\n",
    "kernel_size = 2\n",
    "\n",
    "conv1 = Conv2d(3,5, kernel_size, stride=stride, padding=0, dilation=1)"
   ]
  },
  {
   "cell_type": "code",
   "execution_count": null,
   "id": "245fb8c5",
   "metadata": {},
   "outputs": [
    {
     "data": {
      "text/plain": [
       "[[tensor([[[[-2.0634,  0.9640],\n",
       "            [ 0.2477,  3.2047]],\n",
       "  \n",
       "           [[-0.9109,  0.2193],\n",
       "            [-1.1209, -0.6504]],\n",
       "  \n",
       "           [[-0.6069,  0.8905],\n",
       "            [ 0.3814,  0.1239]]],\n",
       "  \n",
       "  \n",
       "          [[[ 1.1259,  1.1637],\n",
       "            [ 1.7956, -2.3122]],\n",
       "  \n",
       "           [[ 0.5978, -2.4755],\n",
       "            [-0.6630, -0.8699]],\n",
       "  \n",
       "           [[-0.6026, -0.5721],\n",
       "            [-0.2921, -0.3357]]],\n",
       "  \n",
       "  \n",
       "          [[[ 0.9216, -1.4277],\n",
       "            [ 2.2568,  0.2003]],\n",
       "  \n",
       "           [[ 2.3050,  2.1170],\n",
       "            [-0.2490, -1.2836]],\n",
       "  \n",
       "           [[ 0.8843, -0.5604],\n",
       "            [-1.0172, -1.8599]]],\n",
       "  \n",
       "  \n",
       "          [[[ 0.5274, -0.2988],\n",
       "            [ 1.0247, -0.8511]],\n",
       "  \n",
       "           [[ 0.3414, -0.1291],\n",
       "            [ 0.2659,  0.7151]],\n",
       "  \n",
       "           [[-1.6160,  0.5138],\n",
       "            [ 1.5900,  1.9041]]],\n",
       "  \n",
       "  \n",
       "          [[[-0.2093,  0.3122],\n",
       "            [-2.0011, -1.5988]],\n",
       "  \n",
       "           [[-0.8707,  1.8550],\n",
       "            [ 0.0707, -0.4577]],\n",
       "  \n",
       "           [[-0.2838, -0.5247],\n",
       "            [ 2.0571,  0.4391]]]]),\n",
       "  None],\n",
       " [],\n",
       " [tensor([[[[ 7.3593e-02, -1.5464e-01],\n",
       "            [-1.1233e+00,  3.7941e-01]],\n",
       "  \n",
       "           [[-2.1207e-01,  6.8688e-01],\n",
       "            [ 7.3456e-01, -1.3437e-01]],\n",
       "  \n",
       "           [[ 1.6507e-01, -6.3769e-01],\n",
       "            [-8.2745e-01,  2.8715e-01]],\n",
       "  \n",
       "           [[ 1.0695e+00,  2.0045e-01],\n",
       "            [-4.5269e-01,  8.1714e-01]],\n",
       "  \n",
       "           [[ 1.6694e+00, -2.9016e-01],\n",
       "            [ 1.8531e-01,  1.4009e+00]]],\n",
       "  \n",
       "  \n",
       "          [[[ 7.9406e-02, -1.0353e-01],\n",
       "            [ 9.8483e-01, -1.4036e+00]],\n",
       "  \n",
       "           [[-2.7172e-01,  1.3602e+00],\n",
       "            [ 7.1354e-01, -1.4724e+00]],\n",
       "  \n",
       "           [[-3.2262e-01, -8.1313e-01],\n",
       "            [ 8.2959e-01,  7.7090e-01]],\n",
       "  \n",
       "           [[ 8.9408e-01,  1.5523e+00],\n",
       "            [-1.8337e+00,  6.2746e-01]],\n",
       "  \n",
       "           [[ 1.3299e+00, -1.4228e-01],\n",
       "            [ 1.8038e+00,  1.9286e+00]]],\n",
       "  \n",
       "  \n",
       "          [[[ 2.8539e-01,  5.3368e-01],\n",
       "            [ 1.4017e+00,  3.6709e-01]],\n",
       "  \n",
       "           [[ 1.1594e+00,  1.3335e+00],\n",
       "            [ 5.5743e-01,  1.2936e+00]],\n",
       "  \n",
       "           [[-2.6985e-01, -7.8005e-01],\n",
       "            [-6.3863e-01, -1.0333e+00]],\n",
       "  \n",
       "           [[-6.4757e-01,  3.3002e-01],\n",
       "            [-1.9885e+00,  5.3318e-01]],\n",
       "  \n",
       "           [[ 9.2379e-02,  2.0015e-01],\n",
       "            [ 1.0261e-01,  5.3500e-01]]],\n",
       "  \n",
       "  \n",
       "          [[[ 1.2038e+00,  9.8675e-02],\n",
       "            [-1.7974e-01,  4.7431e-01]],\n",
       "  \n",
       "           [[-3.6190e-01, -1.6776e+00],\n",
       "            [ 9.4876e-01, -4.9403e-01]],\n",
       "  \n",
       "           [[ 1.0078e+00,  2.7537e-01],\n",
       "            [-3.7959e-01,  2.1603e-01]],\n",
       "  \n",
       "           [[ 1.4213e+00,  9.2283e-01],\n",
       "            [ 2.7564e-01, -2.2648e+00]],\n",
       "  \n",
       "           [[ 3.6798e-01, -8.1559e-01],\n",
       "            [-8.4704e-01,  4.4646e-01]]],\n",
       "  \n",
       "  \n",
       "          [[[ 1.5373e-02, -2.1342e-03],\n",
       "            [ 3.0061e-01,  6.7424e-01]],\n",
       "  \n",
       "           [[ 1.0620e+00, -2.1106e+00],\n",
       "            [ 1.4575e+00,  1.7463e+00]],\n",
       "  \n",
       "           [[ 5.1136e-01,  1.7544e+00],\n",
       "            [-5.5070e-01, -9.0066e-01]],\n",
       "  \n",
       "           [[ 1.2383e+00, -3.8012e-01],\n",
       "            [ 4.7751e-01,  2.9277e-01]],\n",
       "  \n",
       "           [[ 2.9805e-01, -1.0770e+00],\n",
       "            [ 1.8280e+00,  2.1011e+00]]]]),\n",
       "  None],\n",
       " [],\n",
       " [tensor([[[[ 1.7156,  0.1942],\n",
       "            [-0.1597, -0.7556]],\n",
       "  \n",
       "           [[-2.1336, -0.0194],\n",
       "            [ 1.0395,  0.3579]],\n",
       "  \n",
       "           [[-0.3896,  0.6565],\n",
       "            [-1.1422, -0.8819]],\n",
       "  \n",
       "           [[ 1.2641,  0.6454],\n",
       "            [-0.0865,  0.0395]],\n",
       "  \n",
       "           [[-1.3897, -0.3503],\n",
       "            [-0.0886,  0.4016]]],\n",
       "  \n",
       "  \n",
       "          [[[ 1.4086, -0.4063],\n",
       "            [ 2.2945,  1.1823]],\n",
       "  \n",
       "           [[ 0.2287,  1.0612],\n",
       "            [ 0.8140,  0.3396]],\n",
       "  \n",
       "           [[-0.7578,  0.9134],\n",
       "            [-1.8301,  0.4310]],\n",
       "  \n",
       "           [[-0.8678, -1.6702],\n",
       "            [ 0.5505, -0.9496]],\n",
       "  \n",
       "           [[ 1.2717, -0.0169],\n",
       "            [ 1.0111, -0.8037]]],\n",
       "  \n",
       "  \n",
       "          [[[-0.8352,  1.5154],\n",
       "            [-0.2801, -0.0654]],\n",
       "  \n",
       "           [[ 0.3919, -0.1114],\n",
       "            [ 0.7355, -2.1484]],\n",
       "  \n",
       "           [[ 1.1335,  0.4928],\n",
       "            [ 1.9264,  0.0721]],\n",
       "  \n",
       "           [[ 0.1874,  0.1966],\n",
       "            [-1.5606, -1.3845]],\n",
       "  \n",
       "           [[-0.4577, -0.9828],\n",
       "            [-0.2925,  0.6573]]],\n",
       "  \n",
       "  \n",
       "          [[[ 1.6331,  0.4789],\n",
       "            [-0.7176, -0.2991]],\n",
       "  \n",
       "           [[-0.8516, -0.7479],\n",
       "            [-1.8671,  1.6166]],\n",
       "  \n",
       "           [[ 0.8583, -1.1282],\n",
       "            [ 1.0416,  1.0351]],\n",
       "  \n",
       "           [[ 0.6563,  0.4978],\n",
       "            [ 0.2889, -0.5572]],\n",
       "  \n",
       "           [[ 1.7765,  0.6763],\n",
       "            [-0.9589, -0.7829]]],\n",
       "  \n",
       "  \n",
       "          [[[-0.7395, -0.7037],\n",
       "            [ 0.1856, -0.0559]],\n",
       "  \n",
       "           [[ 1.5243,  1.0752],\n",
       "            [ 1.0573, -0.8121]],\n",
       "  \n",
       "           [[-0.2931, -1.5159],\n",
       "            [ 0.1483, -1.0016]],\n",
       "  \n",
       "           [[-0.4535, -1.1321],\n",
       "            [-0.2656,  0.2738]],\n",
       "  \n",
       "           [[-0.3584,  1.2742],\n",
       "            [ 1.8442, -1.4154]]]]),\n",
       "  None],\n",
       " [],\n",
       " [tensor([[[[-0.7474,  1.9292],\n",
       "            [ 1.2643,  0.5562]],\n",
       "  \n",
       "           [[-0.8692,  0.4507],\n",
       "            [-0.8657,  0.4593]],\n",
       "  \n",
       "           [[-0.5947,  0.9302],\n",
       "            [ 0.1744, -1.3130]]],\n",
       "  \n",
       "  \n",
       "          [[[ 1.1182,  1.0574],\n",
       "            [-2.3574,  1.0532]],\n",
       "  \n",
       "           [[ 0.7965,  1.2722],\n",
       "            [ 0.0449, -1.4583]],\n",
       "  \n",
       "           [[ 1.8292, -1.0429],\n",
       "            [ 0.1837, -0.2136]]],\n",
       "  \n",
       "  \n",
       "          [[[-0.7370, -0.3471],\n",
       "            [-0.2098, -0.7817]],\n",
       "  \n",
       "           [[ 0.6392,  1.1600],\n",
       "            [-0.6313, -1.2923]],\n",
       "  \n",
       "           [[ 1.3952,  0.1804],\n",
       "            [ 0.6074,  0.6241]]],\n",
       "  \n",
       "  \n",
       "          [[[ 0.0695, -0.2493],\n",
       "            [-0.3530, -0.0974]],\n",
       "  \n",
       "           [[-1.8575, -0.0706],\n",
       "            [-0.0136, -0.9235]],\n",
       "  \n",
       "           [[-0.0303,  0.7131],\n",
       "            [-0.6645, -0.0219]]],\n",
       "  \n",
       "  \n",
       "          [[[ 1.7058, -0.0782],\n",
       "            [ 0.6918, -0.6641]],\n",
       "  \n",
       "           [[ 0.4810,  1.7046],\n",
       "            [ 0.5779,  1.8390]],\n",
       "  \n",
       "           [[-0.0791, -0.4075],\n",
       "            [ 1.9908,  0.3071]]]]),\n",
       "  None],\n",
       " []]"
      ]
     },
     "execution_count": 14,
     "metadata": {},
     "output_type": "execute_result"
    }
   ],
   "source": [
    "net.param()\n"
   ]
  },
  {
   "cell_type": "code",
   "execution_count": null,
   "id": "658448b8",
   "metadata": {},
   "outputs": [],
   "source": []
  },
  {
   "cell_type": "code",
   "execution_count": null,
   "id": "2f26c2f3",
   "metadata": {},
   "outputs": [],
   "source": []
  },
  {
   "cell_type": "code",
   "execution_count": null,
   "id": "401874b0",
   "metadata": {},
   "outputs": [],
   "source": []
  },
  {
   "cell_type": "code",
   "execution_count": null,
   "id": "76fb4173",
   "metadata": {},
   "outputs": [],
   "source": []
  },
  {
   "cell_type": "code",
   "execution_count": null,
   "id": "10f33326",
   "metadata": {},
   "outputs": [],
   "source": []
  }
 ],
 "metadata": {
  "interpreter": {
   "hash": "3067ead486e059ec00ffe7555bdb889e6e264a24dc711bf108106cc7baee8d5d"
  },
  "kernelspec": {
   "display_name": "Python 3.9.7 ('base')",
   "language": "python",
   "name": "python3"
  },
  "language_info": {
   "codemirror_mode": {
    "name": "ipython",
    "version": 3
   },
   "file_extension": ".py",
   "mimetype": "text/x-python",
   "name": "python",
   "nbconvert_exporter": "python",
   "pygments_lexer": "ipython3",
   "version": "3.9.7"
  }
 },
 "nbformat": 4,
 "nbformat_minor": 5
}
