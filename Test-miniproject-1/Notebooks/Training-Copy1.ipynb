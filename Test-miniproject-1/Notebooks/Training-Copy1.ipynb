{
 "cells": [
  {
   "cell_type": "code",
   "execution_count": 15,
   "id": "5fef40fd",
   "metadata": {},
   "outputs": [],
   "source": [
    "import torch\n",
    "import numpy as np\n",
    "import matplotlib.pyplot as plt\n",
    "from itertools import islice\n",
    "\n",
    "from torch import nn\n",
    "from torch.nn import functional as F\n",
    "\n",
    "import importlib\n",
    "import sys \n",
    "import getpass\n",
    "import matplotlib as mpl\n",
    "\n",
    "sys.path.append('/home/luca_ltpn/DL-Fleuret/Proj_308427_348143_XXXXXX')\n",
    "sys.path.append('/home/luca_ltpn/DL-Fleuret')\n",
    "from Miniproject_1.model import *"
   ]
  },
  {
   "cell_type": "code",
   "execution_count": 16,
   "id": "57aa83f9",
   "metadata": {},
   "outputs": [],
   "source": [
    "font_size   = 20\n",
    "letter_size = 22\n",
    "label_size  = 25\n",
    "title_font  = 28\n",
    "legend_size = 23\n",
    "\n",
    "mpl.rc('font', family='serif', size=font_size)\n",
    "mpl.rc('text', usetex=True)\n",
    "\n",
    "mpl.rcParams['lines.linewidth']     = 2\n",
    "mpl.rcParams['axes.labelsize']      = label_size\n",
    "mpl.rcParams['xtick.minor.visible'] = True\n",
    "mpl.rcParams['xtick.major.size']    = 4\n",
    "mpl.rcParams['xtick.minor.size']    = 2\n",
    "mpl.rcParams['xtick.major.width']   = 1.1\n",
    "mpl.rcParams['xtick.minor.width']   = 0.55\n",
    "mpl.rcParams['xtick.direction']     = 'out'\n",
    "mpl.rcParams['ytick.minor.visible'] = True\n",
    "mpl.rcParams['ytick.major.size']    = 6\n",
    "mpl.rcParams['ytick.minor.size']    = 3\n",
    "mpl.rcParams['ytick.major.width']   = 1.1\n",
    "mpl.rcParams['ytick.minor.width']   = 0.55\n",
    "mpl.rcParams['ytick.direction']     = 'out'\n",
    "mpl.rcParams['legend.fontsize']     = legend_size\n",
    "mpl.rcParams['axes.formatter.limits'] = -5, 5\n",
    "\n",
    "\n",
    "class MyLocator(mpl.ticker.AutoMinorLocator):\n",
    "    def __init__(self, n=2):\n",
    "        super().__init__(n=n)\n",
    "mpl.ticker.AutoMinorLocator = MyLocator\n",
    "\n",
    "marker_sz  = 8\n",
    "location   ='upper left'\n",
    "properties ={'size':12}\n",
    "width_plot = 8\n",
    "reduced_labels = 0.7*label_size\n",
    "\n",
    "def get_axis_limits(ax, scalex=.1, scaley=.85):\n",
    "    return (ax.get_xlim()[0] + (ax.get_xlim()[1]-ax.get_xlim()[0])*scalex, ax.get_ylim()[0]+(ax.get_ylim()[1]-ax.get_ylim()[0])*scaley)"
   ]
  },
  {
   "cell_type": "code",
   "execution_count": 2,
   "id": "f19fe20d",
   "metadata": {},
   "outputs": [],
   "source": [
    "valid_in, valid_tg = torch.load('/home/luca_ltpn/DL-Fleuret/val_data.pkl') #validation set (noise-clean)\n",
    "train_in, train_tg = torch.load('/home/luca_ltpn/DL-Fleuret/train_data.pkl') #test set (noise-noise)\n",
    "\n",
    "train_in_clean = valid_in[:500]#.float()/ 255.\n",
    "train_tg_clean = valid_tg[:500]#.float()/ 255. \n",
    "\n",
    "valid_in = valid_in[500:]#.float()/ 255.\n",
    "valid_tg = valid_tg[500:].float()/ 255.\n",
    "\n",
    "train_in = train_in[:500]#.float()/ 255.\n",
    "train_tg = train_tg[:500]#.float()/ 255."
   ]
  },
  {
   "cell_type": "code",
   "execution_count": null,
   "id": "503d5e47",
   "metadata": {},
   "outputs": [],
   "source": []
  },
  {
   "cell_type": "code",
   "execution_count": null,
   "id": "1da3568f",
   "metadata": {},
   "outputs": [],
   "source": []
  },
  {
   "cell_type": "code",
   "execution_count": 3,
   "id": "b46933a3",
   "metadata": {
    "scrolled": false
   },
   "outputs": [],
   "source": [
    "mod = Model()\n",
    "\n",
    "mod.num_epochs = 300\n",
    "mod.batch_size = 16\n",
    "mod.eta        = 1e3\n",
    "mod.momentum   = 0.\n",
    "mod.weight_decay = 0.\n",
    "\n",
    "mod.train_and_validate(train_in, train_tg, valid_in, valid_tg, filename='noise2noise_N=500.txt')"
   ]
  },
  {
   "cell_type": "code",
   "execution_count": 4,
   "id": "8cb16406",
   "metadata": {},
   "outputs": [],
   "source": [
    "mod = Model()\n",
    "\n",
    "mod.num_epochs = 300\n",
    "mod.batch_size = 16\n",
    "mod.eta        = 1e3\n",
    "mod.momentum   = 0.\n",
    "mod.weight_decay = 0.\n",
    "\n",
    "mod.train_and_validate(train_in_clean, train_tg_clean,\\\n",
    "                       valid_in, valid_tg, filename='noise2clean_N=500.txt')"
   ]
  },
  {
   "cell_type": "code",
   "execution_count": null,
   "id": "af016f63",
   "metadata": {},
   "outputs": [],
   "source": []
  },
  {
   "cell_type": "code",
   "execution_count": 9,
   "id": "c11c47be",
   "metadata": {},
   "outputs": [],
   "source": [
    "img  = np.loadtxt('noise2noise_N=500.txt')[:,0]\n",
    "psnr = np.loadtxt('noise2noise_N=500.txt')[:,-1]\n",
    "\n",
    "img_clean  = np.loadtxt('noise2clean_N=500.txt')[:,0]\n",
    "psnr_clean = np.loadtxt('noise2clean_N=500.txt')[:,-1]"
   ]
  },
  {
   "cell_type": "code",
   "execution_count": 20,
   "id": "1de73cb2",
   "metadata": {},
   "outputs": [
    {
     "data": {
      "image/png": "[encoded data removed]",
      "text/plain": [
       "<Figure size 576x360 with 1 Axes>"
      ]
     },
     "metadata": {
      "needs_background": "light"
     },
     "output_type": "display_data"
    }
   ],
   "source": [
    "fig, ax = plt.subplots(1,1, sharey=True, sharex=True, figsize=(width_plot,5))\n",
    "\n",
    "ax.plot(img/500, psnr, label=\"Noisy training samples\")\n",
    "ax.plot(img_clean/500, psnr_clean, label=\"Clean training samples\")\n",
    "\n",
    "#ax.set_ylim(18,)\n",
    "#ax.set_xscale(\"log\")\n",
    "ax.set_xlabel(\"epoch\")\n",
    "ax.set_ylabel(\"PSNR [db]\")\n",
    "ax.legend();\n",
    "\n",
    "fig.tight_layout()\n",
    "#fig.savefig(\"noise2clean.pdf\")"
   ]
  },
  {
   "cell_type": "code",
   "execution_count": null,
   "id": "4b50f236",
   "metadata": {},
   "outputs": [],
   "source": []
  }
 ],
 "metadata": {
  "kernelspec": {
   "display_name": "Python 3 (ipykernel)",
   "language": "python",
   "name": "python3"
  },
  "language_info": {
   "codemirror_mode": {
    "name": "ipython",
    "version": 3
   },
   "file_extension": ".py",
   "mimetype": "text/x-python",
   "name": "python",
   "nbconvert_exporter": "python",
   "pygments_lexer": "ipython3",
   "version": "3.9.12"
  }
 },
 "nbformat": 4,
 "nbformat_minor": 5
}
