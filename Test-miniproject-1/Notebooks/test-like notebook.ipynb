{
 "cells": [
  {
   "cell_type": "code",
   "execution_count": 1,
   "id": "e3a08197",
   "metadata": {},
   "outputs": [],
   "source": [
    "import torch\n",
    "import numpy as np\n",
    "import matplotlib.pyplot as plt\n",
    "import sys, importlib\n",
    "from torch import nn\n",
    "from torch.nn import functional as F\n",
    "\n",
    "sys.path.append('/home/luca_ltpn/DL-Fleuret/Proj_308427_348143_XXXXXX')\n",
    "sys.path.append('/home/luca_ltpn/DL-Fleuret')"
   ]
  },
  {
   "cell_type": "code",
   "execution_count": 2,
   "id": "40b14cec",
   "metadata": {},
   "outputs": [],
   "source": [
    "def compute_psnr(x, y, max_range=1.0):\n",
    "    assert x.shape == y.shape and x.ndim == 4\n",
    "    return 20 * torch.log10(torch.tensor(max_range)) - 10 * torch.log10(((x-y) ** 2).mean((1,2,3))).mean()"
   ]
  },
  {
   "cell_type": "code",
   "execution_count": 3,
   "id": "754e8b50",
   "metadata": {},
   "outputs": [
    {
     "name": "stdout",
     "output_type": "stream",
     "text": [
      "tensor(20.7239)\n"
     ]
    },
    {
     "name": "stderr",
     "output_type": "stream",
     "text": [
      "100%|█████████████████████████████████████████████████████████████████████████████████████████████████████████████████████████████████████████████████████████████| 10/10 [00:00<00:00, 10.26it/s]\n"
     ]
    }
   ],
   "source": [
    "# Import tqdm if installed\n",
    "try:\n",
    "    from tqdm import tqdm\n",
    "except ImportError:\n",
    "    tqdm = lambda x: x\n",
    "\n",
    "Model = importlib.import_module(f\"Miniproject_1.model\").Model\n",
    "model = Model()\n",
    "model.load_pretrained_model(\"/home/luca_ltpn/DL-Fleuret/Proj_308427_348143_XXXXXX/Miniproject_1/bestmodel.pth\")\n",
    "\n",
    "train_path = \"/home/luca_ltpn/DL-Fleuret/\" + \"train_data.pkl\"\n",
    "val_path = \"/home/luca_ltpn/DL-Fleuret/\" + \"val_data.pkl\"\n",
    "train_input0, train_input1 = torch.load(train_path)\n",
    "val_input, val_target = torch.load(val_path)\n",
    "\n",
    "train_input0 = (train_input0[:100].float() / 255.0)\n",
    "train_input1 = (train_input1[:100].float() / 255.0)\n",
    "val_input = val_input.float() / 255.0\n",
    "val_target = val_target.float() / 255.0\n",
    "\n",
    "output_psnr_before=compute_psnr(val_input, val_target)\n",
    "print(output_psnr_before)\n",
    "\n",
    "model.train(train_input0, train_input1)\n",
    "\n",
    "mini_batch_size = 100\n",
    "model_outputs = []\n",
    "for b in tqdm(range(0, val_input.size(0), mini_batch_size)):\n",
    "    output = model.predict(val_input.narrow(0, b, mini_batch_size))\n",
    "    model_outputs.append(output.cpu())\n",
    "model_outputs = torch.cat(model_outputs, dim=0)\n"
   ]
  },
  {
   "cell_type": "code",
   "execution_count": 4,
   "id": "7c22ff5d",
   "metadata": {},
   "outputs": [
    {
     "data": {
      "text/plain": [
       "tensor(6.3458, grad_fn=<SubBackward0>)"
      ]
     },
     "execution_count": 4,
     "metadata": {},
     "output_type": "execute_result"
    }
   ],
   "source": [
    "output_psnr_after = compute_psnr(model_outputs, val_target)\n",
    "output_psnr_after"
   ]
  },
  {
   "cell_type": "code",
   "execution_count": null,
   "id": "0ef7c6cd",
   "metadata": {},
   "outputs": [],
   "source": []
  }
 ],
 "metadata": {
  "kernelspec": {
   "display_name": "Python 3 (ipykernel)",
   "language": "python",
   "name": "python3"
  },
  "language_info": {
   "codemirror_mode": {
    "name": "ipython",
    "version": 3
   },
   "file_extension": ".py",
   "mimetype": "text/x-python",
   "name": "python",
   "nbconvert_exporter": "python",
   "pygments_lexer": "ipython3",
   "version": "3.9.12"
  }
 },
 "nbformat": 4,
 "nbformat_minor": 5
}
