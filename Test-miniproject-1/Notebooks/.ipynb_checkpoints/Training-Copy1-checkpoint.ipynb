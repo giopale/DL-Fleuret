{
 "cells": [
  {
   "cell_type": "code",
   "execution_count": 1,
   "id": "5fef40fd",
   "metadata": {},
   "outputs": [],
   "source": [
    "import torch\n",
    "import numpy as np\n",
    "import matplotlib.pyplot as plt\n",
    "from itertools import islice\n",
    "\n",
    "from torch import nn\n",
    "from torch.nn import functional as F\n",
    "\n",
    "import importlib\n",
    "import sys \n",
    "import getpass\n",
    "\n",
    "sys.path.append('/home/luca_ltpn/DL-Fleuret/Proj_308427_348143_XXXXXX')\n",
    "sys.path.append('/home/luca_ltpn/DL-Fleuret')\n",
    "from Miniproject_1.model import *"
   ]
  },
  {
   "cell_type": "code",
   "execution_count": 2,
   "id": "f19fe20d",
   "metadata": {},
   "outputs": [],
   "source": [
    "valid_in, valid_tg = torch.load('/home/luca_ltpn/DL-Fleuret/val_data.pkl') #validation set (noise-clean)\n",
    "train_in, train_tg = torch.load('/home/luca_ltpn/DL-Fleuret/train_data.pkl') #test set (noise-noise)\n",
    "\n",
    "valid_in = valid_in[:]#.float()/ 255.\n",
    "valid_tg = valid_tg[:].float()/ 255.\n",
    "\n",
    "train_in = train_in[:5000]#.float()/ 255.\n",
    "train_tg = train_tg[:5000]#.float()/ 255.\n",
    "\n",
    "train_in_clean = valid_in[:500]#.float()/ 255.\n",
    "train_tg_clean = valid_tg[:500]#.float()/ 255."
   ]
  },
  {
   "cell_type": "code",
   "execution_count": 4,
   "id": "503d5e47",
   "metadata": {},
   "outputs": [],
   "source": [
    "mod = Model()\n",
    "\n",
    "mod.num_epochs = 30\n",
    "mod.batch_size = 16\n",
    "mod.eta        = 1e3\n",
    "mod.momentum   = 0.\n",
    "mod.weight_decay = 0."
   ]
  },
  {
   "cell_type": "code",
   "execution_count": null,
   "id": "02fe0ede",
   "metadata": {},
   "outputs": [
    {
     "name": "stdout",
     "output_type": "stream",
     "text": [
      "0\t 0.068\t 12.218\n",
      "2000\t 0.011\t 20.012\n",
      "4000\t 0.008\t 21.416\n",
      "6000\t 0.007\t 21.989\n",
      "8000\t 0.007\t 22.198\n",
      "10000\t 0.006\t 22.557\n",
      "12000\t 0.006\t 22.977\n",
      "14000\t 0.005\t 23.316\n",
      "16000\t 0.005\t 23.458\n",
      "18000\t 0.005\t 23.508\n",
      "20000\t 0.005\t 23.593\n",
      "22000\t 0.005\t 23.636\n"
     ]
    }
   ],
   "source": [
    "mod.train_and_validate(train_in, train_tg, valid_in, valid_tg,)"
   ]
  },
  {
   "cell_type": "code",
   "execution_count": null,
   "id": "cb4a809f",
   "metadata": {},
   "outputs": [],
   "source": []
  },
  {
   "cell_type": "code",
   "execution_count": null,
   "id": "1da3568f",
   "metadata": {},
   "outputs": [],
   "source": []
  },
  {
   "cell_type": "code",
   "execution_count": 4,
   "id": "b46933a3",
   "metadata": {
    "scrolled": false
   },
   "outputs": [],
   "source": [
    "mod.train_and_validate(train_in, train_tg, valid_in, valid_tg, filename='noise2noise_N=500.txt')"
   ]
  },
  {
   "cell_type": "code",
   "execution_count": 6,
   "id": "8cb16406",
   "metadata": {},
   "outputs": [],
   "source": [
    "mod.train_and_validate(train_in_clean, train_tg_clean,\\\n",
    "                       valid_in, valid_tg, filename='noise2clean_N=500.txt')"
   ]
  },
  {
   "cell_type": "code",
   "execution_count": null,
   "id": "af016f63",
   "metadata": {},
   "outputs": [],
   "source": []
  },
  {
   "cell_type": "code",
   "execution_count": 7,
   "id": "c11c47be",
   "metadata": {},
   "outputs": [],
   "source": [
    "img  = np.loadtxt('noise2noise_N=500.txt')[:,0]\n",
    "psnr = np.loadtxt('noise2noise_N=500.txt')[:,-1]\n",
    "\n",
    "img_clean  = np.loadtxt('noise2noise_N=500.txt')[:,0]\n",
    "psnr_clean = np.loadtxt('noise2noise_N=500.txt')[:,-1]"
   ]
  },
  {
   "cell_type": "code",
   "execution_count": 9,
   "id": "1de73cb2",
   "metadata": {},
   "outputs": [
    {
     "data": {
      "image/png": "[encoded data removed]",
      "text/plain": [
       "<Figure size 432x288 with 1 Axes>"
      ]
     },
     "metadata": {
      "needs_background": "light"
     },
     "output_type": "display_data"
    }
   ],
   "source": [
    "plt.plot(img, psnr)\n",
    "plt.plot(img_clean, psnr_clean)\n",
    "\n",
    "\n",
    "#plt.xscale(\"log\")\n",
    "plt.xlabel(\"# of visited images\")\n",
    "plt.ylabel(\"PSNR [db]\");"
   ]
  },
  {
   "cell_type": "code",
   "execution_count": null,
   "id": "4b50f236",
   "metadata": {},
   "outputs": [],
   "source": []
  }
 ],
 "metadata": {
  "kernelspec": {
   "display_name": "Python 3 (ipykernel)",
   "language": "python",
   "name": "python3"
  },
  "language_info": {
   "codemirror_mode": {
    "name": "ipython",
    "version": 3
   },
   "file_extension": ".py",
   "mimetype": "text/x-python",
   "name": "python",
   "nbconvert_exporter": "python",
   "pygments_lexer": "ipython3",
   "version": "3.9.12"
  }
 },
 "nbformat": 4,
 "nbformat_minor": 5
}
