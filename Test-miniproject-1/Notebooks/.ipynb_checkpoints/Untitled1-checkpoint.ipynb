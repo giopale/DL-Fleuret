{
 "cells": [
  {
   "cell_type": "code",
   "execution_count": 1,
   "id": "0762cdc8",
   "metadata": {},
   "outputs": [],
   "source": [
    "import torch\n",
    "import numpy as np\n",
    "import matplotlib.pyplot as plt\n",
    "from itertools import islice\n",
    "\n",
    "from torch import nn\n",
    "from torch.nn import functional as F\n",
    "\n",
    "import importlib\n",
    "import sys \n",
    "import getpass\n",
    "\n",
    "sys.path.append('/home/luca_ltpn/DL-Fleuret/Proj_308427_348143_000000')\n",
    "sys.path.append('/home/luca_ltpn/DL-Fleuret/Proj_308427_348143_000000/Miniproject_1')\n",
    "sys.path.append('/home/luca_ltpn/DL-Fleuret')\n",
    "from Miniproject_1.model import *"
   ]
  },
  {
   "cell_type": "code",
   "execution_count": 2,
   "id": "83589f08",
   "metadata": {},
   "outputs": [],
   "source": [
    "mod = Model()"
   ]
  },
  {
   "cell_type": "code",
   "execution_count": 3,
   "id": "5c130b39",
   "metadata": {},
   "outputs": [],
   "source": [
    "mod.load_pretrained_model('/home/luca_ltpn/DL-Fleuret/Proj_308427_348143_000000/Miniproject_1/bestmodel.pth')"
   ]
  },
  {
   "cell_type": "code",
   "execution_count": 4,
   "id": "1c843a03",
   "metadata": {},
   "outputs": [],
   "source": [
    "valid_in, valid_tg = torch.load('/home/luca_ltpn/DL-Fleuret/val_data.pkl') #validation set (noise-clean)\n",
    "valid_tg = valid_tg.float()/255."
   ]
  },
  {
   "cell_type": "code",
   "execution_count": 5,
   "id": "c3e8dc94",
   "metadata": {},
   "outputs": [
    {
     "data": {
      "text/plain": [
       "tensor(24.7030, grad_fn=<SubBackward0>)"
      ]
     },
     "execution_count": 5,
     "metadata": {},
     "output_type": "execute_result"
    }
   ],
   "source": [
    "compute_psnr(mod.predict(valid_in)/255., valid_tg)"
   ]
  },
  {
   "cell_type": "code",
   "execution_count": null,
   "id": "2e059e49",
   "metadata": {},
   "outputs": [],
   "source": []
  }
 ],
 "metadata": {
  "kernelspec": {
   "display_name": "Python 3 (ipykernel)",
   "language": "python",
   "name": "python3"
  },
  "language_info": {
   "codemirror_mode": {
    "name": "ipython",
    "version": 3
   },
   "file_extension": ".py",
   "mimetype": "text/x-python",
   "name": "python",
   "nbconvert_exporter": "python",
   "pygments_lexer": "ipython3",
   "version": "3.9.12"
  }
 },
 "nbformat": 4,
 "nbformat_minor": 5
}
