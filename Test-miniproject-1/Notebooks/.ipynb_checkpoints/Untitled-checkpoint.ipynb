{
 "cells": [
  {
   "cell_type": "code",
   "execution_count": 1,
   "id": "5fef40fd",
   "metadata": {},
   "outputs": [],
   "source": [
    "import torch\n",
    "import numpy as np\n",
    "import matplotlib.pyplot as plt\n",
    "from itertools import islice\n",
    "\n",
    "from torch import nn\n",
    "from torch.nn import functional as F\n",
    "\n",
    "import importlib\n",
    "import sys \n",
    "import getpass\n",
    "\n",
    "sys.path.append('/home/luca_ltpn/DL-Fleuret/Proj_308427_348143_XXXXXX')\n",
    "sys.path.append('/home/luca_ltpn/DL-Fleuret')\n",
    "from Miniproject_1.model import *"
   ]
  },
  {
   "cell_type": "code",
   "execution_count": null,
   "id": "500cde1f",
   "metadata": {},
   "outputs": [],
   "source": []
  },
  {
   "cell_type": "code",
   "execution_count": 18,
   "id": "f19fe20d",
   "metadata": {},
   "outputs": [],
   "source": [
    "valid_in, valid_tg = torch.load('/home/luca_ltpn/DL-Fleuret/val_data.pkl') #validation set (noise-clean)\n",
    "train_in, train_tg = torch.load('/home/luca_ltpn/DL-Fleuret/train_data.pkl') #test set (noise-noise)\n",
    "\n",
    "cut = 15000\n",
    "valid_in = valid_in.float()/ 255.\n",
    "valid_tg = valid_tg.float()/ 255.\n",
    "train_in = train_in[:cut].float()/ 255.\n",
    "train_tg = train_tg[:cut].float()/ 255."
   ]
  },
  {
   "cell_type": "code",
   "execution_count": 19,
   "id": "503d5e47",
   "metadata": {},
   "outputs": [],
   "source": [
    "mod = Model()\n",
    "\n",
    "mod.num_epochs = 15\n",
    "mod.batch_size = 16\n",
    "mod.eta        = 0.1\n",
    "mod.momentum   = 0.9\n",
    "mod.weight_decay = 0."
   ]
  },
  {
   "cell_type": "code",
   "execution_count": 20,
   "id": "b46933a3",
   "metadata": {
    "scrolled": false
   },
   "outputs": [
    {
     "name": "stdout",
     "output_type": "stream",
     "text": [
      "0\t 1.264\t 0.068\t 12.200\n",
      "2000\t 94.906\t 0.019\t 17.774\n",
      "4000\t 85.619\t 0.010\t 20.346\n",
      "6000\t 84.892\t 0.007\t 21.990\n",
      "8000\t 84.755\t 0.006\t 22.413\n",
      "10000\t 84.734\t 0.006\t 23.076\n",
      "12000\t 84.221\t 0.006\t 22.627\n",
      "14000\t 84.231\t 0.006\t 22.547\n",
      "16000\t 42.106\t 0.006\t 22.811\n",
      "18000\t 84.157\t 0.006\t 22.937\n",
      "20000\t 84.057\t 0.005\t 23.363\n",
      "22000\t 84.406\t 0.005\t 23.790\n",
      "24000\t 83.876\t 0.005\t 23.760\n",
      "26000\t 84.114\t 0.005\t 23.781\n",
      "28000\t 84.121\t 0.005\t 23.880\n",
      "30000\t 83.629\t 0.005\t 23.333\n",
      "32000\t 83.897\t 0.006\t 22.497\n",
      "34000\t 83.710\t 0.005\t 23.718\n",
      "36000\t 83.837\t 0.005\t 23.789\n",
      "38000\t 84.152\t 0.005\t 23.885\n",
      "40000\t 84.302\t 0.005\t 23.860\n",
      "42000\t 83.854\t 0.005\t 23.957\n",
      "44000\t 83.912\t 0.005\t 23.892\n",
      "46000\t 41.356\t 0.005\t 23.944\n",
      "48000\t 83.857\t 0.005\t 23.776\n",
      "50000\t 83.867\t 0.005\t 23.631\n",
      "52000\t 84.178\t 0.005\t 23.834\n",
      "54000\t 83.737\t 0.005\t 24.042\n",
      "56000\t 83.948\t 0.005\t 23.545\n",
      "58000\t 83.959\t 0.005\t 24.105\n",
      "60000\t 83.523\t 0.005\t 24.073\n",
      "62000\t 83.104\t 0.006\t 22.245\n",
      "64000\t 83.592\t 0.005\t 23.928\n",
      "66000\t 83.655\t 0.004\t 24.210\n",
      "68000\t 84.013\t 0.005\t 24.073\n",
      "70000\t 84.241\t 0.005\t 23.744\n",
      "72000\t 83.709\t 0.005\t 23.995\n",
      "74000\t 83.847\t 0.005\t 24.033\n",
      "76000\t 40.645\t 0.005\t 23.873\n",
      "78000\t 83.750\t 0.005\t 23.964\n",
      "80000\t 83.825\t 0.005\t 24.045\n",
      "82000\t 84.015\t 0.004\t 24.135\n",
      "84000\t 83.649\t 0.005\t 23.854\n",
      "86000\t 83.903\t 0.005\t 24.097\n",
      "88000\t 83.878\t 0.004\t 24.264\n",
      "90000\t 83.428\t 0.004\t 24.232\n",
      "92000\t 82.292\t 0.005\t 24.031\n",
      "94000\t 83.580\t 0.004\t 24.294\n",
      "96000\t 83.582\t 0.004\t 24.262\n",
      "98000\t 83.942\t 0.004\t 24.261\n",
      "100000\t 84.182\t 0.005\t 24.051\n",
      "102000\t 83.617\t 0.004\t 24.248\n",
      "104000\t 83.792\t 0.004\t 24.205\n",
      "106000\t 39.919\t 0.004\t 24.175\n",
      "108000\t 83.713\t 0.004\t 24.222\n",
      "110000\t 83.745\t 0.004\t 24.335\n",
      "112000\t 83.948\t 0.004\t 24.377\n",
      "114000\t 83.581\t 0.005\t 23.627\n",
      "116000\t 83.902\t 0.004\t 24.271\n",
      "118000\t 83.818\t 0.004\t 24.374\n",
      "120000\t 83.333\t 0.004\t 24.265\n",
      "122000\t 81.620\t 0.004\t 24.381\n",
      "124000\t 83.452\t 0.004\t 24.327\n",
      "126000\t 83.555\t 0.004\t 24.311\n",
      "128000\t 83.922\t 0.004\t 24.293\n",
      "130000\t 84.058\t 0.004\t 24.092\n",
      "132000\t 83.579\t 0.004\t 24.329\n",
      "134000\t 83.713\t 0.005\t 23.959\n",
      "136000\t 39.262\t 0.004\t 24.356\n",
      "138000\t 83.610\t 0.004\t 24.277\n",
      "140000\t 83.704\t 0.004\t 24.413\n",
      "142000\t 83.878\t 0.004\t 24.348\n",
      "144000\t 83.556\t 0.005\t 23.992\n",
      "146000\t 83.825\t 0.004\t 24.344\n",
      "148000\t 83.809\t 0.004\t 24.410\n",
      "150000\t 83.264\t 0.004\t 24.194\n",
      "152000\t 80.875\t 0.004\t 24.420\n",
      "154000\t 83.402\t 0.004\t 24.439\n",
      "156000\t 83.489\t 0.004\t 24.403\n",
      "158000\t 83.837\t 0.004\t 24.272\n",
      "160000\t 83.990\t 0.004\t 24.173\n",
      "162000\t 83.496\t 0.004\t 24.263\n",
      "164000\t 83.654\t 0.005\t 23.565\n",
      "166000\t 38.565\t 0.004\t 24.366\n",
      "168000\t 83.510\t 0.004\t 24.165\n",
      "170000\t 83.623\t 0.004\t 24.431\n",
      "172000\t 83.820\t 0.004\t 24.292\n",
      "174000\t 83.477\t 0.004\t 24.356\n",
      "176000\t 83.752\t 0.004\t 24.430\n",
      "178000\t 83.765\t 0.004\t 24.385\n",
      "180000\t 83.192\t 0.004\t 24.212\n",
      "182000\t 80.146\t 0.004\t 24.497\n",
      "184000\t 83.334\t 0.004\t 24.525\n",
      "186000\t 83.459\t 0.004\t 24.427\n",
      "188000\t 83.747\t 0.004\t 24.294\n",
      "190000\t 83.913\t 0.005\t 23.982\n",
      "192000\t 83.441\t 0.004\t 24.379\n",
      "194000\t 83.630\t 0.004\t 24.343\n",
      "196000\t 37.886\t 0.004\t 24.507\n",
      "198000\t 83.410\t 0.005\t 24.014\n",
      "200000\t 83.622\t 0.004\t 24.499\n",
      "202000\t 83.774\t 0.004\t 24.433\n",
      "204000\t 83.403\t 0.004\t 24.247\n",
      "206000\t 83.723\t 0.004\t 24.465\n",
      "208000\t 83.714\t 0.004\t 24.573\n",
      "210000\t 83.164\t 0.004\t 24.572\n",
      "212000\t 79.421\t 0.004\t 24.579\n",
      "214000\t 83.298\t 0.004\t 24.607\n",
      "216000\t 83.413\t 0.004\t 24.591\n",
      "218000\t 83.633\t 0.004\t 24.618\n",
      "220000\t 83.887\t 0.004\t 24.597\n",
      "222000\t 83.373\t 0.004\t 24.562\n",
      "224000\t 83.614\t 0.004\t 24.577\n"
     ]
    }
   ],
   "source": [
    "mod.train(train_in, train_tg, val_input=valid_in, val_target=valid_tg)"
   ]
  },
  {
   "cell_type": "code",
   "execution_count": null,
   "id": "853436fc",
   "metadata": {},
   "outputs": [],
   "source": []
  },
  {
   "cell_type": "code",
   "execution_count": 21,
   "id": "d0b82ecb",
   "metadata": {},
   "outputs": [
    {
     "data": {
      "text/plain": [
       "tensor(24.5491)"
      ]
     },
     "execution_count": 21,
     "metadata": {},
     "output_type": "execute_result"
    }
   ],
   "source": [
    "mod.validate(valid_in, valid_tg)[1]"
   ]
  },
  {
   "cell_type": "code",
   "execution_count": 22,
   "id": "09601c4b",
   "metadata": {},
   "outputs": [
    {
     "data": {
      "image/png": "[encoded data removed]",
      "text/plain": [
       "<Figure size 1080x864 with 3 Axes>"
      ]
     },
     "metadata": {
      "needs_background": "light"
     },
     "output_type": "display_data"
    }
   ],
   "source": [
    "fig,ax = plt.subplots(1,3, figsize=(15,12))\n",
    "select = 161\n",
    "\n",
    "img = valid_in[[select]]\n",
    "img_raw  = (img[0].permute(1,2,0)*255.).int()\n",
    "img_won  = (mod.predict(img)[0].permute(1,2,0)*255.).int()\n",
    "img_true = (valid_tg[select].permute(1,2,0)*255.).int()\n",
    "\n",
    "ax[0].imshow(img_raw, origin='upper')\n",
    "ax[1].imshow(img_won, origin='upper')\n",
    "ax[2].imshow(img_true, origin='upper')\n",
    "\n",
    "ax[0].set_title(\"Validation input (noisy)\")\n",
    "ax[1].set_title(\"Denoised input)\")\n",
    "ax[2].set_title(\"Validation target (clean)\");"
   ]
  },
  {
   "cell_type": "code",
   "execution_count": null,
   "id": "af016f63",
   "metadata": {},
   "outputs": [],
   "source": []
  }
 ],
 "metadata": {
  "kernelspec": {
   "display_name": "Python 3 (ipykernel)",
   "language": "python",
   "name": "python3"
  },
  "language_info": {
   "codemirror_mode": {
    "name": "ipython",
    "version": 3
   },
   "file_extension": ".py",
   "mimetype": "text/x-python",
   "name": "python",
   "nbconvert_exporter": "python",
   "pygments_lexer": "ipython3",
   "version": "3.9.12"
  }
 },
 "nbformat": 4,
 "nbformat_minor": 5
}
