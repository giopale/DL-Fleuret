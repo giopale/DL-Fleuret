{
 "cells": [
  {
   "cell_type": "code",
   "execution_count": 13,
   "id": "616bf826",
   "metadata": {},
   "outputs": [],
   "source": [
    "import torch\n",
    "import numpy as np\n",
    "import matplotlib.pyplot as plt\n",
    "from itertools import islice\n",
    "\n",
    "from torch import nn\n",
    "from torch.nn import functional as F\n",
    "\n",
    "import importlib\n",
    "import sys \n",
    "import getpass\n",
    "\n",
    "sys.path.append('/home/luca_ltpn/DL-Fleuret/Proj_308427_348143_XXXXXX')\n",
    "sys.path.append('/home/luca_ltpn/DL-Fleuret')\n",
    "from Miniproject_1.model import *\n",
    "\n",
    "import torchvision.transforms as T\n",
    "import matplotlib.pyplot as plt"
   ]
  },
  {
   "cell_type": "code",
   "execution_count": 14,
   "id": "07eabdec",
   "metadata": {},
   "outputs": [],
   "source": [
    "valid_in, valid_tg = torch.load('/home/luca_ltpn/DL-Fleuret/val_data.pkl') #validation set (noise-clean)\n",
    "train_in, train_tg = torch.load('/home/luca_ltpn/DL-Fleuret/train_data.pkl') #test set (noise-noise)\n",
    "\n",
    "cut = 10000\n",
    "valid_in = valid_in.float()/ 255.\n",
    "valid_tg = valid_tg.float()/ 255.\n",
    "train_in = train_in[:cut].float()/ 255.\n",
    "train_tg = train_tg[:cut].float()/ 255."
   ]
  },
  {
   "cell_type": "code",
   "execution_count": 63,
   "id": "19f6c67a",
   "metadata": {},
   "outputs": [],
   "source": [
    "orig_img = (valid_in*255.).byte()"
   ]
  },
  {
   "cell_type": "code",
   "execution_count": null,
   "id": "41f66617",
   "metadata": {},
   "outputs": [],
   "source": []
  },
  {
   "cell_type": "code",
   "execution_count": 64,
   "id": "081b3d89",
   "metadata": {},
   "outputs": [],
   "source": [
    "policies = [T.AutoAugmentPolicy.CIFAR10, T.AutoAugmentPolicy.IMAGENET, T.AutoAugmentPolicy.SVHN]\n",
    "augmenters = [T.AutoAugment(policy) for policy in policies]\n",
    "imgs = [\n",
    "    [augmenter(orig_img) for _ in range(4)]\n",
    "    for augmenter in augmenters\n",
    "]\n",
    "\n",
    "row_title = [str(policy).split('.')[-1] for policy in policies]"
   ]
  },
  {
   "cell_type": "code",
   "execution_count": 68,
   "id": "fcdf5f68",
   "metadata": {},
   "outputs": [
    {
     "data": {
      "text/plain": [
       "<matplotlib.image.AxesImage at 0x7ff2b8ae2160>"
      ]
     },
     "execution_count": 68,
     "metadata": {},
     "output_type": "execute_result"
    },
    {
     "data": {
      "image/png": "[encoded data removed]",
      "text/plain": [
       "<Figure size 432x288 with 1 Axes>"
      ]
     },
     "metadata": {
      "needs_background": "light"
     },
     "output_type": "display_data"
    }
   ],
   "source": [
    "plt.imshow(orig_img[2].permute(1,2,0))"
   ]
  },
  {
   "cell_type": "code",
   "execution_count": 89,
   "id": "878722e8",
   "metadata": {},
   "outputs": [
    {
     "data": {
      "text/plain": [
       "<matplotlib.image.AxesImage at 0x7ff2b859fc70>"
      ]
     },
     "execution_count": 89,
     "metadata": {},
     "output_type": "execute_result"
    },
    {
     "data": {
      "image/png": "[encoded data removed]",
      "text/plain": [
       "<Figure size 432x288 with 1 Axes>"
      ]
     },
     "metadata": {
      "needs_background": "light"
     },
     "output_type": "display_data"
    }
   ],
   "source": [
    "plt.imshow(imgs[2][3][2].permute(1,2,0))"
   ]
  },
  {
   "cell_type": "code",
   "execution_count": null,
   "id": "753d3ca8",
   "metadata": {},
   "outputs": [],
   "source": []
  },
  {
   "cell_type": "code",
   "execution_count": null,
   "id": "4d681a1a",
   "metadata": {},
   "outputs": [],
   "source": []
  }
 ],
 "metadata": {
  "kernelspec": {
   "display_name": "Python 3 (ipykernel)",
   "language": "python",
   "name": "python3"
  },
  "language_info": {
   "codemirror_mode": {
    "name": "ipython",
    "version": 3
   },
   "file_extension": ".py",
   "mimetype": "text/x-python",
   "name": "python",
   "nbconvert_exporter": "python",
   "pygments_lexer": "ipython3",
   "version": "3.9.12"
  }
 },
 "nbformat": 4,
 "nbformat_minor": 5
}
