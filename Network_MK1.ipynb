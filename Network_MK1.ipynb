{
 "cells": [
  {
   "cell_type": "code",
   "execution_count": 1,
   "id": "2cd21fc0",
   "metadata": {},
   "outputs": [],
   "source": [
    "import numpy as np\n",
    "import matplotlib.pyplot as plt\n",
    "import torch\n",
    "import torchvision\n",
    "from torch import nn\n",
    "from torch.nn import functional as F\n",
    "import time\n",
    "\n",
    "from Miniproject_1.model import Model"
   ]
  },
  {
   "cell_type": "code",
   "execution_count": 2,
   "id": "2fda357d",
   "metadata": {},
   "outputs": [],
   "source": [
    "def normalize_dataset(dataset):\n",
    "    for d in dataset:\n",
    "        mean = d.mean([-1,-2])\n",
    "        std  = d.std([-1,-2])\n",
    "        norm = torchvision.transforms.Normalize(mean, std, inplace=True)\n",
    "        norm(d)\n",
    "    return dataset"
   ]
  },
  {
   "cell_type": "code",
   "execution_count": 3,
   "id": "bd08dda7",
   "metadata": {},
   "outputs": [
    {
     "name": "stdout",
     "output_type": "stream",
     "text": [
      "Vector shape:  torch.Size([1000, 3, 32, 32])\n"
     ]
    }
   ],
   "source": [
    "# Load dataset or portion of it\n",
    "\n",
    "device = torch.device('cuda' if torch.cuda.is_available() else 'cpu')\n",
    "\n",
    "valid_input, valid_target = torch.load('val_data.pkl',map_location=device)#validation set (noise-clean)\n",
    "train_input, train_target = torch.load('train_data.pkl',map_location=device) #test set (noise-noise)\n",
    "\n",
    "num_samples = 1000\n",
    "valid_input=torch.narrow(valid_input,0,0,num_samples)\n",
    "valid_target=torch.narrow(valid_target,0,0,num_samples)\n",
    "train_input=torch.narrow(train_input,0,0,num_samples)\n",
    "train_target=torch.narrow(train_target,0,0,num_samples)\n",
    "\n",
    "train_in = normalize_dataset(train_input.float())\n",
    "train_tg = normalize_dataset(train_target.float())\n",
    "\n",
    "print(\"Vector shape: \",train_input.shape)"
   ]
  },
  {
   "cell_type": "code",
   "execution_count": 4,
   "id": "020534c0",
   "metadata": {},
   "outputs": [],
   "source": [
    "# Istantiate network\n",
    "net = Model()"
   ]
  },
  {
   "cell_type": "code",
   "execution_count": 6,
   "id": "cdc5d4bb",
   "metadata": {},
   "outputs": [],
   "source": [
    "# Train the network\n",
    "num_epochs = 2\n",
    "# net.train(train_in, train_tg, num_epochs)\n",
    "out=net.predict(train_in[0])\n",
    "\n",
    "# fig,ax=plt.subplots(1,1,figsize=(3,3))\n",
    "# ax.imshow(out.permute[1,2,0],origin='upper')"
   ]
  },
  {
   "cell_type": "code",
   "execution_count": null,
   "id": "f28dc304",
   "metadata": {},
   "outputs": [],
   "source": [
    "# Visualize input and target\n",
    "\n",
    "fig,ax = plt.subplots(2,2, figsize=(8,8))\n",
    "select = 666\n",
    "\n",
    "ax[0,0].imshow(train_input[select].permute(1,2,0), origin='upper')\n",
    "ax[0,1].imshow(train_target[select].permute(1,2,0), origin='upper')\n",
    "ax[0,0].set_title(\"Training input (noisy)\")\n",
    "ax[0,1].set_title(\"Training target (noisy)\")\n",
    "\n",
    "\n",
    "ax[1,0].imshow(valid_input[select].permute(1,2,0), origin='upper')\n",
    "ax[1,1].imshow(valid_target[select].permute(1,2,0), origin='upper')\n",
    "ax[1,0].set_title(\"Validation input (noisy)\")\n",
    "ax[1,1].set_title(\"Validation target (clean)\");"
   ]
  },
  {
   "cell_type": "code",
   "execution_count": null,
   "id": "f8332d5b",
   "metadata": {},
   "outputs": [],
   "source": [
    "# def training_protocol(nb_epochs, model, criterion, train_input, train_target, val_input, val_target, batch_size):\n",
    "#     #optimizer  = torch.optim.Adam(model.parameters(), lr=5e-4)\n",
    "#     optimizer = torch.optim.SGD(model.parameters(), lr=0.1, momentum=0.9)\n",
    "#     scheduler = torch.optim.lr_scheduler.ReduceLROnPlateau(optimizer, 'min')\n",
    "    \n",
    "#     print(\"Epoch:\\t Tr_Err:\\t  PSNR[dB]:\")\n",
    "#     for epoch in range(nb_epochs):\n",
    "#         loss = traininig_step(model, criterion, optimizer, train_input, train_target, batch_size)\n",
    "#         mse, psnr = validate(model, criterion, val_input, val_target, batch_size) \n",
    "#         scheduler.step(mse)\n",
    "#         print(\"%d\\t %.3f\\t  %.3f\"%(epoch, loss, psnr))\n",
    "            \n",
    "\n",
    "            "
   ]
  },
  {
   "cell_type": "code",
   "execution_count": null,
   "id": "cc8613c9",
   "metadata": {},
   "outputs": [],
   "source": [
    "\n",
    "# model, criterion = Model().to_device(), nn.MSELoss()\n",
    "\n",
    "# batch_size = 500\n",
    "# nb_epochs  = 10"
   ]
  },
  {
   "cell_type": "code",
   "execution_count": null,
   "id": "d58d4284",
   "metadata": {},
   "outputs": [],
   "source": [
    "# start = time.time()\n",
    "# training_protocol(nb_epochs, model, criterion, train_in, train_tg, \\\n",
    "#                   valid_input.float(), valid_target.float(), batch_size)\n",
    "# end = time.time()\n",
    "# print(end - start)"
   ]
  },
  {
   "cell_type": "code",
   "execution_count": null,
   "id": "94101941",
   "metadata": {},
   "outputs": [],
   "source": []
  },
  {
   "cell_type": "code",
   "execution_count": null,
   "id": "fb35efd5",
   "metadata": {},
   "outputs": [],
   "source": [
    "# denoised = model(valid_input.float()).detach()\n",
    "# denoised = denoised/denoised.max()\n",
    "# ground_truth = valid_target.float()\n",
    "# ground_truth = ground_truth/ground_truth.max()\n",
    "# noisy = valid_input.float()\n",
    "# noisy = noisy/noisy.max()\n",
    "\n",
    "# mse = criterion(denoised, ground_truth).item()\n",
    "# -10 * np.log10(mse + 10**-8)"
   ]
  },
  {
   "cell_type": "code",
   "execution_count": null,
   "id": "e743a977",
   "metadata": {},
   "outputs": [],
   "source": [
    "# fig,ax = plt.subplots(1,3, figsize=(15,12))\n",
    "# select = 164\n",
    "\n",
    "# ax[0].imshow(noisy[select].permute(1,2,0), origin='upper')\n",
    "# ax[1].imshow(denoised[select].permute(1,2,0), origin='upper')\n",
    "# ax[2].imshow(ground_truth[select].permute(1,2,0), origin='upper')\n",
    "\n",
    "# ax[0].set_title(\"Validation input (noisy)\")\n",
    "# ax[1].set_title(\"Denoised input)\")\n",
    "# ax[2].set_title(\"Validation target (clean)\");"
   ]
  },
  {
   "cell_type": "code",
   "execution_count": null,
   "id": "0276663e",
   "metadata": {},
   "outputs": [],
   "source": []
  },
  {
   "cell_type": "code",
   "execution_count": null,
   "id": "b699e27c",
   "metadata": {},
   "outputs": [],
   "source": []
  },
  {
   "cell_type": "code",
   "execution_count": null,
   "id": "6e804a42",
   "metadata": {},
   "outputs": [],
   "source": []
  },
  {
   "cell_type": "code",
   "execution_count": null,
   "id": "b1911e90",
   "metadata": {},
   "outputs": [],
   "source": []
  }
 ],
 "metadata": {
  "kernelspec": {
   "display_name": "Python 3 (ipykernel)",
   "language": "python",
   "name": "python3"
  },
  "language_info": {
   "codemirror_mode": {
    "name": "ipython",
    "version": 3
   },
   "file_extension": ".py",
   "mimetype": "text/x-python",
   "name": "python",
   "nbconvert_exporter": "python",
   "pygments_lexer": "ipython3",
   "version": "3.9.7"
  }
 },
 "nbformat": 4,
 "nbformat_minor": 5
}
